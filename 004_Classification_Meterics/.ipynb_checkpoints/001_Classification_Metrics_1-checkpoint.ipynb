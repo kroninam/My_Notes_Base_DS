{
 "cells": [
  {
   "cell_type": "code",
   "execution_count": 11,
   "id": "ecd45073",
   "metadata": {},
   "outputs": [],
   "source": [
    "import numpy as np\n",
    "import pandas as pd"
   ]
  },
  {
   "cell_type": "code",
   "execution_count": 12,
   "id": "72742276",
   "metadata": {},
   "outputs": [],
   "source": [
    "# https://www.kaggle.com/datasets/shubh0799/churn-modelling"
   ]
  },
  {
   "cell_type": "code",
   "execution_count": 13,
   "id": "50a1e505",
   "metadata": {},
   "outputs": [],
   "source": [
    "df = pd.read_csv('archive_churn_modelling/Churn_Modelling.csv')"
   ]
  },
  {
   "cell_type": "code",
   "execution_count": null,
   "id": "50f5631b",
   "metadata": {},
   "outputs": [],
   "source": []
  },
  {
   "cell_type": "markdown",
   "id": "3e285227",
   "metadata": {},
   "source": [
    "# ДЕЛЕНИЕ НА ВЫБОРКИ"
   ]
  },
  {
   "cell_type": "code",
   "execution_count": 14,
   "id": "1c5d1765",
   "metadata": {},
   "outputs": [],
   "source": [
    "from sklearn.model_selection import train_test_split\n",
    "\n",
    "# чтобы избегать неравносмерности доли целевого параметра нужно задавать startify\n",
    "\n",
    "train, test = train_test_split(df, train_size = 0.6, random_state = 42, stratify = df['Exited'])"
   ]
  },
  {
   "cell_type": "code",
   "execution_count": 15,
   "id": "07e5f612",
   "metadata": {},
   "outputs": [],
   "source": [
    "val, test = train_test_split(test, train_size = 0.5, random_state = 42, stratify = test['Exited'])"
   ]
  },
  {
   "cell_type": "code",
   "execution_count": null,
   "id": "6503d3de",
   "metadata": {},
   "outputs": [],
   "source": []
  },
  {
   "cell_type": "markdown",
   "id": "cf10890f",
   "metadata": {},
   "source": [
    "# ЧЕЛОВЕЧЕСКОЕ ОБУЧЕНИЕ НА ДВУХ ФИЧАХ"
   ]
  },
  {
   "cell_type": "code",
   "execution_count": 16,
   "id": "2ca93d9c",
   "metadata": {},
   "outputs": [],
   "source": [
    "# в человеческом обучении val не нужен, поэтому соединяем с train чтобы данных было больше\n",
    "train_val = pd.concat([train, val])"
   ]
  },
  {
   "cell_type": "code",
   "execution_count": 17,
   "id": "e77e9eac",
   "metadata": {
    "scrolled": true
   },
   "outputs": [
    {
     "data": {
      "text/html": [
       "<div>\n",
       "<style scoped>\n",
       "    .dataframe tbody tr th:only-of-type {\n",
       "        vertical-align: middle;\n",
       "    }\n",
       "\n",
       "    .dataframe tbody tr th {\n",
       "        vertical-align: top;\n",
       "    }\n",
       "\n",
       "    .dataframe thead th {\n",
       "        text-align: right;\n",
       "    }\n",
       "</style>\n",
       "<table border=\"1\" class=\"dataframe\">\n",
       "  <thead>\n",
       "    <tr style=\"text-align: right;\">\n",
       "      <th></th>\n",
       "      <th>RowNumber</th>\n",
       "      <th>CustomerId</th>\n",
       "      <th>Surname</th>\n",
       "      <th>CreditScore</th>\n",
       "      <th>Geography</th>\n",
       "      <th>Gender</th>\n",
       "      <th>Age</th>\n",
       "      <th>Tenure</th>\n",
       "      <th>Balance</th>\n",
       "      <th>NumOfProducts</th>\n",
       "      <th>HasCrCard</th>\n",
       "      <th>IsActiveMember</th>\n",
       "      <th>EstimatedSalary</th>\n",
       "      <th>Exited</th>\n",
       "    </tr>\n",
       "  </thead>\n",
       "  <tbody>\n",
       "    <tr>\n",
       "      <th>6851</th>\n",
       "      <td>6852</td>\n",
       "      <td>15779103</td>\n",
       "      <td>Cantamessa</td>\n",
       "      <td>527</td>\n",
       "      <td>Germany</td>\n",
       "      <td>Female</td>\n",
       "      <td>39</td>\n",
       "      <td>9</td>\n",
       "      <td>96748.89</td>\n",
       "      <td>2</td>\n",
       "      <td>1</td>\n",
       "      <td>0</td>\n",
       "      <td>94711.43</td>\n",
       "      <td>0</td>\n",
       "    </tr>\n",
       "    <tr>\n",
       "      <th>7026</th>\n",
       "      <td>7027</td>\n",
       "      <td>15588123</td>\n",
       "      <td>Horton</td>\n",
       "      <td>677</td>\n",
       "      <td>France</td>\n",
       "      <td>Female</td>\n",
       "      <td>27</td>\n",
       "      <td>2</td>\n",
       "      <td>0.00</td>\n",
       "      <td>2</td>\n",
       "      <td>0</td>\n",
       "      <td>1</td>\n",
       "      <td>114685.92</td>\n",
       "      <td>0</td>\n",
       "    </tr>\n",
       "    <tr>\n",
       "      <th>5705</th>\n",
       "      <td>5706</td>\n",
       "      <td>15698703</td>\n",
       "      <td>Doherty</td>\n",
       "      <td>628</td>\n",
       "      <td>Germany</td>\n",
       "      <td>Male</td>\n",
       "      <td>40</td>\n",
       "      <td>5</td>\n",
       "      <td>181768.32</td>\n",
       "      <td>2</td>\n",
       "      <td>1</td>\n",
       "      <td>1</td>\n",
       "      <td>129107.97</td>\n",
       "      <td>0</td>\n",
       "    </tr>\n",
       "  </tbody>\n",
       "</table>\n",
       "</div>"
      ],
      "text/plain": [
       "      RowNumber  CustomerId     Surname  CreditScore Geography  Gender  Age  \\\n",
       "6851       6852    15779103  Cantamessa          527   Germany  Female   39   \n",
       "7026       7027    15588123      Horton          677    France  Female   27   \n",
       "5705       5706    15698703     Doherty          628   Germany    Male   40   \n",
       "\n",
       "      Tenure    Balance  NumOfProducts  HasCrCard  IsActiveMember  \\\n",
       "6851       9   96748.89              2          1               0   \n",
       "7026       2       0.00              2          0               1   \n",
       "5705       5  181768.32              2          1               1   \n",
       "\n",
       "      EstimatedSalary  Exited  \n",
       "6851         94711.43       0  \n",
       "7026        114685.92       0  \n",
       "5705        129107.97       0  "
      ]
     },
     "execution_count": 17,
     "metadata": {},
     "output_type": "execute_result"
    }
   ],
   "source": [
    "train_val.head(3)"
   ]
  },
  {
   "cell_type": "code",
   "execution_count": 18,
   "id": "6c8bf83d",
   "metadata": {},
   "outputs": [],
   "source": [
    "# так как Age переменная непрерывная - делим ее на группы:\n",
    "train_val['age_group'] = pd.cut(train_val['Age'], [0, 31, 35, 40, 46, 99])"
   ]
  },
  {
   "cell_type": "code",
   "execution_count": 19,
   "id": "db1c1063",
   "metadata": {},
   "outputs": [
    {
     "data": {
      "text/html": [
       "<div>\n",
       "<style scoped>\n",
       "    .dataframe tbody tr th:only-of-type {\n",
       "        vertical-align: middle;\n",
       "    }\n",
       "\n",
       "    .dataframe tbody tr th {\n",
       "        vertical-align: top;\n",
       "    }\n",
       "\n",
       "    .dataframe thead th {\n",
       "        text-align: right;\n",
       "    }\n",
       "</style>\n",
       "<table border=\"1\" class=\"dataframe\">\n",
       "  <thead>\n",
       "    <tr style=\"text-align: right;\">\n",
       "      <th></th>\n",
       "      <th>NumOfProducts</th>\n",
       "      <th>age_group</th>\n",
       "      <th>Exited</th>\n",
       "    </tr>\n",
       "  </thead>\n",
       "  <tbody>\n",
       "    <tr>\n",
       "      <th>0</th>\n",
       "      <td>1</td>\n",
       "      <td>(0, 31]</td>\n",
       "      <td>0.106774</td>\n",
       "    </tr>\n",
       "    <tr>\n",
       "      <th>1</th>\n",
       "      <td>1</td>\n",
       "      <td>(31, 35]</td>\n",
       "      <td>0.135908</td>\n",
       "    </tr>\n",
       "    <tr>\n",
       "      <th>2</th>\n",
       "      <td>1</td>\n",
       "      <td>(35, 40]</td>\n",
       "      <td>0.198646</td>\n",
       "    </tr>\n",
       "    <tr>\n",
       "      <th>3</th>\n",
       "      <td>1</td>\n",
       "      <td>(40, 46]</td>\n",
       "      <td>0.378873</td>\n",
       "    </tr>\n",
       "    <tr>\n",
       "      <th>4</th>\n",
       "      <td>1</td>\n",
       "      <td>(46, 99]</td>\n",
       "      <td>0.542506</td>\n",
       "    </tr>\n",
       "    <tr>\n",
       "      <th>5</th>\n",
       "      <td>2</td>\n",
       "      <td>(0, 31]</td>\n",
       "      <td>0.029293</td>\n",
       "    </tr>\n",
       "    <tr>\n",
       "      <th>6</th>\n",
       "      <td>2</td>\n",
       "      <td>(31, 35]</td>\n",
       "      <td>0.031206</td>\n",
       "    </tr>\n",
       "    <tr>\n",
       "      <th>7</th>\n",
       "      <td>2</td>\n",
       "      <td>(35, 40]</td>\n",
       "      <td>0.059977</td>\n",
       "    </tr>\n",
       "    <tr>\n",
       "      <th>8</th>\n",
       "      <td>2</td>\n",
       "      <td>(40, 46]</td>\n",
       "      <td>0.106239</td>\n",
       "    </tr>\n",
       "    <tr>\n",
       "      <th>9</th>\n",
       "      <td>2</td>\n",
       "      <td>(46, 99]</td>\n",
       "      <td>0.225869</td>\n",
       "    </tr>\n",
       "    <tr>\n",
       "      <th>10</th>\n",
       "      <td>3</td>\n",
       "      <td>(0, 31]</td>\n",
       "      <td>0.562500</td>\n",
       "    </tr>\n",
       "    <tr>\n",
       "      <th>11</th>\n",
       "      <td>3</td>\n",
       "      <td>(31, 35]</td>\n",
       "      <td>0.647059</td>\n",
       "    </tr>\n",
       "    <tr>\n",
       "      <th>12</th>\n",
       "      <td>3</td>\n",
       "      <td>(35, 40]</td>\n",
       "      <td>0.783784</td>\n",
       "    </tr>\n",
       "    <tr>\n",
       "      <th>13</th>\n",
       "      <td>3</td>\n",
       "      <td>(40, 46]</td>\n",
       "      <td>0.900000</td>\n",
       "    </tr>\n",
       "    <tr>\n",
       "      <th>14</th>\n",
       "      <td>3</td>\n",
       "      <td>(46, 99]</td>\n",
       "      <td>0.945205</td>\n",
       "    </tr>\n",
       "    <tr>\n",
       "      <th>15</th>\n",
       "      <td>4</td>\n",
       "      <td>(0, 31]</td>\n",
       "      <td>1.000000</td>\n",
       "    </tr>\n",
       "    <tr>\n",
       "      <th>16</th>\n",
       "      <td>4</td>\n",
       "      <td>(31, 35]</td>\n",
       "      <td>1.000000</td>\n",
       "    </tr>\n",
       "    <tr>\n",
       "      <th>17</th>\n",
       "      <td>4</td>\n",
       "      <td>(35, 40]</td>\n",
       "      <td>1.000000</td>\n",
       "    </tr>\n",
       "    <tr>\n",
       "      <th>18</th>\n",
       "      <td>4</td>\n",
       "      <td>(40, 46]</td>\n",
       "      <td>1.000000</td>\n",
       "    </tr>\n",
       "    <tr>\n",
       "      <th>19</th>\n",
       "      <td>4</td>\n",
       "      <td>(46, 99]</td>\n",
       "      <td>1.000000</td>\n",
       "    </tr>\n",
       "  </tbody>\n",
       "</table>\n",
       "</div>"
      ],
      "text/plain": [
       "    NumOfProducts age_group    Exited\n",
       "0               1   (0, 31]  0.106774\n",
       "1               1  (31, 35]  0.135908\n",
       "2               1  (35, 40]  0.198646\n",
       "3               1  (40, 46]  0.378873\n",
       "4               1  (46, 99]  0.542506\n",
       "5               2   (0, 31]  0.029293\n",
       "6               2  (31, 35]  0.031206\n",
       "7               2  (35, 40]  0.059977\n",
       "8               2  (40, 46]  0.106239\n",
       "9               2  (46, 99]  0.225869\n",
       "10              3   (0, 31]  0.562500\n",
       "11              3  (31, 35]  0.647059\n",
       "12              3  (35, 40]  0.783784\n",
       "13              3  (40, 46]  0.900000\n",
       "14              3  (46, 99]  0.945205\n",
       "15              4   (0, 31]  1.000000\n",
       "16              4  (31, 35]  1.000000\n",
       "17              4  (35, 40]  1.000000\n",
       "18              4  (40, 46]  1.000000\n",
       "19              4  (46, 99]  1.000000"
      ]
     },
     "execution_count": 19,
     "metadata": {},
     "output_type": "execute_result"
    }
   ],
   "source": [
    "# получаем модель\n",
    "model = train_val.groupby(['NumOfProducts', 'age_group'])['Exited'].agg('mean').reset_index()\n",
    "model"
   ]
  },
  {
   "cell_type": "code",
   "execution_count": 20,
   "id": "9589ebc4",
   "metadata": {},
   "outputs": [],
   "source": [
    "# Переименовываем колонки, чтобы не было повторных названий типо Exited_x, Exited_y\n",
    "model.columns = ['NumOfProducts', 'age_group', 'score_prod_age']"
   ]
  },
  {
   "cell_type": "code",
   "execution_count": 21,
   "id": "08df8c9b",
   "metadata": {},
   "outputs": [
    {
     "data": {
      "text/html": [
       "<div>\n",
       "<style scoped>\n",
       "    .dataframe tbody tr th:only-of-type {\n",
       "        vertical-align: middle;\n",
       "    }\n",
       "\n",
       "    .dataframe tbody tr th {\n",
       "        vertical-align: top;\n",
       "    }\n",
       "\n",
       "    .dataframe thead th {\n",
       "        text-align: right;\n",
       "    }\n",
       "</style>\n",
       "<table border=\"1\" class=\"dataframe\">\n",
       "  <thead>\n",
       "    <tr style=\"text-align: right;\">\n",
       "      <th></th>\n",
       "      <th>NumOfProducts</th>\n",
       "      <th>age_group</th>\n",
       "      <th>score_prod_age</th>\n",
       "    </tr>\n",
       "  </thead>\n",
       "  <tbody>\n",
       "    <tr>\n",
       "      <th>0</th>\n",
       "      <td>1</td>\n",
       "      <td>(0, 31]</td>\n",
       "      <td>0.106774</td>\n",
       "    </tr>\n",
       "    <tr>\n",
       "      <th>1</th>\n",
       "      <td>1</td>\n",
       "      <td>(31, 35]</td>\n",
       "      <td>0.135908</td>\n",
       "    </tr>\n",
       "    <tr>\n",
       "      <th>2</th>\n",
       "      <td>1</td>\n",
       "      <td>(35, 40]</td>\n",
       "      <td>0.198646</td>\n",
       "    </tr>\n",
       "    <tr>\n",
       "      <th>3</th>\n",
       "      <td>1</td>\n",
       "      <td>(40, 46]</td>\n",
       "      <td>0.378873</td>\n",
       "    </tr>\n",
       "    <tr>\n",
       "      <th>4</th>\n",
       "      <td>1</td>\n",
       "      <td>(46, 99]</td>\n",
       "      <td>0.542506</td>\n",
       "    </tr>\n",
       "    <tr>\n",
       "      <th>5</th>\n",
       "      <td>2</td>\n",
       "      <td>(0, 31]</td>\n",
       "      <td>0.029293</td>\n",
       "    </tr>\n",
       "    <tr>\n",
       "      <th>6</th>\n",
       "      <td>2</td>\n",
       "      <td>(31, 35]</td>\n",
       "      <td>0.031206</td>\n",
       "    </tr>\n",
       "    <tr>\n",
       "      <th>7</th>\n",
       "      <td>2</td>\n",
       "      <td>(35, 40]</td>\n",
       "      <td>0.059977</td>\n",
       "    </tr>\n",
       "    <tr>\n",
       "      <th>8</th>\n",
       "      <td>2</td>\n",
       "      <td>(40, 46]</td>\n",
       "      <td>0.106239</td>\n",
       "    </tr>\n",
       "    <tr>\n",
       "      <th>9</th>\n",
       "      <td>2</td>\n",
       "      <td>(46, 99]</td>\n",
       "      <td>0.225869</td>\n",
       "    </tr>\n",
       "    <tr>\n",
       "      <th>10</th>\n",
       "      <td>3</td>\n",
       "      <td>(0, 31]</td>\n",
       "      <td>0.562500</td>\n",
       "    </tr>\n",
       "    <tr>\n",
       "      <th>11</th>\n",
       "      <td>3</td>\n",
       "      <td>(31, 35]</td>\n",
       "      <td>0.647059</td>\n",
       "    </tr>\n",
       "    <tr>\n",
       "      <th>12</th>\n",
       "      <td>3</td>\n",
       "      <td>(35, 40]</td>\n",
       "      <td>0.783784</td>\n",
       "    </tr>\n",
       "    <tr>\n",
       "      <th>13</th>\n",
       "      <td>3</td>\n",
       "      <td>(40, 46]</td>\n",
       "      <td>0.900000</td>\n",
       "    </tr>\n",
       "    <tr>\n",
       "      <th>14</th>\n",
       "      <td>3</td>\n",
       "      <td>(46, 99]</td>\n",
       "      <td>0.945205</td>\n",
       "    </tr>\n",
       "    <tr>\n",
       "      <th>15</th>\n",
       "      <td>4</td>\n",
       "      <td>(0, 31]</td>\n",
       "      <td>1.000000</td>\n",
       "    </tr>\n",
       "    <tr>\n",
       "      <th>16</th>\n",
       "      <td>4</td>\n",
       "      <td>(31, 35]</td>\n",
       "      <td>1.000000</td>\n",
       "    </tr>\n",
       "    <tr>\n",
       "      <th>17</th>\n",
       "      <td>4</td>\n",
       "      <td>(35, 40]</td>\n",
       "      <td>1.000000</td>\n",
       "    </tr>\n",
       "    <tr>\n",
       "      <th>18</th>\n",
       "      <td>4</td>\n",
       "      <td>(40, 46]</td>\n",
       "      <td>1.000000</td>\n",
       "    </tr>\n",
       "    <tr>\n",
       "      <th>19</th>\n",
       "      <td>4</td>\n",
       "      <td>(46, 99]</td>\n",
       "      <td>1.000000</td>\n",
       "    </tr>\n",
       "  </tbody>\n",
       "</table>\n",
       "</div>"
      ],
      "text/plain": [
       "    NumOfProducts age_group  score_prod_age\n",
       "0               1   (0, 31]        0.106774\n",
       "1               1  (31, 35]        0.135908\n",
       "2               1  (35, 40]        0.198646\n",
       "3               1  (40, 46]        0.378873\n",
       "4               1  (46, 99]        0.542506\n",
       "5               2   (0, 31]        0.029293\n",
       "6               2  (31, 35]        0.031206\n",
       "7               2  (35, 40]        0.059977\n",
       "8               2  (40, 46]        0.106239\n",
       "9               2  (46, 99]        0.225869\n",
       "10              3   (0, 31]        0.562500\n",
       "11              3  (31, 35]        0.647059\n",
       "12              3  (35, 40]        0.783784\n",
       "13              3  (40, 46]        0.900000\n",
       "14              3  (46, 99]        0.945205\n",
       "15              4   (0, 31]        1.000000\n",
       "16              4  (31, 35]        1.000000\n",
       "17              4  (35, 40]        1.000000\n",
       "18              4  (40, 46]        1.000000\n",
       "19              4  (46, 99]        1.000000"
      ]
     },
     "execution_count": 21,
     "metadata": {},
     "output_type": "execute_result"
    }
   ],
   "source": [
    "model"
   ]
  },
  {
   "cell_type": "code",
   "execution_count": 22,
   "id": "a1abf836",
   "metadata": {},
   "outputs": [],
   "source": [
    "# Мёржим модель к train_val\n",
    "\n",
    "train_val = pd.merge(train_val, model, how = 'left', on = ['NumOfProducts', 'age_group'])"
   ]
  },
  {
   "cell_type": "code",
   "execution_count": 23,
   "id": "e1c924b8",
   "metadata": {},
   "outputs": [
    {
     "data": {
      "text/html": [
       "<div>\n",
       "<style scoped>\n",
       "    .dataframe tbody tr th:only-of-type {\n",
       "        vertical-align: middle;\n",
       "    }\n",
       "\n",
       "    .dataframe tbody tr th {\n",
       "        vertical-align: top;\n",
       "    }\n",
       "\n",
       "    .dataframe thead th {\n",
       "        text-align: right;\n",
       "    }\n",
       "</style>\n",
       "<table border=\"1\" class=\"dataframe\">\n",
       "  <thead>\n",
       "    <tr style=\"text-align: right;\">\n",
       "      <th></th>\n",
       "      <th>RowNumber</th>\n",
       "      <th>CustomerId</th>\n",
       "      <th>Surname</th>\n",
       "      <th>CreditScore</th>\n",
       "      <th>Geography</th>\n",
       "      <th>Gender</th>\n",
       "      <th>Age</th>\n",
       "      <th>Tenure</th>\n",
       "      <th>Balance</th>\n",
       "      <th>NumOfProducts</th>\n",
       "      <th>HasCrCard</th>\n",
       "      <th>IsActiveMember</th>\n",
       "      <th>EstimatedSalary</th>\n",
       "      <th>Exited</th>\n",
       "      <th>age_group</th>\n",
       "      <th>score_prod_age</th>\n",
       "    </tr>\n",
       "  </thead>\n",
       "  <tbody>\n",
       "    <tr>\n",
       "      <th>0</th>\n",
       "      <td>6852</td>\n",
       "      <td>15779103</td>\n",
       "      <td>Cantamessa</td>\n",
       "      <td>527</td>\n",
       "      <td>Germany</td>\n",
       "      <td>Female</td>\n",
       "      <td>39</td>\n",
       "      <td>9</td>\n",
       "      <td>96748.89</td>\n",
       "      <td>2</td>\n",
       "      <td>1</td>\n",
       "      <td>0</td>\n",
       "      <td>94711.43</td>\n",
       "      <td>0</td>\n",
       "      <td>(35, 40]</td>\n",
       "      <td>0.059977</td>\n",
       "    </tr>\n",
       "    <tr>\n",
       "      <th>1</th>\n",
       "      <td>7027</td>\n",
       "      <td>15588123</td>\n",
       "      <td>Horton</td>\n",
       "      <td>677</td>\n",
       "      <td>France</td>\n",
       "      <td>Female</td>\n",
       "      <td>27</td>\n",
       "      <td>2</td>\n",
       "      <td>0.00</td>\n",
       "      <td>2</td>\n",
       "      <td>0</td>\n",
       "      <td>1</td>\n",
       "      <td>114685.92</td>\n",
       "      <td>0</td>\n",
       "      <td>(0, 31]</td>\n",
       "      <td>0.029293</td>\n",
       "    </tr>\n",
       "    <tr>\n",
       "      <th>2</th>\n",
       "      <td>5706</td>\n",
       "      <td>15698703</td>\n",
       "      <td>Doherty</td>\n",
       "      <td>628</td>\n",
       "      <td>Germany</td>\n",
       "      <td>Male</td>\n",
       "      <td>40</td>\n",
       "      <td>5</td>\n",
       "      <td>181768.32</td>\n",
       "      <td>2</td>\n",
       "      <td>1</td>\n",
       "      <td>1</td>\n",
       "      <td>129107.97</td>\n",
       "      <td>0</td>\n",
       "      <td>(35, 40]</td>\n",
       "      <td>0.059977</td>\n",
       "    </tr>\n",
       "  </tbody>\n",
       "</table>\n",
       "</div>"
      ],
      "text/plain": [
       "   RowNumber  CustomerId     Surname  CreditScore Geography  Gender  Age  \\\n",
       "0       6852    15779103  Cantamessa          527   Germany  Female   39   \n",
       "1       7027    15588123      Horton          677    France  Female   27   \n",
       "2       5706    15698703     Doherty          628   Germany    Male   40   \n",
       "\n",
       "   Tenure    Balance  NumOfProducts  HasCrCard  IsActiveMember  \\\n",
       "0       9   96748.89              2          1               0   \n",
       "1       2       0.00              2          0               1   \n",
       "2       5  181768.32              2          1               1   \n",
       "\n",
       "   EstimatedSalary  Exited age_group  score_prod_age  \n",
       "0         94711.43       0  (35, 40]        0.059977  \n",
       "1        114685.92       0   (0, 31]        0.029293  \n",
       "2        129107.97       0  (35, 40]        0.059977  "
      ]
     },
     "execution_count": 23,
     "metadata": {},
     "output_type": "execute_result"
    }
   ],
   "source": [
    "train_val.head(3)"
   ]
  },
  {
   "cell_type": "code",
   "execution_count": null,
   "id": "c6accb77",
   "metadata": {},
   "outputs": [],
   "source": []
  },
  {
   "cell_type": "code",
   "execution_count": 24,
   "id": "cec5e78b",
   "metadata": {},
   "outputs": [
    {
     "name": "stdout",
     "output_type": "stream",
     "text": [
      "0.3866695862492173\n"
     ]
    }
   ],
   "source": [
    "# Считаем метрику log_loss:\n",
    "    \n",
    "from sklearn.metrics import log_loss\n",
    "\n",
    "# теперь ошибка log_loss для модели с двумя параметрами:\n",
    "print(log_loss(train_val['Exited'], train_val['score_prod_age']))"
   ]
  },
  {
   "cell_type": "code",
   "execution_count": 25,
   "id": "58fe0ec4",
   "metadata": {},
   "outputs": [],
   "source": [
    "# Функция для uplift:\n",
    "\n",
    "# функция принмает df, определенный столбец со SCORE и pct - это сколько процентов выборки мы берем:\n",
    "def uplift(df, score, pct):\n",
    "    # посчитаем сколько всего в выборке отточных клиентов:\n",
    "    exited_all = df['Exited'].sum()\n",
    "    \n",
    "    # отсортируем df по SCORE:\n",
    "    df_sorted = df.sort_values(by = score, ascending = False)\n",
    "    \n",
    "    \n",
    "    # теперь надо взять топ-20% этой отсортированной выборки:\n",
    "\n",
    "    # получаем количество записей которые будут соответствовать pct % всей выборки:\n",
    "    sorted_20 = round(len(df) * pct)\n",
    "    \n",
    "    # посчитаем сколько отточников нашлось в этих сортированных по score_prod строках:\n",
    "    exited_found = df_sorted.head(sorted_20)['Exited'].sum()\n",
    "    \n",
    "    return (exited_found / exited_all) / pct "
   ]
  },
  {
   "cell_type": "code",
   "execution_count": 26,
   "id": "037063de",
   "metadata": {},
   "outputs": [
    {
     "data": {
      "text/plain": [
       "2.684049079754601"
      ]
     },
     "execution_count": 26,
     "metadata": {},
     "output_type": "execute_result"
    }
   ],
   "source": [
    "# Считаем метрику uplift:\n",
    "\n",
    "uplift(train_val, 'score_prod_age', 0.2)"
   ]
  },
  {
   "cell_type": "code",
   "execution_count": 27,
   "id": "6569bb46",
   "metadata": {},
   "outputs": [],
   "source": [
    "# проверка модели на тесте:\n",
    "\n",
    "# Добавляем к test age_group:\n",
    "test['age_group'] = pd.cut(test['Age'], [0, 31, 35, 40, 46, 99])\n",
    "\n",
    "# Мёржим модель к test:\n",
    "test = pd.merge(test, model, how = 'left', on = ['NumOfProducts', 'age_group'])"
   ]
  },
  {
   "cell_type": "code",
   "execution_count": 28,
   "id": "fb2be7b0",
   "metadata": {},
   "outputs": [
    {
     "name": "stdout",
     "output_type": "stream",
     "text": [
      "0.3870707514157596\n"
     ]
    }
   ],
   "source": [
    "# Считаем метрику log_loss на тесте:\n",
    "    \n",
    "from sklearn.metrics import log_loss\n",
    "\n",
    "# теперь ошибка log_loss для модели с двумя параметрами:\n",
    "print(log_loss(test['Exited'], test['score_prod_age']))"
   ]
  },
  {
   "cell_type": "code",
   "execution_count": 29,
   "id": "7d6b0f28",
   "metadata": {},
   "outputs": [
    {
     "data": {
      "text/plain": [
       "2.7518427518427515"
      ]
     },
     "execution_count": 29,
     "metadata": {},
     "output_type": "execute_result"
    }
   ],
   "source": [
    "# Считаем метрику uplift на тесте:\n",
    "\n",
    "uplift(test, 'score_prod_age', 0.2)"
   ]
  },
  {
   "cell_type": "code",
   "execution_count": null,
   "id": "fe69cf5f",
   "metadata": {},
   "outputs": [],
   "source": []
  },
  {
   "cell_type": "markdown",
   "id": "bbb019b2",
   "metadata": {},
   "source": [
    "# МАШИННОЕ ОБУЧЕНИЕ НА ДВУХ ФИЧАХ"
   ]
  },
  {
   "cell_type": "code",
   "execution_count": 30,
   "id": "b15f3d85",
   "metadata": {},
   "outputs": [],
   "source": [
    "from catboost import CatBoostClassifier"
   ]
  },
  {
   "cell_type": "code",
   "execution_count": 31,
   "id": "0babc844",
   "metadata": {},
   "outputs": [],
   "source": [
    "# обучимся на тех фичах, на которых делали человеческое обучение:\n",
    "\n",
    "X = ['NumOfProducts', 'Age']\n",
    "y = ['Exited']\n",
    "# не задаем список категориальных фичей, потому что все выбранные фичи - числовые."
   ]
  },
  {
   "cell_type": "code",
   "execution_count": 32,
   "id": "9cf27a58",
   "metadata": {},
   "outputs": [],
   "source": [
    "# создаем параметры: 'learning_rate': сначала не задавали, потом 0.03, потом - 0.01 (добиваемся конечной итерации ближе к 998)\n",
    "\n",
    "params = {'verbose':100,\n",
    "         'random_seed': 42,\n",
    "         'learning_rate': 0.01}"
   ]
  },
  {
   "cell_type": "code",
   "execution_count": 33,
   "id": "6755977c",
   "metadata": {},
   "outputs": [],
   "source": [
    "# создаем модель с этими параметрами:\n",
    "\n",
    "model_1 = CatBoostClassifier(**params)"
   ]
  },
  {
   "cell_type": "code",
   "execution_count": 34,
   "id": "8551bc4b",
   "metadata": {},
   "outputs": [
    {
     "name": "stdout",
     "output_type": "stream",
     "text": [
      "0:\tlearn: 0.6853477\ttest: 0.6855086\tbest: 0.6855086 (0)\ttotal: 145ms\tremaining: 2m 24s\n",
      "100:\tlearn: 0.4128869\ttest: 0.4105421\tbest: 0.4105421 (100)\ttotal: 381ms\tremaining: 3.39s\n",
      "200:\tlearn: 0.3835957\ttest: 0.3780931\tbest: 0.3780931 (200)\ttotal: 620ms\tremaining: 2.46s\n",
      "300:\tlearn: 0.3780929\ttest: 0.3709267\tbest: 0.3709267 (300)\ttotal: 851ms\tremaining: 1.98s\n",
      "400:\tlearn: 0.3765599\ttest: 0.3689138\tbest: 0.3689138 (400)\ttotal: 1.07s\tremaining: 1.6s\n",
      "500:\tlearn: 0.3758081\ttest: 0.3679196\tbest: 0.3679196 (500)\ttotal: 1.3s\tremaining: 1.3s\n",
      "600:\tlearn: 0.3753557\ttest: 0.3674833\tbest: 0.3674827 (599)\ttotal: 1.52s\tremaining: 1.01s\n",
      "700:\tlearn: 0.3749021\ttest: 0.3672342\tbest: 0.3672338 (696)\ttotal: 1.75s\tremaining: 748ms\n",
      "800:\tlearn: 0.3744683\ttest: 0.3670441\tbest: 0.3670390 (799)\ttotal: 1.98s\tremaining: 492ms\n",
      "900:\tlearn: 0.3739802\ttest: 0.3667761\tbest: 0.3667761 (900)\ttotal: 2.19s\tremaining: 241ms\n",
      "999:\tlearn: 0.3733406\ttest: 0.3666605\tbest: 0.3666506 (979)\ttotal: 2.43s\tremaining: 0us\n",
      "\n",
      "bestTest = 0.3666505554\n",
      "bestIteration = 979\n",
      "\n",
      "Shrink model to first 980 iterations.\n"
     ]
    },
    {
     "data": {
      "text/plain": [
       "<catboost.core.CatBoostClassifier at 0x17cced4f8b0>"
      ]
     },
     "execution_count": 34,
     "metadata": {},
     "output_type": "execute_result"
    }
   ],
   "source": [
    "# запускаем обучение:\n",
    "\n",
    "model_1.fit(train[X], train[y], eval_set = (val[X], val[y]))"
   ]
  },
  {
   "cell_type": "code",
   "execution_count": 35,
   "id": "68092386",
   "metadata": {},
   "outputs": [
    {
     "data": {
      "text/plain": [
       "array([[0.90204985, 0.09795015],\n",
       "       [0.87651511, 0.12348489],\n",
       "       [0.80322442, 0.19677558],\n",
       "       ...,\n",
       "       [0.87582238, 0.12417762],\n",
       "       [0.94813726, 0.05186274],\n",
       "       [0.94339253, 0.05660747]])"
      ]
     },
     "execution_count": 35,
     "metadata": {},
     "output_type": "execute_result"
    }
   ],
   "source": [
    "# проверка модели на тесте:\n",
    "\n",
    "# при помощи model.predict_proba() - получаем две колонки SCORE - скор на то что чел останется, скор на то что чел уйдет:\n",
    "# в сумме эти скоры для каждого человека равны 1\n",
    "\n",
    "model_1.predict_proba(test[X])"
   ]
  },
  {
   "cell_type": "code",
   "execution_count": 36,
   "id": "73db6ad1",
   "metadata": {},
   "outputs": [
    {
     "data": {
      "text/plain": [
       "array([0.09795015, 0.12348489, 0.19677558, ..., 0.12417762, 0.05186274,\n",
       "       0.05660747])"
      ]
     },
     "execution_count": 36,
     "metadata": {},
     "output_type": "execute_result"
    }
   ],
   "source": [
    "# в данном случае нам нужен скор только на отток (Exited):\n",
    "\n",
    "model_1.predict_proba(test[X])[:, 1]"
   ]
  },
  {
   "cell_type": "code",
   "execution_count": 37,
   "id": "07eea56d",
   "metadata": {},
   "outputs": [],
   "source": [
    "# добавим колонку со SCORE на отток в тестовую выборку:\n",
    "\n",
    "test['machine_prod_age'] = model_1.predict_proba(test[X])[:, 1]"
   ]
  },
  {
   "cell_type": "code",
   "execution_count": 38,
   "id": "c3148295",
   "metadata": {},
   "outputs": [],
   "source": [
    "# еще добавим BaseLine - среднее значение по тестовой выборке: для общего сравнения всех подходов:\n",
    "test['Baseline'] = test['Exited'].mean()"
   ]
  },
  {
   "cell_type": "code",
   "execution_count": 39,
   "id": "37f968e1",
   "metadata": {
    "scrolled": true
   },
   "outputs": [
    {
     "data": {
      "text/html": [
       "<div>\n",
       "<style scoped>\n",
       "    .dataframe tbody tr th:only-of-type {\n",
       "        vertical-align: middle;\n",
       "    }\n",
       "\n",
       "    .dataframe tbody tr th {\n",
       "        vertical-align: top;\n",
       "    }\n",
       "\n",
       "    .dataframe thead th {\n",
       "        text-align: right;\n",
       "    }\n",
       "</style>\n",
       "<table border=\"1\" class=\"dataframe\">\n",
       "  <thead>\n",
       "    <tr style=\"text-align: right;\">\n",
       "      <th></th>\n",
       "      <th>RowNumber</th>\n",
       "      <th>CustomerId</th>\n",
       "      <th>Surname</th>\n",
       "      <th>CreditScore</th>\n",
       "      <th>Geography</th>\n",
       "      <th>Gender</th>\n",
       "      <th>Age</th>\n",
       "      <th>Tenure</th>\n",
       "      <th>Balance</th>\n",
       "      <th>NumOfProducts</th>\n",
       "      <th>HasCrCard</th>\n",
       "      <th>IsActiveMember</th>\n",
       "      <th>EstimatedSalary</th>\n",
       "      <th>Exited</th>\n",
       "      <th>age_group</th>\n",
       "      <th>score_prod_age</th>\n",
       "      <th>machine_prod_age</th>\n",
       "      <th>Baseline</th>\n",
       "    </tr>\n",
       "  </thead>\n",
       "  <tbody>\n",
       "    <tr>\n",
       "      <th>0</th>\n",
       "      <td>9168</td>\n",
       "      <td>15645353</td>\n",
       "      <td>Chubb</td>\n",
       "      <td>607</td>\n",
       "      <td>France</td>\n",
       "      <td>Male</td>\n",
       "      <td>26</td>\n",
       "      <td>1</td>\n",
       "      <td>0.00</td>\n",
       "      <td>1</td>\n",
       "      <td>1</td>\n",
       "      <td>0</td>\n",
       "      <td>29818.20</td>\n",
       "      <td>0</td>\n",
       "      <td>(0, 31]</td>\n",
       "      <td>0.106774</td>\n",
       "      <td>0.097950</td>\n",
       "      <td>0.2035</td>\n",
       "    </tr>\n",
       "    <tr>\n",
       "      <th>1</th>\n",
       "      <td>9388</td>\n",
       "      <td>15594576</td>\n",
       "      <td>Zhdanov</td>\n",
       "      <td>524</td>\n",
       "      <td>France</td>\n",
       "      <td>Male</td>\n",
       "      <td>32</td>\n",
       "      <td>1</td>\n",
       "      <td>144875.71</td>\n",
       "      <td>1</td>\n",
       "      <td>0</td>\n",
       "      <td>0</td>\n",
       "      <td>187740.04</td>\n",
       "      <td>0</td>\n",
       "      <td>(31, 35]</td>\n",
       "      <td>0.135908</td>\n",
       "      <td>0.123485</td>\n",
       "      <td>0.2035</td>\n",
       "    </tr>\n",
       "    <tr>\n",
       "      <th>2</th>\n",
       "      <td>6860</td>\n",
       "      <td>15811927</td>\n",
       "      <td>Marcelo</td>\n",
       "      <td>733</td>\n",
       "      <td>France</td>\n",
       "      <td>Female</td>\n",
       "      <td>38</td>\n",
       "      <td>3</td>\n",
       "      <td>157658.36</td>\n",
       "      <td>1</td>\n",
       "      <td>0</td>\n",
       "      <td>0</td>\n",
       "      <td>19658.43</td>\n",
       "      <td>0</td>\n",
       "      <td>(35, 40]</td>\n",
       "      <td>0.198646</td>\n",
       "      <td>0.196776</td>\n",
       "      <td>0.2035</td>\n",
       "    </tr>\n",
       "  </tbody>\n",
       "</table>\n",
       "</div>"
      ],
      "text/plain": [
       "   RowNumber  CustomerId  Surname  CreditScore Geography  Gender  Age  Tenure  \\\n",
       "0       9168    15645353    Chubb          607    France    Male   26       1   \n",
       "1       9388    15594576  Zhdanov          524    France    Male   32       1   \n",
       "2       6860    15811927  Marcelo          733    France  Female   38       3   \n",
       "\n",
       "     Balance  NumOfProducts  HasCrCard  IsActiveMember  EstimatedSalary  \\\n",
       "0       0.00              1          1               0         29818.20   \n",
       "1  144875.71              1          0               0        187740.04   \n",
       "2  157658.36              1          0               0         19658.43   \n",
       "\n",
       "   Exited age_group  score_prod_age  machine_prod_age  Baseline  \n",
       "0       0   (0, 31]        0.106774          0.097950    0.2035  \n",
       "1       0  (31, 35]        0.135908          0.123485    0.2035  \n",
       "2       0  (35, 40]        0.198646          0.196776    0.2035  "
      ]
     },
     "execution_count": 39,
     "metadata": {},
     "output_type": "execute_result"
    }
   ],
   "source": [
    "test.head(3)"
   ]
  },
  {
   "cell_type": "code",
   "execution_count": null,
   "id": "325e0fd7",
   "metadata": {},
   "outputs": [],
   "source": []
  },
  {
   "cell_type": "markdown",
   "id": "1236f88c",
   "metadata": {},
   "source": [
    "# МАШИННОЕ ОБУЧЕНИЕ НА ВСЕХ ФИЧАХ"
   ]
  },
  {
   "cell_type": "code",
   "execution_count": 40,
   "id": "66bfbf76",
   "metadata": {},
   "outputs": [],
   "source": [
    "# обучимся на ВСЕХ фичах:\n",
    "\n",
    "X = ['CustomerId', 'CreditScore', 'Geography',\n",
    "       'Gender', 'Age', 'Tenure', 'Balance', 'NumOfProducts', 'HasCrCard',\n",
    "       'IsActiveMember', 'EstimatedSalary']\n",
    "y = ['Exited']\n",
    "\n",
    "# категориальные фичи = ['Geography', 'Gender']\n",
    "cat_features = ['Geography', 'Gender']"
   ]
  },
  {
   "cell_type": "code",
   "execution_count": 41,
   "id": "21a4e652",
   "metadata": {},
   "outputs": [],
   "source": [
    "# взяли кусок кода с pool c Tutorial: CatBoost Overview (https://www.kaggle.com/code/mitribunskiy/tutorial-catboost-overview)\n",
    "\n",
    "from catboost import Pool\n",
    "\n",
    "train_data = Pool(data=train[X],\n",
    "                  label=train[y],\n",
    "                  cat_features=cat_features\n",
    "                 )\n",
    "\n",
    "valid_data = Pool(data=val[X],\n",
    "                  label=val[y],\n",
    "                  cat_features=cat_features\n",
    "                 )"
   ]
  },
  {
   "cell_type": "code",
   "execution_count": 42,
   "id": "b754e57c",
   "metadata": {},
   "outputs": [],
   "source": [
    "# на тестовой выборке 'learning_rate': не задаем потому что не знаем какой он будет\n",
    "\n",
    "params_2 = {'verbose':100,\n",
    "         'random_seed': 42}"
   ]
  },
  {
   "cell_type": "code",
   "execution_count": 43,
   "id": "88f7add8",
   "metadata": {},
   "outputs": [],
   "source": [
    "model_2 = CatBoostClassifier(**params_2)"
   ]
  },
  {
   "cell_type": "code",
   "execution_count": 44,
   "id": "4e1c718d",
   "metadata": {},
   "outputs": [
    {
     "name": "stdout",
     "output_type": "stream",
     "text": [
      "Learning rate set to 0.04933\n",
      "0:\tlearn: 0.6535333\ttest: 0.6537816\tbest: 0.6537816 (0)\ttotal: 46ms\tremaining: 46s\n",
      "100:\tlearn: 0.3121251\ttest: 0.3227529\tbest: 0.3227529 (100)\ttotal: 2.9s\tremaining: 25.8s\n",
      "200:\tlearn: 0.2825968\ttest: 0.3200314\tbest: 0.3191361 (160)\ttotal: 5.88s\tremaining: 23.4s\n",
      "300:\tlearn: 0.2540340\ttest: 0.3217938\tbest: 0.3191361 (160)\ttotal: 9.25s\tremaining: 21.5s\n",
      "400:\tlearn: 0.2320413\ttest: 0.3250301\tbest: 0.3191361 (160)\ttotal: 12.7s\tremaining: 18.9s\n",
      "500:\tlearn: 0.2140452\ttest: 0.3277914\tbest: 0.3191361 (160)\ttotal: 16.3s\tremaining: 16.2s\n",
      "600:\tlearn: 0.1971038\ttest: 0.3314336\tbest: 0.3191361 (160)\ttotal: 19.5s\tremaining: 13s\n",
      "700:\tlearn: 0.1829112\ttest: 0.3336272\tbest: 0.3191361 (160)\ttotal: 22.9s\tremaining: 9.77s\n",
      "800:\tlearn: 0.1697085\ttest: 0.3364924\tbest: 0.3191361 (160)\ttotal: 26.9s\tremaining: 6.67s\n",
      "900:\tlearn: 0.1570039\ttest: 0.3413958\tbest: 0.3191361 (160)\ttotal: 30.1s\tremaining: 3.31s\n",
      "999:\tlearn: 0.1462497\ttest: 0.3446710\tbest: 0.3191361 (160)\ttotal: 33.1s\tremaining: 0us\n",
      "\n",
      "bestTest = 0.3191360641\n",
      "bestIteration = 160\n",
      "\n",
      "Shrink model to first 161 iterations.\n"
     ]
    },
    {
     "data": {
      "text/plain": [
       "<catboost.core.CatBoostClassifier at 0x17cced9d7b0>"
      ]
     },
     "execution_count": 44,
     "metadata": {},
     "output_type": "execute_result"
    }
   ],
   "source": [
    "# запускаем обучение:\n",
    "\n",
    "# так мы запускали раньше:\n",
    "# model_2.fit(train[X], train[y], eval_set = (val[X], val[y]))\n",
    "\n",
    "# с использованием Pool для более чистого кода:\n",
    "model_2.fit(train_data, eval_set = valid_data)"
   ]
  },
  {
   "cell_type": "code",
   "execution_count": 45,
   "id": "337d816c",
   "metadata": {},
   "outputs": [],
   "source": [
    "# Для проверки модели на тесте:\n",
    "\n",
    "test['SCORE_ALL_FEATURES'] = model_2.predict_proba(test[X])[:, 1]"
   ]
  },
  {
   "cell_type": "code",
   "execution_count": 46,
   "id": "a1b21cce",
   "metadata": {},
   "outputs": [],
   "source": [
    "# еще добавим BaseLine - среднее значение по тестовой выборке: для общего сравнения всех подходов:\n",
    "test['Baseline'] = test['Exited'].mean()"
   ]
  },
  {
   "cell_type": "code",
   "execution_count": 47,
   "id": "a6f68caa",
   "metadata": {},
   "outputs": [
    {
     "data": {
      "text/html": [
       "<div>\n",
       "<style scoped>\n",
       "    .dataframe tbody tr th:only-of-type {\n",
       "        vertical-align: middle;\n",
       "    }\n",
       "\n",
       "    .dataframe tbody tr th {\n",
       "        vertical-align: top;\n",
       "    }\n",
       "\n",
       "    .dataframe thead th {\n",
       "        text-align: right;\n",
       "    }\n",
       "</style>\n",
       "<table border=\"1\" class=\"dataframe\">\n",
       "  <thead>\n",
       "    <tr style=\"text-align: right;\">\n",
       "      <th></th>\n",
       "      <th>RowNumber</th>\n",
       "      <th>CustomerId</th>\n",
       "      <th>Surname</th>\n",
       "      <th>CreditScore</th>\n",
       "      <th>Geography</th>\n",
       "      <th>Gender</th>\n",
       "      <th>Age</th>\n",
       "      <th>Tenure</th>\n",
       "      <th>Balance</th>\n",
       "      <th>NumOfProducts</th>\n",
       "      <th>HasCrCard</th>\n",
       "      <th>IsActiveMember</th>\n",
       "      <th>EstimatedSalary</th>\n",
       "      <th>Exited</th>\n",
       "      <th>age_group</th>\n",
       "      <th>score_prod_age</th>\n",
       "      <th>machine_prod_age</th>\n",
       "      <th>Baseline</th>\n",
       "      <th>SCORE_ALL_FEATURES</th>\n",
       "    </tr>\n",
       "  </thead>\n",
       "  <tbody>\n",
       "    <tr>\n",
       "      <th>0</th>\n",
       "      <td>9168</td>\n",
       "      <td>15645353</td>\n",
       "      <td>Chubb</td>\n",
       "      <td>607</td>\n",
       "      <td>France</td>\n",
       "      <td>Male</td>\n",
       "      <td>26</td>\n",
       "      <td>1</td>\n",
       "      <td>0.00</td>\n",
       "      <td>1</td>\n",
       "      <td>1</td>\n",
       "      <td>0</td>\n",
       "      <td>29818.20</td>\n",
       "      <td>0</td>\n",
       "      <td>(0, 31]</td>\n",
       "      <td>0.106774</td>\n",
       "      <td>0.097950</td>\n",
       "      <td>0.2035</td>\n",
       "      <td>0.117387</td>\n",
       "    </tr>\n",
       "    <tr>\n",
       "      <th>1</th>\n",
       "      <td>9388</td>\n",
       "      <td>15594576</td>\n",
       "      <td>Zhdanov</td>\n",
       "      <td>524</td>\n",
       "      <td>France</td>\n",
       "      <td>Male</td>\n",
       "      <td>32</td>\n",
       "      <td>1</td>\n",
       "      <td>144875.71</td>\n",
       "      <td>1</td>\n",
       "      <td>0</td>\n",
       "      <td>0</td>\n",
       "      <td>187740.04</td>\n",
       "      <td>0</td>\n",
       "      <td>(31, 35]</td>\n",
       "      <td>0.135908</td>\n",
       "      <td>0.123485</td>\n",
       "      <td>0.2035</td>\n",
       "      <td>0.069690</td>\n",
       "    </tr>\n",
       "    <tr>\n",
       "      <th>2</th>\n",
       "      <td>6860</td>\n",
       "      <td>15811927</td>\n",
       "      <td>Marcelo</td>\n",
       "      <td>733</td>\n",
       "      <td>France</td>\n",
       "      <td>Female</td>\n",
       "      <td>38</td>\n",
       "      <td>3</td>\n",
       "      <td>157658.36</td>\n",
       "      <td>1</td>\n",
       "      <td>0</td>\n",
       "      <td>0</td>\n",
       "      <td>19658.43</td>\n",
       "      <td>0</td>\n",
       "      <td>(35, 40]</td>\n",
       "      <td>0.198646</td>\n",
       "      <td>0.196776</td>\n",
       "      <td>0.2035</td>\n",
       "      <td>0.169110</td>\n",
       "    </tr>\n",
       "  </tbody>\n",
       "</table>\n",
       "</div>"
      ],
      "text/plain": [
       "   RowNumber  CustomerId  Surname  CreditScore Geography  Gender  Age  Tenure  \\\n",
       "0       9168    15645353    Chubb          607    France    Male   26       1   \n",
       "1       9388    15594576  Zhdanov          524    France    Male   32       1   \n",
       "2       6860    15811927  Marcelo          733    France  Female   38       3   \n",
       "\n",
       "     Balance  NumOfProducts  HasCrCard  IsActiveMember  EstimatedSalary  \\\n",
       "0       0.00              1          1               0         29818.20   \n",
       "1  144875.71              1          0               0        187740.04   \n",
       "2  157658.36              1          0               0         19658.43   \n",
       "\n",
       "   Exited age_group  score_prod_age  machine_prod_age  Baseline  \\\n",
       "0       0   (0, 31]        0.106774          0.097950    0.2035   \n",
       "1       0  (31, 35]        0.135908          0.123485    0.2035   \n",
       "2       0  (35, 40]        0.198646          0.196776    0.2035   \n",
       "\n",
       "   SCORE_ALL_FEATURES  \n",
       "0            0.117387  \n",
       "1            0.069690  \n",
       "2            0.169110  "
      ]
     },
     "execution_count": 47,
     "metadata": {},
     "output_type": "execute_result"
    }
   ],
   "source": [
    "test.head(3)"
   ]
  },
  {
   "cell_type": "markdown",
   "id": "ac43777b",
   "metadata": {},
   "source": [
    "### Метрика log_loss Проверка всех подходов:"
   ]
  },
  {
   "cell_type": "code",
   "execution_count": 48,
   "id": "d19b0184",
   "metadata": {},
   "outputs": [
    {
     "name": "stdout",
     "output_type": "stream",
     "text": [
      "Baseline:  0.5052163384611609\n",
      "Человеческое обучение:  0.3870707514157596\n",
      "Машинное обучение на двух фичах:  0.38429747431953837\n",
      "Машинное обучение на ВСЕХ фичах:  0.3288130105042308\n"
     ]
    }
   ],
   "source": [
    "from sklearn.metrics import log_loss\n",
    "\n",
    "# ошибка log_loss для среднего mean('Exited'):\n",
    "print('Baseline: ', log_loss(test['Exited'], test['Baseline']))\n",
    "\n",
    "\n",
    "# ошибка log_loss для модели человеческого обучения:\n",
    "print('Человеческое обучение: ', log_loss(test['Exited'], test['score_prod_age']))\n",
    "\n",
    "# ошибка log_loss для модели_1:\n",
    "print('Машинное обучение на двух фичах: ',  log_loss(test['Exited'], test['machine_prod_age']))\n",
    "\n",
    "# ошибка log_loss для модели_2:\n",
    "print('Машинное обучение на ВСЕХ фичах: ',  log_loss(test['Exited'], test['SCORE_ALL_FEATURES']))"
   ]
  },
  {
   "cell_type": "code",
   "execution_count": null,
   "id": "83d67407",
   "metadata": {},
   "outputs": [],
   "source": []
  },
  {
   "cell_type": "markdown",
   "id": "f0de3f72",
   "metadata": {},
   "source": [
    "### Метрика uplift (функция задана выше) Проверка всех подходов:"
   ]
  },
  {
   "cell_type": "code",
   "execution_count": 49,
   "id": "3528339d",
   "metadata": {},
   "outputs": [
    {
     "name": "stdout",
     "output_type": "stream",
     "text": [
      "Baseline:  1.0442260442260443\n",
      "Человеческое обучение:  2.7518427518427515\n",
      "Машинное обучение на двух фичах:  2.8132678132678133\n",
      "Машинное обучение на ВСЕХ фичах:  3.1326781326781328\n"
     ]
    }
   ],
   "source": [
    "# Считаем метрику uplift на тесте:\n",
    "\n",
    "print('Baseline: ', uplift(test, 'Baseline', 0.2))\n",
    "print('Человеческое обучение: ', uplift(test, 'score_prod_age', 0.2))\n",
    "print('Машинное обучение на двух фичах: ', uplift(test, 'machine_prod_age', 0.2))\n",
    "print('Машинное обучение на ВСЕХ фичах: ', uplift(test, 'SCORE_ALL_FEATURES', 0.2))"
   ]
  },
  {
   "cell_type": "code",
   "execution_count": null,
   "id": "6cd5004b",
   "metadata": {},
   "outputs": [],
   "source": []
  },
  {
   "cell_type": "markdown",
   "id": "40767623",
   "metadata": {},
   "source": [
    "# СКОР И ПОРОГИ"
   ]
  },
  {
   "cell_type": "code",
   "execution_count": 52,
   "id": "b7c70c3d",
   "metadata": {},
   "outputs": [],
   "source": [
    "# Скорs: 'Baseline', 'score_prod_age', 'machine_prod_age', 'SCORE_ALL_FEATURES'\n",
    "\n",
    "# что такое скор - это то, что выходит из модели калссификации\n",
    "\n",
    "# это оценка, которая показывает склонность в данном случае человека к оттоку\n",
    "\n",
    "# чем больше этот скор, тем больше человек склонен к оттоку\n",
    "# чем меньше этот скор, тем меньше человек склонен к оттоку\n",
    "\n",
    "# также иногда этот скор может являться вероятностью, но не всегда это так:\n",
    "    \n",
    "# Скор можно интерпретировать, как вероятность, когда он \n",
    "# соответствует фактической вероятности, и это можно \n",
    "# проверить. Можно взять и разбить скор на бины:\n",
    "# 0-0.1, 0.1-0.2, 0.2-0.3 ... 0.9-1 и посчитать \n",
    "# для этих бинов среднее по таргету: это среднее \n",
    "# должно соответствовать среднему по этому \n",
    "# бину, т.е. для 0-0.1 это (0.1-0)/2 = 0.05. \n",
    "# Подробнее про это можно почитать в статьях \n",
    "# про калибровку моделей, например вот \n",
    "# https://towardsdatascience.com/classifier-calibration-7d0be1e05452 . \n",
    "# Есть и на русском, но там чето слишком замудренно) \n",
    "# https://stepik.org/lesson/683315/step/2?unit=682138 - в комментариях ссылка\n",
    "    \n",
    "# Скор всегда нормированный - он всегда будет от 0 до 1\n",
    "\n",
    "# КАК ИЗ СКОРА ПОЛУЧИТЬ КЛАСС - КАК ПРИНЯТЬ РЕШЕНИЕ - ОТТОЧНЫЙ КЛИЕНТ ИЛИ НЕ ОТТОЧНЫЙ??\n",
    "# это решение можно принять с помощью порогов например score > 0.5\n",
    "# Таким образом скор можно преобразовать в конкретный класс - в конкретное решение.\n"
   ]
  },
  {
   "cell_type": "code",
   "execution_count": 53,
   "id": "a721a903",
   "metadata": {},
   "outputs": [
    {
     "data": {
      "text/plain": [
       "<Axes: >"
      ]
     },
     "execution_count": 53,
     "metadata": {},
     "output_type": "execute_result"
    },
    {
     "data": {
      "image/png": "[encoded data removed]",
      "text/plain": [
       "<Figure size 640x480 with 1 Axes>"
      ]
     },
     "metadata": {},
     "output_type": "display_data"
    }
   ],
   "source": [
    "# посмотрим на распределение скора для Baseline:\n",
    "\n",
    "test['Baseline'].hist(edgecolor = 'black')   "
   ]
  },
  {
   "cell_type": "code",
   "execution_count": 54,
   "id": "8ac34795",
   "metadata": {},
   "outputs": [
    {
     "data": {
      "text/plain": [
       "<Axes: >"
      ]
     },
     "execution_count": 54,
     "metadata": {},
     "output_type": "execute_result"
    },
    {
     "data": {
      "image/png": "[encoded data removed]",
      "text/plain": [
       "<Figure size 640x480 with 1 Axes>"
      ]
     },
     "metadata": {},
     "output_type": "display_data"
    }
   ],
   "source": [
    "# посмотрим на распределение скора в человеческом обучении:\n",
    "\n",
    "test['score_prod_age'].hist(edgecolor = 'black')   \n"
   ]
  },
  {
   "cell_type": "code",
   "execution_count": 55,
   "id": "400fba15",
   "metadata": {},
   "outputs": [
    {
     "data": {
      "text/plain": [
       "<Axes: >"
      ]
     },
     "execution_count": 55,
     "metadata": {},
     "output_type": "execute_result"
    },
    {
     "data": {
      "image/png": "[encoded data removed]",
      "text/plain": [
       "<Figure size 640x480 with 1 Axes>"
      ]
     },
     "metadata": {},
     "output_type": "display_data"
    }
   ],
   "source": [
    "# посмотрим на распределение скора в машинном обучении для двух фичей:\n",
    "\n",
    "test['machine_prod_age'].hist(edgecolor = 'black') "
   ]
  },
  {
   "cell_type": "code",
   "execution_count": 56,
   "id": "ffcc6939",
   "metadata": {},
   "outputs": [
    {
     "data": {
      "text/plain": [
       "<Axes: >"
      ]
     },
     "execution_count": 56,
     "metadata": {},
     "output_type": "execute_result"
    },
    {
     "data": {
      "image/png": "[encoded data removed]",
      "text/plain": [
       "<Figure size 640x480 with 1 Axes>"
      ]
     },
     "metadata": {},
     "output_type": "display_data"
    }
   ],
   "source": [
    "# посмотрим на распределение скора в машинном обучении для ВСЕХ фичей:\n",
    "\n",
    "test['SCORE_ALL_FEATURES'].hist(edgecolor = 'black')"
   ]
  },
  {
   "cell_type": "code",
   "execution_count": null,
   "id": "e8c20a24",
   "metadata": {},
   "outputs": [],
   "source": []
  },
  {
   "cell_type": "markdown",
   "id": "6dc3f0fb",
   "metadata": {},
   "source": [
    "# PREDICT y_pred"
   ]
  },
  {
   "cell_type": "code",
   "execution_count": 57,
   "id": "d2e654dc",
   "metadata": {},
   "outputs": [],
   "source": [
    "# Предикт y_pred - с установленным порогом:\n",
    "\n",
    "test['y_pred'] = test['SCORE_ALL_FEATURES'] > 0.5"
   ]
  },
  {
   "cell_type": "code",
   "execution_count": 58,
   "id": "9b52b348",
   "metadata": {},
   "outputs": [
    {
     "name": "stdout",
     "output_type": "stream",
     "text": [
      "1 0\n"
     ]
    }
   ],
   "source": [
    "# умножая bool на 1 получаем 1 или 0\n",
    "print(True * 1, False * 1)"
   ]
  },
  {
   "cell_type": "code",
   "execution_count": 59,
   "id": "f7f5a713",
   "metadata": {},
   "outputs": [],
   "source": [
    "# чтобы в столбце test['y_pred'] значения были представлены не как \"True и False\", а как \"0 и 1\":\n",
    "    \n",
    "test['y_pred'] = (test['SCORE_ALL_FEATURES'] > 0.5)*1"
   ]
  },
  {
   "cell_type": "code",
   "execution_count": 60,
   "id": "57422348",
   "metadata": {},
   "outputs": [
    {
     "data": {
      "text/html": [
       "<div>\n",
       "<style scoped>\n",
       "    .dataframe tbody tr th:only-of-type {\n",
       "        vertical-align: middle;\n",
       "    }\n",
       "\n",
       "    .dataframe tbody tr th {\n",
       "        vertical-align: top;\n",
       "    }\n",
       "\n",
       "    .dataframe thead th {\n",
       "        text-align: right;\n",
       "    }\n",
       "</style>\n",
       "<table border=\"1\" class=\"dataframe\">\n",
       "  <thead>\n",
       "    <tr style=\"text-align: right;\">\n",
       "      <th></th>\n",
       "      <th>RowNumber</th>\n",
       "      <th>CustomerId</th>\n",
       "      <th>Surname</th>\n",
       "      <th>CreditScore</th>\n",
       "      <th>Geography</th>\n",
       "      <th>Gender</th>\n",
       "      <th>Age</th>\n",
       "      <th>Tenure</th>\n",
       "      <th>Balance</th>\n",
       "      <th>NumOfProducts</th>\n",
       "      <th>HasCrCard</th>\n",
       "      <th>IsActiveMember</th>\n",
       "      <th>EstimatedSalary</th>\n",
       "      <th>Exited</th>\n",
       "      <th>age_group</th>\n",
       "      <th>score_prod_age</th>\n",
       "      <th>machine_prod_age</th>\n",
       "      <th>Baseline</th>\n",
       "      <th>SCORE_ALL_FEATURES</th>\n",
       "      <th>y_pred</th>\n",
       "    </tr>\n",
       "  </thead>\n",
       "  <tbody>\n",
       "    <tr>\n",
       "      <th>0</th>\n",
       "      <td>9168</td>\n",
       "      <td>15645353</td>\n",
       "      <td>Chubb</td>\n",
       "      <td>607</td>\n",
       "      <td>France</td>\n",
       "      <td>Male</td>\n",
       "      <td>26</td>\n",
       "      <td>1</td>\n",
       "      <td>0.00</td>\n",
       "      <td>1</td>\n",
       "      <td>1</td>\n",
       "      <td>0</td>\n",
       "      <td>29818.20</td>\n",
       "      <td>0</td>\n",
       "      <td>(0, 31]</td>\n",
       "      <td>0.106774</td>\n",
       "      <td>0.097950</td>\n",
       "      <td>0.2035</td>\n",
       "      <td>0.117387</td>\n",
       "      <td>0</td>\n",
       "    </tr>\n",
       "    <tr>\n",
       "      <th>1</th>\n",
       "      <td>9388</td>\n",
       "      <td>15594576</td>\n",
       "      <td>Zhdanov</td>\n",
       "      <td>524</td>\n",
       "      <td>France</td>\n",
       "      <td>Male</td>\n",
       "      <td>32</td>\n",
       "      <td>1</td>\n",
       "      <td>144875.71</td>\n",
       "      <td>1</td>\n",
       "      <td>0</td>\n",
       "      <td>0</td>\n",
       "      <td>187740.04</td>\n",
       "      <td>0</td>\n",
       "      <td>(31, 35]</td>\n",
       "      <td>0.135908</td>\n",
       "      <td>0.123485</td>\n",
       "      <td>0.2035</td>\n",
       "      <td>0.069690</td>\n",
       "      <td>0</td>\n",
       "    </tr>\n",
       "    <tr>\n",
       "      <th>2</th>\n",
       "      <td>6860</td>\n",
       "      <td>15811927</td>\n",
       "      <td>Marcelo</td>\n",
       "      <td>733</td>\n",
       "      <td>France</td>\n",
       "      <td>Female</td>\n",
       "      <td>38</td>\n",
       "      <td>3</td>\n",
       "      <td>157658.36</td>\n",
       "      <td>1</td>\n",
       "      <td>0</td>\n",
       "      <td>0</td>\n",
       "      <td>19658.43</td>\n",
       "      <td>0</td>\n",
       "      <td>(35, 40]</td>\n",
       "      <td>0.198646</td>\n",
       "      <td>0.196776</td>\n",
       "      <td>0.2035</td>\n",
       "      <td>0.169110</td>\n",
       "      <td>0</td>\n",
       "    </tr>\n",
       "    <tr>\n",
       "      <th>3</th>\n",
       "      <td>3501</td>\n",
       "      <td>15675675</td>\n",
       "      <td>Slate</td>\n",
       "      <td>850</td>\n",
       "      <td>France</td>\n",
       "      <td>Female</td>\n",
       "      <td>32</td>\n",
       "      <td>5</td>\n",
       "      <td>106290.64</td>\n",
       "      <td>1</td>\n",
       "      <td>1</td>\n",
       "      <td>0</td>\n",
       "      <td>121982.73</td>\n",
       "      <td>0</td>\n",
       "      <td>(31, 35]</td>\n",
       "      <td>0.135908</td>\n",
       "      <td>0.123485</td>\n",
       "      <td>0.2035</td>\n",
       "      <td>0.089905</td>\n",
       "      <td>0</td>\n",
       "    </tr>\n",
       "    <tr>\n",
       "      <th>4</th>\n",
       "      <td>6234</td>\n",
       "      <td>15682914</td>\n",
       "      <td>Bolton</td>\n",
       "      <td>850</td>\n",
       "      <td>France</td>\n",
       "      <td>Male</td>\n",
       "      <td>34</td>\n",
       "      <td>2</td>\n",
       "      <td>72079.71</td>\n",
       "      <td>1</td>\n",
       "      <td>1</td>\n",
       "      <td>1</td>\n",
       "      <td>115767.93</td>\n",
       "      <td>0</td>\n",
       "      <td>(31, 35]</td>\n",
       "      <td>0.135908</td>\n",
       "      <td>0.137989</td>\n",
       "      <td>0.2035</td>\n",
       "      <td>0.062131</td>\n",
       "      <td>0</td>\n",
       "    </tr>\n",
       "    <tr>\n",
       "      <th>...</th>\n",
       "      <td>...</td>\n",
       "      <td>...</td>\n",
       "      <td>...</td>\n",
       "      <td>...</td>\n",
       "      <td>...</td>\n",
       "      <td>...</td>\n",
       "      <td>...</td>\n",
       "      <td>...</td>\n",
       "      <td>...</td>\n",
       "      <td>...</td>\n",
       "      <td>...</td>\n",
       "      <td>...</td>\n",
       "      <td>...</td>\n",
       "      <td>...</td>\n",
       "      <td>...</td>\n",
       "      <td>...</td>\n",
       "      <td>...</td>\n",
       "      <td>...</td>\n",
       "      <td>...</td>\n",
       "      <td>...</td>\n",
       "    </tr>\n",
       "    <tr>\n",
       "      <th>1995</th>\n",
       "      <td>7393</td>\n",
       "      <td>15795079</td>\n",
       "      <td>Nnaife</td>\n",
       "      <td>596</td>\n",
       "      <td>Spain</td>\n",
       "      <td>Male</td>\n",
       "      <td>67</td>\n",
       "      <td>6</td>\n",
       "      <td>0.00</td>\n",
       "      <td>2</td>\n",
       "      <td>1</td>\n",
       "      <td>1</td>\n",
       "      <td>138350.74</td>\n",
       "      <td>0</td>\n",
       "      <td>(46, 99]</td>\n",
       "      <td>0.225869</td>\n",
       "      <td>0.103882</td>\n",
       "      <td>0.2035</td>\n",
       "      <td>0.026964</td>\n",
       "      <td>0</td>\n",
       "    </tr>\n",
       "    <tr>\n",
       "      <th>1996</th>\n",
       "      <td>3234</td>\n",
       "      <td>15601550</td>\n",
       "      <td>Genovesi</td>\n",
       "      <td>595</td>\n",
       "      <td>Spain</td>\n",
       "      <td>Male</td>\n",
       "      <td>36</td>\n",
       "      <td>6</td>\n",
       "      <td>85768.42</td>\n",
       "      <td>1</td>\n",
       "      <td>1</td>\n",
       "      <td>1</td>\n",
       "      <td>24802.77</td>\n",
       "      <td>0</td>\n",
       "      <td>(35, 40]</td>\n",
       "      <td>0.198646</td>\n",
       "      <td>0.164582</td>\n",
       "      <td>0.2035</td>\n",
       "      <td>0.102691</td>\n",
       "      <td>0</td>\n",
       "    </tr>\n",
       "    <tr>\n",
       "      <th>1997</th>\n",
       "      <td>219</td>\n",
       "      <td>15659366</td>\n",
       "      <td>Shih</td>\n",
       "      <td>807</td>\n",
       "      <td>France</td>\n",
       "      <td>Male</td>\n",
       "      <td>43</td>\n",
       "      <td>1</td>\n",
       "      <td>105799.32</td>\n",
       "      <td>2</td>\n",
       "      <td>1</td>\n",
       "      <td>0</td>\n",
       "      <td>34888.04</td>\n",
       "      <td>1</td>\n",
       "      <td>(40, 46]</td>\n",
       "      <td>0.106239</td>\n",
       "      <td>0.124178</td>\n",
       "      <td>0.2035</td>\n",
       "      <td>0.176148</td>\n",
       "      <td>0</td>\n",
       "    </tr>\n",
       "    <tr>\n",
       "      <th>1998</th>\n",
       "      <td>4756</td>\n",
       "      <td>15740072</td>\n",
       "      <td>Padovesi</td>\n",
       "      <td>720</td>\n",
       "      <td>France</td>\n",
       "      <td>Female</td>\n",
       "      <td>37</td>\n",
       "      <td>2</td>\n",
       "      <td>120328.88</td>\n",
       "      <td>2</td>\n",
       "      <td>1</td>\n",
       "      <td>1</td>\n",
       "      <td>138470.21</td>\n",
       "      <td>0</td>\n",
       "      <td>(35, 40]</td>\n",
       "      <td>0.059977</td>\n",
       "      <td>0.051863</td>\n",
       "      <td>0.2035</td>\n",
       "      <td>0.066283</td>\n",
       "      <td>0</td>\n",
       "    </tr>\n",
       "    <tr>\n",
       "      <th>1999</th>\n",
       "      <td>7635</td>\n",
       "      <td>15707681</td>\n",
       "      <td>Pokrovsky</td>\n",
       "      <td>501</td>\n",
       "      <td>Germany</td>\n",
       "      <td>Male</td>\n",
       "      <td>38</td>\n",
       "      <td>9</td>\n",
       "      <td>88977.39</td>\n",
       "      <td>2</td>\n",
       "      <td>0</td>\n",
       "      <td>1</td>\n",
       "      <td>133403.07</td>\n",
       "      <td>0</td>\n",
       "      <td>(35, 40]</td>\n",
       "      <td>0.059977</td>\n",
       "      <td>0.056607</td>\n",
       "      <td>0.2035</td>\n",
       "      <td>0.058493</td>\n",
       "      <td>0</td>\n",
       "    </tr>\n",
       "  </tbody>\n",
       "</table>\n",
       "<p>2000 rows × 20 columns</p>\n",
       "</div>"
      ],
      "text/plain": [
       "      RowNumber  CustomerId    Surname  CreditScore Geography  Gender  Age  \\\n",
       "0          9168    15645353      Chubb          607    France    Male   26   \n",
       "1          9388    15594576    Zhdanov          524    France    Male   32   \n",
       "2          6860    15811927    Marcelo          733    France  Female   38   \n",
       "3          3501    15675675      Slate          850    France  Female   32   \n",
       "4          6234    15682914     Bolton          850    France    Male   34   \n",
       "...         ...         ...        ...          ...       ...     ...  ...   \n",
       "1995       7393    15795079     Nnaife          596     Spain    Male   67   \n",
       "1996       3234    15601550   Genovesi          595     Spain    Male   36   \n",
       "1997        219    15659366       Shih          807    France    Male   43   \n",
       "1998       4756    15740072   Padovesi          720    France  Female   37   \n",
       "1999       7635    15707681  Pokrovsky          501   Germany    Male   38   \n",
       "\n",
       "      Tenure    Balance  NumOfProducts  HasCrCard  IsActiveMember  \\\n",
       "0          1       0.00              1          1               0   \n",
       "1          1  144875.71              1          0               0   \n",
       "2          3  157658.36              1          0               0   \n",
       "3          5  106290.64              1          1               0   \n",
       "4          2   72079.71              1          1               1   \n",
       "...      ...        ...            ...        ...             ...   \n",
       "1995       6       0.00              2          1               1   \n",
       "1996       6   85768.42              1          1               1   \n",
       "1997       1  105799.32              2          1               0   \n",
       "1998       2  120328.88              2          1               1   \n",
       "1999       9   88977.39              2          0               1   \n",
       "\n",
       "      EstimatedSalary  Exited age_group  score_prod_age  machine_prod_age  \\\n",
       "0            29818.20       0   (0, 31]        0.106774          0.097950   \n",
       "1           187740.04       0  (31, 35]        0.135908          0.123485   \n",
       "2            19658.43       0  (35, 40]        0.198646          0.196776   \n",
       "3           121982.73       0  (31, 35]        0.135908          0.123485   \n",
       "4           115767.93       0  (31, 35]        0.135908          0.137989   \n",
       "...               ...     ...       ...             ...               ...   \n",
       "1995        138350.74       0  (46, 99]        0.225869          0.103882   \n",
       "1996         24802.77       0  (35, 40]        0.198646          0.164582   \n",
       "1997         34888.04       1  (40, 46]        0.106239          0.124178   \n",
       "1998        138470.21       0  (35, 40]        0.059977          0.051863   \n",
       "1999        133403.07       0  (35, 40]        0.059977          0.056607   \n",
       "\n",
       "      Baseline  SCORE_ALL_FEATURES  y_pred  \n",
       "0       0.2035            0.117387       0  \n",
       "1       0.2035            0.069690       0  \n",
       "2       0.2035            0.169110       0  \n",
       "3       0.2035            0.089905       0  \n",
       "4       0.2035            0.062131       0  \n",
       "...        ...                 ...     ...  \n",
       "1995    0.2035            0.026964       0  \n",
       "1996    0.2035            0.102691       0  \n",
       "1997    0.2035            0.176148       0  \n",
       "1998    0.2035            0.066283       0  \n",
       "1999    0.2035            0.058493       0  \n",
       "\n",
       "[2000 rows x 20 columns]"
      ]
     },
     "execution_count": 60,
     "metadata": {},
     "output_type": "execute_result"
    }
   ],
   "source": [
    "test"
   ]
  },
  {
   "cell_type": "code",
   "execution_count": 61,
   "id": "010fcb20",
   "metadata": {},
   "outputs": [
    {
     "data": {
      "text/plain": [
       "0.121"
      ]
     },
     "execution_count": 61,
     "metadata": {},
     "output_type": "execute_result"
    }
   ],
   "source": [
    "# Теперь можно посчитать только еденицы - долю тех, кому мы предсказали отток:\n",
    "\n",
    "test['y_pred'].mean()"
   ]
  },
  {
   "cell_type": "code",
   "execution_count": null,
   "id": "b7ee676d",
   "metadata": {},
   "outputs": [],
   "source": [
    "# теперь нужно научиться анализировать этот ответ:"
   ]
  },
  {
   "cell_type": "code",
   "execution_count": null,
   "id": "62955115",
   "metadata": {},
   "outputs": [],
   "source": []
  },
  {
   "cell_type": "markdown",
   "id": "883d1422",
   "metadata": {},
   "source": [
    "# МАТРИЦА ОШИБОК"
   ]
  },
  {
   "cell_type": "code",
   "execution_count": null,
   "id": "7855599b",
   "metadata": {},
   "outputs": [],
   "source": [
    "# матрица ошибок - главная вещь для анализа ответа классификатора"
   ]
  },
  {
   "cell_type": "code",
   "execution_count": 62,
   "id": "d59daa15",
   "metadata": {},
   "outputs": [],
   "source": [
    "from sklearn.metrics import confusion_matrix"
   ]
  },
  {
   "cell_type": "code",
   "execution_count": 63,
   "id": "4b558b97",
   "metadata": {},
   "outputs": [
    {
     "data": {
      "text/html": [
       "<div>\n",
       "<style scoped>\n",
       "    .dataframe tbody tr th:only-of-type {\n",
       "        vertical-align: middle;\n",
       "    }\n",
       "\n",
       "    .dataframe tbody tr th {\n",
       "        vertical-align: top;\n",
       "    }\n",
       "\n",
       "    .dataframe thead th {\n",
       "        text-align: right;\n",
       "    }\n",
       "</style>\n",
       "<table border=\"1\" class=\"dataframe\">\n",
       "  <thead>\n",
       "    <tr style=\"text-align: right;\">\n",
       "      <th></th>\n",
       "      <th>0</th>\n",
       "      <th>1</th>\n",
       "    </tr>\n",
       "  </thead>\n",
       "  <tbody>\n",
       "    <tr>\n",
       "      <th>0</th>\n",
       "      <td>1539</td>\n",
       "      <td>54</td>\n",
       "    </tr>\n",
       "    <tr>\n",
       "      <th>1</th>\n",
       "      <td>219</td>\n",
       "      <td>188</td>\n",
       "    </tr>\n",
       "  </tbody>\n",
       "</table>\n",
       "</div>"
      ],
      "text/plain": [
       "      0    1\n",
       "0  1539   54\n",
       "1   219  188"
      ]
     },
     "execution_count": 63,
     "metadata": {},
     "output_type": "execute_result"
    }
   ],
   "source": [
    "pd.DataFrame(confusion_matrix(test['Exited'], test['y_pred']))"
   ]
  },
  {
   "cell_type": "code",
   "execution_count": 64,
   "id": "b607960f",
   "metadata": {},
   "outputs": [],
   "source": [
    "tn, fp, fn, tp = confusion_matrix(test['Exited'], test['y_pred']).ravel()"
   ]
  },
  {
   "cell_type": "code",
   "execution_count": 66,
   "id": "7567ff09",
   "metadata": {
    "scrolled": false
   },
   "outputs": [
    {
     "data": {
      "image/png": "[encoded data removed]",
      "text/plain": [
       "<Figure size 640x480 with 2 Axes>"
      ]
     },
     "metadata": {},
     "output_type": "display_data"
    }
   ],
   "source": [
    "import numpy as np\n",
    "import matplotlib.pyplot as plt\n",
    "from sklearn.metrics import confusion_matrix\n",
    "\n",
    "tn, fp, fn, tp = confusion_matrix(test['Exited'], test['y_pred']).ravel()\n",
    "\n",
    "# Создание матрицы ошибок\n",
    "confusion_matrix = np.array([[tn, fp], [fn, tp]])\n",
    "\n",
    "# Настройка осей\n",
    "classes = ['Negative', 'Positive']\n",
    "ticks = np.arange(len(classes))\n",
    "\n",
    "# Создание графика\n",
    "plt.imshow(confusion_matrix, cmap='Blues')\n",
    "\n",
    "# Добавление текста к ячейкам\n",
    "thresh = confusion_matrix.max() / 2\n",
    "for i in range(confusion_matrix.shape[0]):\n",
    "    for j in range(confusion_matrix.shape[1]):\n",
    "        plt.text(j, i, format(confusion_matrix[i, j], 'd'),\n",
    "                 ha=\"center\", va=\"center\",\n",
    "                 color=\"white\" if confusion_matrix[i, j] > thresh else \"black\")\n",
    "\n",
    "# Настройка осей и заголовка\n",
    "plt.xticks(ticks, classes)\n",
    "plt.yticks(ticks, classes)\n",
    "plt.xlabel('y_prediction')\n",
    "plt.ylabel('y_True')\n",
    "plt.title('Confusion Matrix')\n",
    "\n",
    "# Отображение цветовой шкалы\n",
    "plt.colorbar()\n",
    "\n",
    "# Показать график\n",
    "plt.show()"
   ]
  },
  {
   "cell_type": "code",
   "execution_count": null,
   "id": "aad35655",
   "metadata": {},
   "outputs": [],
   "source": [
    "from sklearn.metrics import ConfusionMatrixDisplay\n",
    "confmetrx = ConfusionMatrixDisplay(confusion_matrix(test['Exited'], test['y_pred']))\n",
    "confmetrx.plot()"
   ]
  },
  {
   "cell_type": "code",
   "execution_count": null,
   "id": "0b9548e2",
   "metadata": {},
   "outputs": [],
   "source": [
    "#     Если y_True и y_prediction совпадают - значит TRUE\n",
    "    \n",
    "#     Если y_True и y_prediction НЕ совпадают - значит FALSE\n",
    "\n",
    "\n",
    "# Чтобы определить POSITIVE или NEGATIVE смотрим на y_prediction:\n",
    "\n",
    "#     Если TRUE:\n",
    "# Если y_prediction = Positive и y_True = Positive - значит TRUE POSITIVE\n",
    "# Если y_prediction = Negative и y_True = Negative - значит TRUE NEGATIVE\n",
    "\n",
    "#     Если FALSE:\n",
    "# Если y_prediction = Positive и y_True = Negative - значит FALSE POSITIVE - ложное срабатываение - ошибка I рода\n",
    "# Если y_prediction = Negative и y_True = Positive - значит TRUE NEGATIVE - ложный пропуск - ошибка II рода"
   ]
  },
  {
   "cell_type": "code",
   "execution_count": null,
   "id": "7766a2aa",
   "metadata": {},
   "outputs": [],
   "source": []
  },
  {
   "cell_type": "markdown",
   "id": "f95ffd7c",
   "metadata": {},
   "source": [
    "# Все основные метрики считаются на основе матрицы ошибок confusion_matrix\n",
    "\n",
    "https://en.wikipedia.org/wiki/Receiver_operating_characteristic"
   ]
  },
  {
   "cell_type": "markdown",
   "id": "a92ff4a7",
   "metadata": {},
   "source": [
    "## Recall (полнота)\n",
    "sensitivity, recall, hit rate, or true positive rate (TPR)"
   ]
  },
  {
   "cell_type": "code",
   "execution_count": null,
   "id": "3eb2df7f",
   "metadata": {},
   "outputs": [],
   "source": [
    "# Recall - это процент 'единичек', которые модель пометила как 'единички'\n",
    "\n",
    "# Эта метрика показывает насколько хорошо эта метрика умеет подсвечивать 'единички'\n",
    "\n",
    "# В случае оттока клиентов - насколько хорошо она может подсветить отточного клиента\n",
    "\n",
    "# Случае с сигналом - насколько хорошо она может подсвечивать сигнал\n",
    "\n",
    "# tn, fp, fn, tp\n",
    "# Формула: TPR = tp / P = tp / (tp + fn)\n",
    "\n",
    "# !!! ПОКАЗЫВАЕТ ПРОЦЕНТ ВСЕХ НАСТОЯЩИХ ЕДИНИЧЕК, ПОМЕЧЕННЫХ ЕДИНИЧКАМИ - рассматриваем все единицы из y_TRUE"
   ]
  },
  {
   "cell_type": "code",
   "execution_count": 68,
   "id": "84ec6fab",
   "metadata": {},
   "outputs": [
    {
     "data": {
      "text/plain": [
       "0.4619164619164619"
      ]
     },
     "execution_count": 68,
     "metadata": {},
     "output_type": "execute_result"
    }
   ],
   "source": [
    "recall = tp / (tp + fn)\n",
    "recall"
   ]
  },
  {
   "cell_type": "code",
   "execution_count": null,
   "id": "bc486918",
   "metadata": {},
   "outputs": [],
   "source": [
    "# или по-другому:\n",
    "\n",
    "from sklearn.metrics import recall_score\n",
    "\n",
    "recall_score(test['Exited'], test['y_pred'])"
   ]
  },
  {
   "cell_type": "code",
   "execution_count": null,
   "id": "dc0a3555",
   "metadata": {},
   "outputs": [],
   "source": [
    "# одного recall недостаточно для оценки качества модели"
   ]
  },
  {
   "cell_type": "code",
   "execution_count": null,
   "id": "dc9d10cc",
   "metadata": {},
   "outputs": [],
   "source": []
  },
  {
   "cell_type": "markdown",
   "id": "549d7dc5",
   "metadata": {},
   "source": [
    "## Precision (точность)"
   ]
  },
  {
   "cell_type": "code",
   "execution_count": null,
   "id": "159e2213",
   "metadata": {},
   "outputs": [],
   "source": [
    "Precision - показывает процент правильных 'единичек', среди всех предсказанных 'единичек'\n",
    "\n",
    "# !!! ПОКАЗЫВАЕТ ПРОЦЕНТ ВСЕХ ПРЕДСКАЗАННЫХ ЕДИНИЧЕК - рассматриваем все единицы из y_pred"
   ]
  },
  {
   "cell_type": "code",
   "execution_count": 67,
   "id": "6d8044b4",
   "metadata": {},
   "outputs": [
    {
     "data": {
      "text/plain": [
       "0.7768595041322314"
      ]
     },
     "execution_count": 67,
     "metadata": {},
     "output_type": "execute_result"
    }
   ],
   "source": [
    "precision = tp/(tp + fp)\n",
    "precision\n",
    "\n",
    "# если нашей модели показывать и отточников и не отточников, то\n",
    "# среди тех, кто отмечен как отточник - будет 77% реальных отточников"
   ]
  },
  {
   "cell_type": "code",
   "execution_count": null,
   "id": "71872024",
   "metadata": {},
   "outputs": [],
   "source": [
    "# или по-другому:\n",
    "\n",
    "from sklearn.metrics import precision_score\n",
    "\n",
    "precision_score(test['Exited'], test['y_pred'])"
   ]
  },
  {
   "cell_type": "code",
   "execution_count": null,
   "id": "1cae5c82",
   "metadata": {},
   "outputs": [],
   "source": []
  },
  {
   "cell_type": "code",
   "execution_count": null,
   "id": "e8ed4700",
   "metadata": {},
   "outputs": [],
   "source": [
    "# Precision у этой модели лучше чем Recall - это означает что:\n",
    "\n",
    "# Проценты Precision говорят о том что такой процент из помеченных моделью как \"1\" будут действительно \"1\"\n",
    "\n",
    "# Проценты Recall говорят о том что, такой процент из реальных \"1\" будут помечены моделью как \"1\""
   ]
  },
  {
   "cell_type": "markdown",
   "id": "3825d84e",
   "metadata": {},
   "source": [
    "### Пример Recall и Precision на кошках и ребенке"
   ]
  },
  {
   "cell_type": "markdown",
   "id": "098c2b96",
   "metadata": {},
   "source": [
    "Учим ребенка опредеялть животное. Если кошка - говорит \"мяу\", если не кошка - молчит.\n",
    "\n",
    "Задача бинарной классификации, ребенок - модель, классификатор.\n",
    "\n",
    "Recall\n",
    "\n",
    "Показали 100 картинок с кошкой. Только 80 сказал \"мяу\". Recall == 80/100 == 0.8 == 80%\n",
    "\n",
    "\n",
    "Precision\n",
    "\n",
    "Показываем 100 картинок не только с кошкой, но и с другими животными.\n",
    "\n",
    "Сказано \"мяу\" 50 раз. Взяли эти 50 картинок на которые сказано \"мяу\" и оказалось что только на 20 из них есть кошка.\n",
    "\n",
    "Значит Precision ребенка 20/50 == 0.4 == 40% \n",
    "\n",
    "Значит из тех 50 \"Мяу\" тоьлко 40% оказались кошкой на самом деле."
   ]
  },
  {
   "cell_type": "code",
   "execution_count": null,
   "id": "cd5d0b33",
   "metadata": {},
   "outputs": [],
   "source": []
  },
  {
   "cell_type": "markdown",
   "id": "d99d5f3d",
   "metadata": {},
   "source": [
    "### С помощью двух этих метрик Recall и Precision уже можно оценивать работу классификатора\n",
    "\n",
    "Одного Recall недостаточно, также как и одного Precision.\n",
    "\n",
    "Но с помощью этих двух метрик уже можно говорить на сколько хорошо решаются задачи классификатора."
   ]
  },
  {
   "cell_type": "code",
   "execution_count": null,
   "id": "186d22a6",
   "metadata": {},
   "outputs": [],
   "source": []
  },
  {
   "cell_type": "markdown",
   "id": "ff79b608",
   "metadata": {},
   "source": [
    "## Метрика F1\n",
    "Объединяет в себе Recall и Precision"
   ]
  },
  {
   "cell_type": "code",
   "execution_count": 72,
   "id": "06521279",
   "metadata": {},
   "outputs": [
    {
     "data": {
      "text/plain": [
       "0.5793528505392913"
      ]
     },
     "execution_count": 72,
     "metadata": {},
     "output_type": "execute_result"
    }
   ],
   "source": [
    "f1 = (2 * recall * precision) / (recall + precision)\n",
    "f1"
   ]
  },
  {
   "cell_type": "code",
   "execution_count": null,
   "id": "0c639a58",
   "metadata": {},
   "outputs": [],
   "source": [
    "# метрика f1 - находится в диапазоне от 0 до 1 и чем больше, тем лучше."
   ]
  },
  {
   "cell_type": "code",
   "execution_count": 73,
   "id": "0554e7c7",
   "metadata": {},
   "outputs": [
    {
     "data": {
      "text/plain": [
       "0.5793528505392913"
      ]
     },
     "execution_count": 73,
     "metadata": {},
     "output_type": "execute_result"
    }
   ],
   "source": [
    "from sklearn.metrics import f1_score\n",
    "\n",
    "f1_score(test['Exited'], test['y_pred'])"
   ]
  },
  {
   "cell_type": "code",
   "execution_count": null,
   "id": "c0ad32c7",
   "metadata": {},
   "outputs": [],
   "source": [
    "# ### Общая функция sklearn для расчета любого f-score:\n",
    "\n",
    "# from sklearn.metrics import fbeta_score\n",
    " \n",
    "# fbeta_score(test['Exited'], test['y_pred'], beta=1)   # f1-score\n",
    " \n",
    "\n",
    "# ### Под капотом:\n",
    "\n",
    "# b = 1\n",
    "\n",
    "# ((1 + b**2) * precision * recall) / (b**2 * precision + recall)"
   ]
  },
  {
   "cell_type": "code",
   "execution_count": null,
   "id": "2cbb8b0c",
   "metadata": {},
   "outputs": [],
   "source": []
  },
  {
   "cell_type": "code",
   "execution_count": null,
   "id": "ea478a9a",
   "metadata": {},
   "outputs": [],
   "source": [
    "# # f1 - является частным случаем F-метрики (F-Score)\n",
    "\n",
    "# https://en.wikipedia.org/wiki/F-score\n",
    "    \n",
    "# # F1 показывает нам насколько Recall важнее чем Precision\n",
    "\n",
    "# # 1 это вес, он может быть и другим (1 - это значение коэфф.бета в формуле F-Score)\n",
    "# # когда бета == 1 это значит Recall и Precision одинаково значимы для нас\n",
    "\n",
    "\n",
    "# # В зависимости от конкретной безнес задачи выставляется 2 (Recall важнее для нас чем precision) или 0.5 (Наоборот)\n",
    "\n",
    "\n",
    "\n",
    "# ### КОГДА НАМ ВАЖЕН Recall ???\n",
    "\n",
    "# Мы хотим сбивать все корабли пришельцев, но это также могут быть астеройды.\n",
    "# Нам неважно сколько мы собъем астеройдов, главное чтобы были сбиты все корабли.\n",
    "# Важно чтобы ни один корабль не прошел.\n",
    "# Не важно сколько при этом уничтожено астеройдов.\n",
    "\n",
    "# ### КОГДА НАМ ВАЖЕН Precision ???\n",
    "\n",
    "# Мы должны назначить очень опасную операцию, и нам надо убедиться что она действительно необходима.\n",
    "# Нам важно точно поставить диагноз.\n",
    "# Поскольку операция опасная - нельзя отправлять всех пациентов на операционный стол без разбора.\n",
    "# Нам важно чтобы на операцию попадали только те, кто точно в ней нуждается.\n",
    "# Нам важен Precision\n"
   ]
  },
  {
   "cell_type": "code",
   "execution_count": null,
   "id": "63868afd",
   "metadata": {},
   "outputs": [],
   "source": []
  },
  {
   "cell_type": "markdown",
   "id": "d35316f2",
   "metadata": {},
   "source": [
    "# Метрика Accuracy\n",
    "Процент правильных ответов\n",
    "\n",
    "#### ЭТУ МЕТРИКУ НЕЛЬЗЯ ИСПОЛЬЗОВАТЬ КОГДА У НАС НЕ СБАЛАНСИРОВАННЫЕ КЛАССЫ\n",
    "#### А это часто бывает"
   ]
  },
  {
   "cell_type": "code",
   "execution_count": null,
   "id": "0a7eb1dc",
   "metadata": {},
   "outputs": [],
   "source": [
    "# несбалансированный класс - это когда доля одного ответа  в данных значительно больше доли другого\n",
    "\n",
    "# когда например у нас 1000 наблюдений и из них только 50 единичек и 950 ноликов\n",
    "\n",
    "# В целом, когда не 50% на 50% то уже несбалансированные). \n",
    "# Поэтому классы всегда на практике несбалансированные). \n",
    "# Ну особо еще выделяют сильный дисбаланс, т.е когда скажем \n",
    "# 30 на 70 или больше. А например 55 на 45 можно считать почти сбалансированными. \n",
    "\n",
    "# как экстремальный пример можно привести задачу предсказания доли кликнувших по \n",
    "# кнопке на странице сайта, эта доля может быть очень низка - 1 клик на несколько \n",
    "# сотен, если не тысяч посещений страницы. Поэтому если модель предскажет, что \n",
    "# никто не кликнул - accuracy всё-равно будет очень высоким"
   ]
  },
  {
   "cell_type": "code",
   "execution_count": null,
   "id": "223b0df9",
   "metadata": {},
   "outputs": [],
   "source": []
  },
  {
   "cell_type": "code",
   "execution_count": null,
   "id": "a2ab3b25",
   "metadata": {},
   "outputs": [],
   "source": [
    "# там где модель назначила правильный класс - будет True, там где - не правильный - будет False:\n",
    "\n",
    "test['Exited'] == test['y_pred']"
   ]
  },
  {
   "cell_type": "code",
   "execution_count": null,
   "id": "d3ee672e",
   "metadata": {},
   "outputs": [],
   "source": [
    "# чтобы понять процент правильных ответов - Accuracy:\n",
    "\n",
    "(test['Exited'] == test['y_pred']).mean()"
   ]
  },
  {
   "cell_type": "code",
   "execution_count": null,
   "id": "d0850163",
   "metadata": {},
   "outputs": [],
   "source": [
    "# или с помощью матрицы ошибок:\n",
    "\n",
    "(tn + tp) / (tn + tp + fn + fp)"
   ]
  },
  {
   "cell_type": "code",
   "execution_count": null,
   "id": "ae9dde23",
   "metadata": {},
   "outputs": [],
   "source": [
    "# или с помощью sklearn:\n",
    "\n",
    "from sklearn.metrics import accuracy_score\n",
    "\n",
    "accuracy_score(test['Exited'], test['y_pred'])"
   ]
  },
  {
   "cell_type": "code",
   "execution_count": null,
   "id": "1ca96915",
   "metadata": {},
   "outputs": [],
   "source": []
  },
  {
   "cell_type": "code",
   "execution_count": null,
   "id": "4a26cb59",
   "metadata": {},
   "outputs": [],
   "source": [
    "# нули и единицы распределены по выборке не 50% на 50%:\n",
    "\n",
    "# доля единиц в нашем случае 20%, доля нулей 80%\n",
    "\n",
    "# это не сбалансированный класс:\n",
    "\n",
    "test['Exited'].mean()\n",
    "\n",
    "# ЭТУ МЕТРИКУ НЕЛЬЗЯ ИСПОЛЬЗОВАТЬ КОГДА У НАС НЕ СБАЛАНСИРОВАННЫЕ КЛАССЫ"
   ]
  },
  {
   "cell_type": "code",
   "execution_count": null,
   "id": "9fb6e7d2",
   "metadata": {},
   "outputs": [],
   "source": []
  },
  {
   "cell_type": "markdown",
   "id": "660b952e",
   "metadata": {},
   "source": [
    "# Classification report"
   ]
  },
  {
   "cell_type": "code",
   "execution_count": 69,
   "id": "01bf5d90",
   "metadata": {},
   "outputs": [],
   "source": [
    "from sklearn.metrics import classification_report"
   ]
  },
  {
   "cell_type": "code",
   "execution_count": 70,
   "id": "8fd3bffd",
   "metadata": {},
   "outputs": [
    {
     "name": "stdout",
     "output_type": "stream",
     "text": [
      "              precision    recall  f1-score   support\n",
      "\n",
      "           0       0.88      0.97      0.92      1593\n",
      "           1       0.78      0.46      0.58       407\n",
      "\n",
      "    accuracy                           0.86      2000\n",
      "   macro avg       0.83      0.71      0.75      2000\n",
      "weighted avg       0.86      0.86      0.85      2000\n",
      "\n"
     ]
    }
   ],
   "source": [
    "print(classification_report(test['Exited'], test['y_pred']))"
   ]
  },
  {
   "cell_type": "code",
   "execution_count": 74,
   "id": "f317ab58",
   "metadata": {},
   "outputs": [
    {
     "name": "stdout",
     "output_type": "stream",
     "text": [
      "0.4619164619164619\n",
      "0.7768595041322314\n",
      "0.5793528505392913\n"
     ]
    }
   ],
   "source": [
    "# выше мы считали для класса еденичек:\n",
    "\n",
    "print(recall)\n",
    "print(precision)\n",
    "print(f1)"
   ]
  },
  {
   "cell_type": "code",
   "execution_count": null,
   "id": "edef32df",
   "metadata": {},
   "outputs": [],
   "source": []
  },
  {
   "cell_type": "markdown",
   "id": "5b7652a7",
   "metadata": {},
   "source": [
    "# ВСЕ ЭТИ МЕТРИКИ ПОСЧИТАНЫ ВСЕГО ЛИШЬ ДЛЯ ОДНОГО ПОРОГА, КОТОРЫЙ МЫ ЗАДАЛИ"
   ]
  },
  {
   "cell_type": "code",
   "execution_count": null,
   "id": "cd6ee2b2",
   "metadata": {},
   "outputs": [],
   "source": [
    "\n",
    "\n",
    "# # Предикт y_pred - с установленным порогом:\n",
    "\n",
    "# test['y_pred'] = test['SCORE_ALL_FEATURES'] > 0.5\n",
    "\n",
    "# Это тот порог с помощью которого мы преобразовали наш SCORE в нолики или единицы\n",
    "\n",
    "# Но мы можем выбрать любой порог вместо 0.5 - любой порог в диапазоне от 0 до единицы\n",
    "\n"
   ]
  },
  {
   "cell_type": "code",
   "execution_count": 75,
   "id": "da860815",
   "metadata": {},
   "outputs": [],
   "source": [
    "# например сделаем порог в 0.4\n",
    "\n",
    "test['y_pred'] = test['SCORE_ALL_FEATURES'] > 0.4"
   ]
  },
  {
   "cell_type": "code",
   "execution_count": 77,
   "id": "4faa8492",
   "metadata": {},
   "outputs": [
    {
     "name": "stdout",
     "output_type": "stream",
     "text": [
      "              precision    recall  f1-score   support\n",
      "\n",
      "           0       0.89      0.94      0.92      1593\n",
      "           1       0.71      0.55      0.62       407\n",
      "\n",
      "    accuracy                           0.86      2000\n",
      "   macro avg       0.80      0.75      0.77      2000\n",
      "weighted avg       0.86      0.86      0.86      2000\n",
      "\n"
     ]
    }
   ],
   "source": [
    "# выводым classification_report для порога 0.4:\n",
    "\n",
    "# classification_report и значения recall, precision - для этого порога - другие, чем для 0.5:\n",
    "\n",
    "print(classification_report(test['Exited'], test['y_pred']))"
   ]
  },
  {
   "cell_type": "code",
   "execution_count": null,
   "id": "715a39eb",
   "metadata": {},
   "outputs": [],
   "source": []
  },
  {
   "cell_type": "code",
   "execution_count": null,
   "id": "94786dd2",
   "metadata": {},
   "outputs": [],
   "source": [
    "# Нас интересует максимальный f1 - при каком пороге f1 - максимальный???\n",
    "\n",
    "# Для того, чтобы найти максимальный f1 надо взять все пороги и посчитать для них f1, выбрать максимальный\n",
    "\n",
    "# Бесконечное количество порогов перебирать не надо:\n",
    "\n",
    "\n",
    "# Необходимо перебрать только количество уникальных скоров\n",
    "\n",
    "# И еще нужно добавить порог, при котором все значения будут классифицированы как единица. \n",
    "# Например добавлением искусственно нуля в начало скора\n"
   ]
  },
  {
   "cell_type": "code",
   "execution_count": 81,
   "id": "92e777cc",
   "metadata": {},
   "outputs": [
    {
     "data": {
      "text/plain": [
       "0       0.117387\n",
       "1       0.069690\n",
       "2       0.169110\n",
       "3       0.089905\n",
       "4       0.062131\n",
       "          ...   \n",
       "1995    0.026964\n",
       "1996    0.102691\n",
       "1997    0.176148\n",
       "1998    0.066283\n",
       "1999    0.058493\n",
       "Name: SCORE_ALL_FEATURES, Length: 2000, dtype: float64"
      ]
     },
     "execution_count": 81,
     "metadata": {},
     "output_type": "execute_result"
    }
   ],
   "source": [
    "# Посчитаем f1 для всех возможных порогов и найдем порог с максимальным f1:\n",
    "\n",
    "\n",
    "test['SCORE_ALL_FEATURES']"
   ]
  },
  {
   "cell_type": "code",
   "execution_count": 83,
   "id": "8dceb2cf",
   "metadata": {},
   "outputs": [
    {
     "data": {
      "text/plain": [
       "2000"
      ]
     },
     "execution_count": 83,
     "metadata": {},
     "output_type": "execute_result"
    }
   ],
   "source": [
    "# количество уникальных скоров:\n",
    "\n",
    "test['SCORE_ALL_FEATURES'].nunique()"
   ]
  },
  {
   "cell_type": "code",
   "execution_count": 86,
   "id": "e1f29505",
   "metadata": {},
   "outputs": [],
   "source": [
    "# thrs - сокращение от thresholds - переменная содержащая все пороги\n",
    "\n",
    "thrs = list(test['SCORE_ALL_FEATURES'].unique())"
   ]
  },
  {
   "cell_type": "code",
   "execution_count": 91,
   "id": "31c57059",
   "metadata": {},
   "outputs": [
    {
     "data": {
      "text/plain": [
       "[0,\n",
       " 0.11738709825258084,\n",
       " 0.0696899683335773,\n",
       " 0.16910957639629676,\n",
       " 0.08990490897318036,\n",
       " 0.06213052149758565,\n",
       " 0.06769608755703861,\n",
       " 0.5314062142371105,\n",
       " 0.230024897124664,\n",
       " 0.053961966815553576]"
      ]
     },
     "execution_count": 91,
     "metadata": {},
     "output_type": "execute_result"
    }
   ],
   "source": [
    "# выведем первые 10 возможных порогов (из 2000 в данном случае):\n",
    "\n",
    "thrs[:10]"
   ]
  },
  {
   "cell_type": "code",
   "execution_count": 88,
   "id": "9d9b919e",
   "metadata": {},
   "outputs": [
    {
     "data": {
      "text/plain": [
       "0.010188542527368925"
      ]
     },
     "execution_count": 88,
     "metadata": {},
     "output_type": "execute_result"
    }
   ],
   "source": [
    "# и еще нужно вывести пороги, при которых все значения скора получат метку \"1\":\n",
    "\n",
    "# минимальный порог:\n",
    "min(thrs)"
   ]
  },
  {
   "cell_type": "code",
   "execution_count": 89,
   "id": "7439a372",
   "metadata": {},
   "outputs": [],
   "source": [
    "# добавим значение еще меньше минимального порога - тогда все значения score получат метки \"1\":\n",
    "\n",
    "thrs = [0] + list(test['SCORE_ALL_FEATURES'].unique())"
   ]
  },
  {
   "cell_type": "code",
   "execution_count": 92,
   "id": "74e35515",
   "metadata": {},
   "outputs": [
    {
     "data": {
      "text/plain": [
       "[0,\n",
       " 0.11738709825258084,\n",
       " 0.0696899683335773,\n",
       " 0.16910957639629676,\n",
       " 0.08990490897318036,\n",
       " 0.06213052149758565,\n",
       " 0.06769608755703861,\n",
       " 0.5314062142371105,\n",
       " 0.230024897124664,\n",
       " 0.053961966815553576]"
      ]
     },
     "execution_count": 92,
     "metadata": {},
     "output_type": "execute_result"
    }
   ],
   "source": [
    "thrs[:10]"
   ]
  },
  {
   "cell_type": "code",
   "execution_count": 98,
   "id": "83044e17",
   "metadata": {},
   "outputs": [
    {
     "ename": "ImportError",
     "evalue": "IProgress not found. Please update jupyter and ipywidgets. See https://ipywidgets.readthedocs.io/en/stable/user_install.html",
     "output_type": "error",
     "traceback": [
      "\u001b[1;31m---------------------------------------------------------------------------\u001b[0m",
      "\u001b[1;31mImportError\u001b[0m                               Traceback (most recent call last)",
      "Cell \u001b[1;32mIn[98], line 15\u001b[0m\n\u001b[0;32m     10\u001b[0m result \u001b[38;5;241m=\u001b[39m []\n\u001b[0;32m     12\u001b[0m \u001b[38;5;66;03m# для каждого порога делаем предикт в столбце y_pred_new:\u001b[39;00m\n\u001b[0;32m     13\u001b[0m \u001b[38;5;66;03m# чтобы получить прогресс-бар надо завернуть в tqdm тот спискок - по которому мы идем циклом:\u001b[39;00m\n\u001b[1;32m---> 15\u001b[0m \u001b[38;5;28;01mfor\u001b[39;00m i \u001b[38;5;129;01min\u001b[39;00m \u001b[43mtqdm\u001b[49m\u001b[43m(\u001b[49m\u001b[43mthrs\u001b[49m\u001b[43m)\u001b[49m:\n\u001b[0;32m     16\u001b[0m     test[\u001b[38;5;124m'\u001b[39m\u001b[38;5;124my_pred_new\u001b[39m\u001b[38;5;124m'\u001b[39m] \u001b[38;5;241m=\u001b[39m test[\u001b[38;5;124m'\u001b[39m\u001b[38;5;124mSCORE_ALL_FEATURES\u001b[39m\u001b[38;5;124m'\u001b[39m] \u001b[38;5;241m>\u001b[39m i\n\u001b[0;32m     18\u001b[0m     \u001b[38;5;66;03m# для каждого порога считаем f1:    \u001b[39;00m\n",
      "File \u001b[1;32m~\\AppData\\Local\\Programs\\Python\\Python310\\lib\\site-packages\\tqdm\\notebook.py:238\u001b[0m, in \u001b[0;36mtqdm_notebook.__init__\u001b[1;34m(self, *args, **kwargs)\u001b[0m\n\u001b[0;32m    236\u001b[0m unit_scale \u001b[38;5;241m=\u001b[39m \u001b[38;5;241m1\u001b[39m \u001b[38;5;28;01mif\u001b[39;00m \u001b[38;5;28mself\u001b[39m\u001b[38;5;241m.\u001b[39munit_scale \u001b[38;5;129;01mis\u001b[39;00m \u001b[38;5;28;01mTrue\u001b[39;00m \u001b[38;5;28;01melse\u001b[39;00m \u001b[38;5;28mself\u001b[39m\u001b[38;5;241m.\u001b[39munit_scale \u001b[38;5;129;01mor\u001b[39;00m \u001b[38;5;241m1\u001b[39m\n\u001b[0;32m    237\u001b[0m total \u001b[38;5;241m=\u001b[39m \u001b[38;5;28mself\u001b[39m\u001b[38;5;241m.\u001b[39mtotal \u001b[38;5;241m*\u001b[39m unit_scale \u001b[38;5;28;01mif\u001b[39;00m \u001b[38;5;28mself\u001b[39m\u001b[38;5;241m.\u001b[39mtotal \u001b[38;5;28;01melse\u001b[39;00m \u001b[38;5;28mself\u001b[39m\u001b[38;5;241m.\u001b[39mtotal\n\u001b[1;32m--> 238\u001b[0m \u001b[38;5;28mself\u001b[39m\u001b[38;5;241m.\u001b[39mcontainer \u001b[38;5;241m=\u001b[39m \u001b[38;5;28;43mself\u001b[39;49m\u001b[38;5;241;43m.\u001b[39;49m\u001b[43mstatus_printer\u001b[49m\u001b[43m(\u001b[49m\u001b[38;5;28;43mself\u001b[39;49m\u001b[38;5;241;43m.\u001b[39;49m\u001b[43mfp\u001b[49m\u001b[43m,\u001b[49m\u001b[43m \u001b[49m\u001b[43mtotal\u001b[49m\u001b[43m,\u001b[49m\u001b[43m \u001b[49m\u001b[38;5;28;43mself\u001b[39;49m\u001b[38;5;241;43m.\u001b[39;49m\u001b[43mdesc\u001b[49m\u001b[43m,\u001b[49m\u001b[43m \u001b[49m\u001b[38;5;28;43mself\u001b[39;49m\u001b[38;5;241;43m.\u001b[39;49m\u001b[43mncols\u001b[49m\u001b[43m)\u001b[49m\n\u001b[0;32m    239\u001b[0m \u001b[38;5;28mself\u001b[39m\u001b[38;5;241m.\u001b[39mcontainer\u001b[38;5;241m.\u001b[39mpbar \u001b[38;5;241m=\u001b[39m proxy(\u001b[38;5;28mself\u001b[39m)\n\u001b[0;32m    240\u001b[0m \u001b[38;5;28mself\u001b[39m\u001b[38;5;241m.\u001b[39mdisplayed \u001b[38;5;241m=\u001b[39m \u001b[38;5;28;01mFalse\u001b[39;00m\n",
      "File \u001b[1;32m~\\AppData\\Local\\Programs\\Python\\Python310\\lib\\site-packages\\tqdm\\notebook.py:113\u001b[0m, in \u001b[0;36mtqdm_notebook.status_printer\u001b[1;34m(_, total, desc, ncols)\u001b[0m\n\u001b[0;32m    104\u001b[0m \u001b[38;5;66;03m# Fallback to text bar if there's no total\u001b[39;00m\n\u001b[0;32m    105\u001b[0m \u001b[38;5;66;03m# DEPRECATED: replaced with an 'info' style bar\u001b[39;00m\n\u001b[0;32m    106\u001b[0m \u001b[38;5;66;03m# if not total:\u001b[39;00m\n\u001b[1;32m   (...)\u001b[0m\n\u001b[0;32m    110\u001b[0m \n\u001b[0;32m    111\u001b[0m \u001b[38;5;66;03m# Prepare IPython progress bar\u001b[39;00m\n\u001b[0;32m    112\u001b[0m \u001b[38;5;28;01mif\u001b[39;00m IProgress \u001b[38;5;129;01mis\u001b[39;00m \u001b[38;5;28;01mNone\u001b[39;00m:  \u001b[38;5;66;03m# #187 #451 #558 #872\u001b[39;00m\n\u001b[1;32m--> 113\u001b[0m     \u001b[38;5;28;01mraise\u001b[39;00m \u001b[38;5;167;01mImportError\u001b[39;00m(WARN_NOIPYW)\n\u001b[0;32m    114\u001b[0m \u001b[38;5;28;01mif\u001b[39;00m total:\n\u001b[0;32m    115\u001b[0m     pbar \u001b[38;5;241m=\u001b[39m IProgress(\u001b[38;5;28mmin\u001b[39m\u001b[38;5;241m=\u001b[39m\u001b[38;5;241m0\u001b[39m, \u001b[38;5;28mmax\u001b[39m\u001b[38;5;241m=\u001b[39mtotal)\n",
      "\u001b[1;31mImportError\u001b[0m: IProgress not found. Please update jupyter and ipywidgets. See https://ipywidgets.readthedocs.io/en/stable/user_install.html"
     ]
    }
   ],
   "source": [
    "from sklearn.metrics import f1_score\n",
    "\n",
    "# для визуализации длительного процесса вычислений - выведем прогресс-бар:\n",
    "\n",
    "from tqdm.notebook import tqdm\n",
    "\n",
    "# теперь есть все пороги для которых нужно посчитать f1:\n",
    "\n",
    "# создаем массив в котором будем хранить все f1:\n",
    "result = []\n",
    "\n",
    "# для каждого порога делаем предикт в столбце y_pred_new:\n",
    "# чтобы получить прогресс-бар надо завернуть в tqdm тот спискок - по которому мы идем циклом:\n",
    "\n",
    "for i in tqdm(thrs):\n",
    "    test['y_pred_new'] = test['SCORE_ALL_FEATURES'] > i\n",
    "    \n",
    "    # для каждого порога считаем f1:    \n",
    "    f1_score = f1_score(test['Exited'], test['y_pred'])\n",
    "    \n",
    "    # добавляем в спискок:\n",
    "    result.append(f1_score)"
   ]
  },
  {
   "cell_type": "code",
   "execution_count": 101,
   "id": "0c4fd74f",
   "metadata": {},
   "outputs": [
    {
     "name": "stdout",
     "output_type": "stream",
     "text": [
      "Requirement already satisfied: widgetsnbextension in c:\\users\\roman\\appdata\\local\\programs\\python\\python310\\lib\\site-packages (4.0.7)\n",
      "Note: you may need to restart the kernel to use updated packages.\n"
     ]
    },
    {
     "name": "stderr",
     "output_type": "stream",
     "text": [
      "\n",
      "[notice] A new release of pip is available: 23.0 -> 23.1.2\n",
      "[notice] To update, run: python.exe -m pip install --upgrade pip\n"
     ]
    }
   ],
   "source": [
    "pip install widgetsnbextension"
   ]
  },
  {
   "cell_type": "code",
   "execution_count": null,
   "id": "ed8d251c",
   "metadata": {},
   "outputs": [],
   "source": []
  },
  {
   "cell_type": "code",
   "execution_count": null,
   "id": "11894e67",
   "metadata": {},
   "outputs": [],
   "source": []
  }
 ],
 "metadata": {
  "kernelspec": {
   "display_name": "Python 3 (ipykernel)",
   "language": "python",
   "name": "python3"
  },
  "language_info": {
   "codemirror_mode": {
    "name": "ipython",
    "version": 3
   },
   "file_extension": ".py",
   "mimetype": "text/x-python",
   "name": "python",
   "nbconvert_exporter": "python",
   "pygments_lexer": "ipython3",
   "version": "3.10.0"
  }
 },
 "nbformat": 4,
 "nbformat_minor": 5
}
