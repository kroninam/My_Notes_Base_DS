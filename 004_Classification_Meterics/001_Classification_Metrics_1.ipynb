{
 "cells": [
  {
   "cell_type": "code",
   "execution_count": 1,
   "id": "ecd45073",
   "metadata": {},
   "outputs": [],
   "source": [
    "import numpy as np\n",
    "import pandas as pd"
   ]
  },
  {
   "cell_type": "code",
   "execution_count": 3,
   "id": "72742276",
   "metadata": {},
   "outputs": [],
   "source": [
    "# https://www.kaggle.com/datasets/shubh0799/churn-modelling"
   ]
  },
  {
   "cell_type": "code",
   "execution_count": 20,
   "id": "50a1e505",
   "metadata": {},
   "outputs": [],
   "source": [
    "df = pd.read_csv('archive_churn_modelling/Churn_Modelling.csv')"
   ]
  },
  {
   "cell_type": "code",
   "execution_count": null,
   "id": "50f5631b",
   "metadata": {},
   "outputs": [],
   "source": []
  },
  {
   "cell_type": "markdown",
   "id": "3e285227",
   "metadata": {},
   "source": [
    "# ДЕЛЕНИЕ НА ВЫБОРКИ"
   ]
  },
  {
   "cell_type": "code",
   "execution_count": 21,
   "id": "1c5d1765",
   "metadata": {},
   "outputs": [],
   "source": [
    "from sklearn.model_selection import train_test_split\n",
    "\n",
    "# чтобы избегать неравносмерности доли целевого параметра нужно задавать startify\n",
    "\n",
    "train, test = train_test_split(df, train_size = 0.6, random_state = 42, stratify = df['Exited'])"
   ]
  },
  {
   "cell_type": "code",
   "execution_count": 22,
   "id": "07e5f612",
   "metadata": {},
   "outputs": [],
   "source": [
    "val, test = train_test_split(test, train_size = 0.5, random_state = 42, stratify = test['Exited'])"
   ]
  },
  {
   "cell_type": "code",
   "execution_count": null,
   "id": "6503d3de",
   "metadata": {},
   "outputs": [],
   "source": []
  },
  {
   "cell_type": "markdown",
   "id": "cf10890f",
   "metadata": {},
   "source": [
    "# ЧЕЛОВЕЧЕСКОЕ ОБУЧЕНИЕ НА ДВУХ ФИЧАХ"
   ]
  },
  {
   "cell_type": "code",
   "execution_count": 23,
   "id": "2ca93d9c",
   "metadata": {},
   "outputs": [],
   "source": [
    "# в человеческом обучении val не нужен, поэтому соединяем с train чтобы данных было больше\n",
    "train_val = pd.concat([train, val])"
   ]
  },
  {
   "cell_type": "code",
   "execution_count": 24,
   "id": "e77e9eac",
   "metadata": {
    "scrolled": true
   },
   "outputs": [
    {
     "data": {
      "text/html": [
       "<div>\n",
       "<style scoped>\n",
       "    .dataframe tbody tr th:only-of-type {\n",
       "        vertical-align: middle;\n",
       "    }\n",
       "\n",
       "    .dataframe tbody tr th {\n",
       "        vertical-align: top;\n",
       "    }\n",
       "\n",
       "    .dataframe thead th {\n",
       "        text-align: right;\n",
       "    }\n",
       "</style>\n",
       "<table border=\"1\" class=\"dataframe\">\n",
       "  <thead>\n",
       "    <tr style=\"text-align: right;\">\n",
       "      <th></th>\n",
       "      <th>RowNumber</th>\n",
       "      <th>CustomerId</th>\n",
       "      <th>Surname</th>\n",
       "      <th>CreditScore</th>\n",
       "      <th>Geography</th>\n",
       "      <th>Gender</th>\n",
       "      <th>Age</th>\n",
       "      <th>Tenure</th>\n",
       "      <th>Balance</th>\n",
       "      <th>NumOfProducts</th>\n",
       "      <th>HasCrCard</th>\n",
       "      <th>IsActiveMember</th>\n",
       "      <th>EstimatedSalary</th>\n",
       "      <th>Exited</th>\n",
       "    </tr>\n",
       "  </thead>\n",
       "  <tbody>\n",
       "    <tr>\n",
       "      <th>6851</th>\n",
       "      <td>6852</td>\n",
       "      <td>15779103</td>\n",
       "      <td>Cantamessa</td>\n",
       "      <td>527</td>\n",
       "      <td>Germany</td>\n",
       "      <td>Female</td>\n",
       "      <td>39</td>\n",
       "      <td>9</td>\n",
       "      <td>96748.89</td>\n",
       "      <td>2</td>\n",
       "      <td>1</td>\n",
       "      <td>0</td>\n",
       "      <td>94711.43</td>\n",
       "      <td>0</td>\n",
       "    </tr>\n",
       "    <tr>\n",
       "      <th>7026</th>\n",
       "      <td>7027</td>\n",
       "      <td>15588123</td>\n",
       "      <td>Horton</td>\n",
       "      <td>677</td>\n",
       "      <td>France</td>\n",
       "      <td>Female</td>\n",
       "      <td>27</td>\n",
       "      <td>2</td>\n",
       "      <td>0.00</td>\n",
       "      <td>2</td>\n",
       "      <td>0</td>\n",
       "      <td>1</td>\n",
       "      <td>114685.92</td>\n",
       "      <td>0</td>\n",
       "    </tr>\n",
       "    <tr>\n",
       "      <th>5705</th>\n",
       "      <td>5706</td>\n",
       "      <td>15698703</td>\n",
       "      <td>Doherty</td>\n",
       "      <td>628</td>\n",
       "      <td>Germany</td>\n",
       "      <td>Male</td>\n",
       "      <td>40</td>\n",
       "      <td>5</td>\n",
       "      <td>181768.32</td>\n",
       "      <td>2</td>\n",
       "      <td>1</td>\n",
       "      <td>1</td>\n",
       "      <td>129107.97</td>\n",
       "      <td>0</td>\n",
       "    </tr>\n",
       "  </tbody>\n",
       "</table>\n",
       "</div>"
      ],
      "text/plain": [
       "      RowNumber  CustomerId     Surname  CreditScore Geography  Gender  Age  \\\n",
       "6851       6852    15779103  Cantamessa          527   Germany  Female   39   \n",
       "7026       7027    15588123      Horton          677    France  Female   27   \n",
       "5705       5706    15698703     Doherty          628   Germany    Male   40   \n",
       "\n",
       "      Tenure    Balance  NumOfProducts  HasCrCard  IsActiveMember  \\\n",
       "6851       9   96748.89              2          1               0   \n",
       "7026       2       0.00              2          0               1   \n",
       "5705       5  181768.32              2          1               1   \n",
       "\n",
       "      EstimatedSalary  Exited  \n",
       "6851         94711.43       0  \n",
       "7026        114685.92       0  \n",
       "5705        129107.97       0  "
      ]
     },
     "execution_count": 24,
     "metadata": {},
     "output_type": "execute_result"
    }
   ],
   "source": [
    "train_val.head(3)"
   ]
  },
  {
   "cell_type": "code",
   "execution_count": 25,
   "id": "6c8bf83d",
   "metadata": {},
   "outputs": [],
   "source": [
    "# так как Age переменная непрерывная - делим ее на группы:\n",
    "train_val['age_group'] = pd.cut(train_val['Age'], [0, 31, 35, 40, 46, 99])"
   ]
  },
  {
   "cell_type": "code",
   "execution_count": 26,
   "id": "db1c1063",
   "metadata": {},
   "outputs": [
    {
     "data": {
      "text/html": [
       "<div>\n",
       "<style scoped>\n",
       "    .dataframe tbody tr th:only-of-type {\n",
       "        vertical-align: middle;\n",
       "    }\n",
       "\n",
       "    .dataframe tbody tr th {\n",
       "        vertical-align: top;\n",
       "    }\n",
       "\n",
       "    .dataframe thead th {\n",
       "        text-align: right;\n",
       "    }\n",
       "</style>\n",
       "<table border=\"1\" class=\"dataframe\">\n",
       "  <thead>\n",
       "    <tr style=\"text-align: right;\">\n",
       "      <th></th>\n",
       "      <th>NumOfProducts</th>\n",
       "      <th>age_group</th>\n",
       "      <th>Exited</th>\n",
       "    </tr>\n",
       "  </thead>\n",
       "  <tbody>\n",
       "    <tr>\n",
       "      <th>0</th>\n",
       "      <td>1</td>\n",
       "      <td>(0, 31]</td>\n",
       "      <td>0.106774</td>\n",
       "    </tr>\n",
       "    <tr>\n",
       "      <th>1</th>\n",
       "      <td>1</td>\n",
       "      <td>(31, 35]</td>\n",
       "      <td>0.135908</td>\n",
       "    </tr>\n",
       "    <tr>\n",
       "      <th>2</th>\n",
       "      <td>1</td>\n",
       "      <td>(35, 40]</td>\n",
       "      <td>0.198646</td>\n",
       "    </tr>\n",
       "    <tr>\n",
       "      <th>3</th>\n",
       "      <td>1</td>\n",
       "      <td>(40, 46]</td>\n",
       "      <td>0.378873</td>\n",
       "    </tr>\n",
       "    <tr>\n",
       "      <th>4</th>\n",
       "      <td>1</td>\n",
       "      <td>(46, 99]</td>\n",
       "      <td>0.542506</td>\n",
       "    </tr>\n",
       "    <tr>\n",
       "      <th>5</th>\n",
       "      <td>2</td>\n",
       "      <td>(0, 31]</td>\n",
       "      <td>0.029293</td>\n",
       "    </tr>\n",
       "    <tr>\n",
       "      <th>6</th>\n",
       "      <td>2</td>\n",
       "      <td>(31, 35]</td>\n",
       "      <td>0.031206</td>\n",
       "    </tr>\n",
       "    <tr>\n",
       "      <th>7</th>\n",
       "      <td>2</td>\n",
       "      <td>(35, 40]</td>\n",
       "      <td>0.059977</td>\n",
       "    </tr>\n",
       "    <tr>\n",
       "      <th>8</th>\n",
       "      <td>2</td>\n",
       "      <td>(40, 46]</td>\n",
       "      <td>0.106239</td>\n",
       "    </tr>\n",
       "    <tr>\n",
       "      <th>9</th>\n",
       "      <td>2</td>\n",
       "      <td>(46, 99]</td>\n",
       "      <td>0.225869</td>\n",
       "    </tr>\n",
       "    <tr>\n",
       "      <th>10</th>\n",
       "      <td>3</td>\n",
       "      <td>(0, 31]</td>\n",
       "      <td>0.562500</td>\n",
       "    </tr>\n",
       "    <tr>\n",
       "      <th>11</th>\n",
       "      <td>3</td>\n",
       "      <td>(31, 35]</td>\n",
       "      <td>0.647059</td>\n",
       "    </tr>\n",
       "    <tr>\n",
       "      <th>12</th>\n",
       "      <td>3</td>\n",
       "      <td>(35, 40]</td>\n",
       "      <td>0.783784</td>\n",
       "    </tr>\n",
       "    <tr>\n",
       "      <th>13</th>\n",
       "      <td>3</td>\n",
       "      <td>(40, 46]</td>\n",
       "      <td>0.900000</td>\n",
       "    </tr>\n",
       "    <tr>\n",
       "      <th>14</th>\n",
       "      <td>3</td>\n",
       "      <td>(46, 99]</td>\n",
       "      <td>0.945205</td>\n",
       "    </tr>\n",
       "    <tr>\n",
       "      <th>15</th>\n",
       "      <td>4</td>\n",
       "      <td>(0, 31]</td>\n",
       "      <td>1.000000</td>\n",
       "    </tr>\n",
       "    <tr>\n",
       "      <th>16</th>\n",
       "      <td>4</td>\n",
       "      <td>(31, 35]</td>\n",
       "      <td>1.000000</td>\n",
       "    </tr>\n",
       "    <tr>\n",
       "      <th>17</th>\n",
       "      <td>4</td>\n",
       "      <td>(35, 40]</td>\n",
       "      <td>1.000000</td>\n",
       "    </tr>\n",
       "    <tr>\n",
       "      <th>18</th>\n",
       "      <td>4</td>\n",
       "      <td>(40, 46]</td>\n",
       "      <td>1.000000</td>\n",
       "    </tr>\n",
       "    <tr>\n",
       "      <th>19</th>\n",
       "      <td>4</td>\n",
       "      <td>(46, 99]</td>\n",
       "      <td>1.000000</td>\n",
       "    </tr>\n",
       "  </tbody>\n",
       "</table>\n",
       "</div>"
      ],
      "text/plain": [
       "    NumOfProducts age_group    Exited\n",
       "0               1   (0, 31]  0.106774\n",
       "1               1  (31, 35]  0.135908\n",
       "2               1  (35, 40]  0.198646\n",
       "3               1  (40, 46]  0.378873\n",
       "4               1  (46, 99]  0.542506\n",
       "5               2   (0, 31]  0.029293\n",
       "6               2  (31, 35]  0.031206\n",
       "7               2  (35, 40]  0.059977\n",
       "8               2  (40, 46]  0.106239\n",
       "9               2  (46, 99]  0.225869\n",
       "10              3   (0, 31]  0.562500\n",
       "11              3  (31, 35]  0.647059\n",
       "12              3  (35, 40]  0.783784\n",
       "13              3  (40, 46]  0.900000\n",
       "14              3  (46, 99]  0.945205\n",
       "15              4   (0, 31]  1.000000\n",
       "16              4  (31, 35]  1.000000\n",
       "17              4  (35, 40]  1.000000\n",
       "18              4  (40, 46]  1.000000\n",
       "19              4  (46, 99]  1.000000"
      ]
     },
     "execution_count": 26,
     "metadata": {},
     "output_type": "execute_result"
    }
   ],
   "source": [
    "# получаем модель\n",
    "model = train_val.groupby(['NumOfProducts', 'age_group'])['Exited'].agg('mean').reset_index()\n",
    "model"
   ]
  },
  {
   "cell_type": "code",
   "execution_count": 27,
   "id": "9589ebc4",
   "metadata": {},
   "outputs": [],
   "source": [
    "# Переименовываем колонки, чтобы не было повторных названий типо Exited_x, Exited_y\n",
    "model.columns = ['NumOfProducts', 'age_group', 'score_prod_age']"
   ]
  },
  {
   "cell_type": "code",
   "execution_count": 28,
   "id": "08df8c9b",
   "metadata": {},
   "outputs": [
    {
     "data": {
      "text/html": [
       "<div>\n",
       "<style scoped>\n",
       "    .dataframe tbody tr th:only-of-type {\n",
       "        vertical-align: middle;\n",
       "    }\n",
       "\n",
       "    .dataframe tbody tr th {\n",
       "        vertical-align: top;\n",
       "    }\n",
       "\n",
       "    .dataframe thead th {\n",
       "        text-align: right;\n",
       "    }\n",
       "</style>\n",
       "<table border=\"1\" class=\"dataframe\">\n",
       "  <thead>\n",
       "    <tr style=\"text-align: right;\">\n",
       "      <th></th>\n",
       "      <th>NumOfProducts</th>\n",
       "      <th>age_group</th>\n",
       "      <th>score_prod_age</th>\n",
       "    </tr>\n",
       "  </thead>\n",
       "  <tbody>\n",
       "    <tr>\n",
       "      <th>0</th>\n",
       "      <td>1</td>\n",
       "      <td>(0, 31]</td>\n",
       "      <td>0.106774</td>\n",
       "    </tr>\n",
       "    <tr>\n",
       "      <th>1</th>\n",
       "      <td>1</td>\n",
       "      <td>(31, 35]</td>\n",
       "      <td>0.135908</td>\n",
       "    </tr>\n",
       "    <tr>\n",
       "      <th>2</th>\n",
       "      <td>1</td>\n",
       "      <td>(35, 40]</td>\n",
       "      <td>0.198646</td>\n",
       "    </tr>\n",
       "    <tr>\n",
       "      <th>3</th>\n",
       "      <td>1</td>\n",
       "      <td>(40, 46]</td>\n",
       "      <td>0.378873</td>\n",
       "    </tr>\n",
       "    <tr>\n",
       "      <th>4</th>\n",
       "      <td>1</td>\n",
       "      <td>(46, 99]</td>\n",
       "      <td>0.542506</td>\n",
       "    </tr>\n",
       "    <tr>\n",
       "      <th>5</th>\n",
       "      <td>2</td>\n",
       "      <td>(0, 31]</td>\n",
       "      <td>0.029293</td>\n",
       "    </tr>\n",
       "    <tr>\n",
       "      <th>6</th>\n",
       "      <td>2</td>\n",
       "      <td>(31, 35]</td>\n",
       "      <td>0.031206</td>\n",
       "    </tr>\n",
       "    <tr>\n",
       "      <th>7</th>\n",
       "      <td>2</td>\n",
       "      <td>(35, 40]</td>\n",
       "      <td>0.059977</td>\n",
       "    </tr>\n",
       "    <tr>\n",
       "      <th>8</th>\n",
       "      <td>2</td>\n",
       "      <td>(40, 46]</td>\n",
       "      <td>0.106239</td>\n",
       "    </tr>\n",
       "    <tr>\n",
       "      <th>9</th>\n",
       "      <td>2</td>\n",
       "      <td>(46, 99]</td>\n",
       "      <td>0.225869</td>\n",
       "    </tr>\n",
       "    <tr>\n",
       "      <th>10</th>\n",
       "      <td>3</td>\n",
       "      <td>(0, 31]</td>\n",
       "      <td>0.562500</td>\n",
       "    </tr>\n",
       "    <tr>\n",
       "      <th>11</th>\n",
       "      <td>3</td>\n",
       "      <td>(31, 35]</td>\n",
       "      <td>0.647059</td>\n",
       "    </tr>\n",
       "    <tr>\n",
       "      <th>12</th>\n",
       "      <td>3</td>\n",
       "      <td>(35, 40]</td>\n",
       "      <td>0.783784</td>\n",
       "    </tr>\n",
       "    <tr>\n",
       "      <th>13</th>\n",
       "      <td>3</td>\n",
       "      <td>(40, 46]</td>\n",
       "      <td>0.900000</td>\n",
       "    </tr>\n",
       "    <tr>\n",
       "      <th>14</th>\n",
       "      <td>3</td>\n",
       "      <td>(46, 99]</td>\n",
       "      <td>0.945205</td>\n",
       "    </tr>\n",
       "    <tr>\n",
       "      <th>15</th>\n",
       "      <td>4</td>\n",
       "      <td>(0, 31]</td>\n",
       "      <td>1.000000</td>\n",
       "    </tr>\n",
       "    <tr>\n",
       "      <th>16</th>\n",
       "      <td>4</td>\n",
       "      <td>(31, 35]</td>\n",
       "      <td>1.000000</td>\n",
       "    </tr>\n",
       "    <tr>\n",
       "      <th>17</th>\n",
       "      <td>4</td>\n",
       "      <td>(35, 40]</td>\n",
       "      <td>1.000000</td>\n",
       "    </tr>\n",
       "    <tr>\n",
       "      <th>18</th>\n",
       "      <td>4</td>\n",
       "      <td>(40, 46]</td>\n",
       "      <td>1.000000</td>\n",
       "    </tr>\n",
       "    <tr>\n",
       "      <th>19</th>\n",
       "      <td>4</td>\n",
       "      <td>(46, 99]</td>\n",
       "      <td>1.000000</td>\n",
       "    </tr>\n",
       "  </tbody>\n",
       "</table>\n",
       "</div>"
      ],
      "text/plain": [
       "    NumOfProducts age_group  score_prod_age\n",
       "0               1   (0, 31]        0.106774\n",
       "1               1  (31, 35]        0.135908\n",
       "2               1  (35, 40]        0.198646\n",
       "3               1  (40, 46]        0.378873\n",
       "4               1  (46, 99]        0.542506\n",
       "5               2   (0, 31]        0.029293\n",
       "6               2  (31, 35]        0.031206\n",
       "7               2  (35, 40]        0.059977\n",
       "8               2  (40, 46]        0.106239\n",
       "9               2  (46, 99]        0.225869\n",
       "10              3   (0, 31]        0.562500\n",
       "11              3  (31, 35]        0.647059\n",
       "12              3  (35, 40]        0.783784\n",
       "13              3  (40, 46]        0.900000\n",
       "14              3  (46, 99]        0.945205\n",
       "15              4   (0, 31]        1.000000\n",
       "16              4  (31, 35]        1.000000\n",
       "17              4  (35, 40]        1.000000\n",
       "18              4  (40, 46]        1.000000\n",
       "19              4  (46, 99]        1.000000"
      ]
     },
     "execution_count": 28,
     "metadata": {},
     "output_type": "execute_result"
    }
   ],
   "source": [
    "model"
   ]
  },
  {
   "cell_type": "code",
   "execution_count": 29,
   "id": "a1abf836",
   "metadata": {},
   "outputs": [],
   "source": [
    "# Мёржим модель к train_val\n",
    "\n",
    "train_val = pd.merge(train_val, model, how = 'left', on = ['NumOfProducts', 'age_group'])"
   ]
  },
  {
   "cell_type": "code",
   "execution_count": 30,
   "id": "e1c924b8",
   "metadata": {},
   "outputs": [
    {
     "data": {
      "text/html": [
       "<div>\n",
       "<style scoped>\n",
       "    .dataframe tbody tr th:only-of-type {\n",
       "        vertical-align: middle;\n",
       "    }\n",
       "\n",
       "    .dataframe tbody tr th {\n",
       "        vertical-align: top;\n",
       "    }\n",
       "\n",
       "    .dataframe thead th {\n",
       "        text-align: right;\n",
       "    }\n",
       "</style>\n",
       "<table border=\"1\" class=\"dataframe\">\n",
       "  <thead>\n",
       "    <tr style=\"text-align: right;\">\n",
       "      <th></th>\n",
       "      <th>RowNumber</th>\n",
       "      <th>CustomerId</th>\n",
       "      <th>Surname</th>\n",
       "      <th>CreditScore</th>\n",
       "      <th>Geography</th>\n",
       "      <th>Gender</th>\n",
       "      <th>Age</th>\n",
       "      <th>Tenure</th>\n",
       "      <th>Balance</th>\n",
       "      <th>NumOfProducts</th>\n",
       "      <th>HasCrCard</th>\n",
       "      <th>IsActiveMember</th>\n",
       "      <th>EstimatedSalary</th>\n",
       "      <th>Exited</th>\n",
       "      <th>age_group</th>\n",
       "      <th>score_prod_age</th>\n",
       "    </tr>\n",
       "  </thead>\n",
       "  <tbody>\n",
       "    <tr>\n",
       "      <th>0</th>\n",
       "      <td>6852</td>\n",
       "      <td>15779103</td>\n",
       "      <td>Cantamessa</td>\n",
       "      <td>527</td>\n",
       "      <td>Germany</td>\n",
       "      <td>Female</td>\n",
       "      <td>39</td>\n",
       "      <td>9</td>\n",
       "      <td>96748.89</td>\n",
       "      <td>2</td>\n",
       "      <td>1</td>\n",
       "      <td>0</td>\n",
       "      <td>94711.43</td>\n",
       "      <td>0</td>\n",
       "      <td>(35, 40]</td>\n",
       "      <td>0.059977</td>\n",
       "    </tr>\n",
       "    <tr>\n",
       "      <th>1</th>\n",
       "      <td>7027</td>\n",
       "      <td>15588123</td>\n",
       "      <td>Horton</td>\n",
       "      <td>677</td>\n",
       "      <td>France</td>\n",
       "      <td>Female</td>\n",
       "      <td>27</td>\n",
       "      <td>2</td>\n",
       "      <td>0.00</td>\n",
       "      <td>2</td>\n",
       "      <td>0</td>\n",
       "      <td>1</td>\n",
       "      <td>114685.92</td>\n",
       "      <td>0</td>\n",
       "      <td>(0, 31]</td>\n",
       "      <td>0.029293</td>\n",
       "    </tr>\n",
       "    <tr>\n",
       "      <th>2</th>\n",
       "      <td>5706</td>\n",
       "      <td>15698703</td>\n",
       "      <td>Doherty</td>\n",
       "      <td>628</td>\n",
       "      <td>Germany</td>\n",
       "      <td>Male</td>\n",
       "      <td>40</td>\n",
       "      <td>5</td>\n",
       "      <td>181768.32</td>\n",
       "      <td>2</td>\n",
       "      <td>1</td>\n",
       "      <td>1</td>\n",
       "      <td>129107.97</td>\n",
       "      <td>0</td>\n",
       "      <td>(35, 40]</td>\n",
       "      <td>0.059977</td>\n",
       "    </tr>\n",
       "  </tbody>\n",
       "</table>\n",
       "</div>"
      ],
      "text/plain": [
       "   RowNumber  CustomerId     Surname  CreditScore Geography  Gender  Age  \\\n",
       "0       6852    15779103  Cantamessa          527   Germany  Female   39   \n",
       "1       7027    15588123      Horton          677    France  Female   27   \n",
       "2       5706    15698703     Doherty          628   Germany    Male   40   \n",
       "\n",
       "   Tenure    Balance  NumOfProducts  HasCrCard  IsActiveMember  \\\n",
       "0       9   96748.89              2          1               0   \n",
       "1       2       0.00              2          0               1   \n",
       "2       5  181768.32              2          1               1   \n",
       "\n",
       "   EstimatedSalary  Exited age_group  score_prod_age  \n",
       "0         94711.43       0  (35, 40]        0.059977  \n",
       "1        114685.92       0   (0, 31]        0.029293  \n",
       "2        129107.97       0  (35, 40]        0.059977  "
      ]
     },
     "execution_count": 30,
     "metadata": {},
     "output_type": "execute_result"
    }
   ],
   "source": [
    "train_val.head(3)"
   ]
  },
  {
   "cell_type": "code",
   "execution_count": null,
   "id": "c6accb77",
   "metadata": {},
   "outputs": [],
   "source": []
  },
  {
   "cell_type": "code",
   "execution_count": 31,
   "id": "cec5e78b",
   "metadata": {},
   "outputs": [
    {
     "name": "stdout",
     "output_type": "stream",
     "text": [
      "0.3866695862492173\n"
     ]
    }
   ],
   "source": [
    "# Считаем метрику log_loss:\n",
    "    \n",
    "from sklearn.metrics import log_loss\n",
    "\n",
    "# теперь ошибка log_loss для модели с двумя параметрами:\n",
    "print(log_loss(train_val['Exited'], train_val['score_prod_age']))"
   ]
  },
  {
   "cell_type": "code",
   "execution_count": 32,
   "id": "58fe0ec4",
   "metadata": {},
   "outputs": [],
   "source": [
    "# Функция для uplift:\n",
    "\n",
    "# функция принмает df, определенный столбец со SCORE и pct - это сколько процентов выборки мы берем:\n",
    "def uplift(df, score, pct):\n",
    "    # посчитаем сколько всего в выборке отточных клиентов:\n",
    "    exited_all = df['Exited'].sum()\n",
    "    \n",
    "    # отсортируем df по SCORE:\n",
    "    df_sorted = df.sort_values(by = score, ascending = False)\n",
    "    \n",
    "    \n",
    "    # теперь надо взять топ-20% этой отсортированной выборки:\n",
    "\n",
    "    # получаем количество записей которые будут соответствовать pct % всей выборки:\n",
    "    sorted_20 = round(len(df) * pct)\n",
    "    \n",
    "    # посчитаем сколько отточников нашлось в этих сортированных по score_prod строках:\n",
    "    exited_found = df_sorted.head(sorted_20)['Exited'].sum()\n",
    "    \n",
    "    return (exited_found / exited_all) / pct "
   ]
  },
  {
   "cell_type": "code",
   "execution_count": 33,
   "id": "037063de",
   "metadata": {},
   "outputs": [
    {
     "data": {
      "text/plain": [
       "2.684049079754601"
      ]
     },
     "execution_count": 33,
     "metadata": {},
     "output_type": "execute_result"
    }
   ],
   "source": [
    "# Считаем метрику uplift:\n",
    "\n",
    "uplift(train_val, 'score_prod_age', 0.2)"
   ]
  },
  {
   "cell_type": "code",
   "execution_count": 34,
   "id": "6569bb46",
   "metadata": {},
   "outputs": [],
   "source": [
    "# проверка модели на тесте:\n",
    "\n",
    "# Добавляем к test age_group:\n",
    "test['age_group'] = pd.cut(test['Age'], [0, 31, 35, 40, 46, 99])\n",
    "\n",
    "# Мёржим модель к test:\n",
    "test = pd.merge(test, model, how = 'left', on = ['NumOfProducts', 'age_group'])"
   ]
  },
  {
   "cell_type": "code",
   "execution_count": 35,
   "id": "fb2be7b0",
   "metadata": {},
   "outputs": [
    {
     "name": "stdout",
     "output_type": "stream",
     "text": [
      "0.3870707514157596\n"
     ]
    }
   ],
   "source": [
    "# Считаем метрику log_loss на тесте:\n",
    "    \n",
    "from sklearn.metrics import log_loss\n",
    "\n",
    "# теперь ошибка log_loss для модели с двумя параметрами:\n",
    "print(log_loss(test['Exited'], test['score_prod_age']))"
   ]
  },
  {
   "cell_type": "code",
   "execution_count": 36,
   "id": "7d6b0f28",
   "metadata": {},
   "outputs": [
    {
     "data": {
      "text/plain": [
       "2.7518427518427515"
      ]
     },
     "execution_count": 36,
     "metadata": {},
     "output_type": "execute_result"
    }
   ],
   "source": [
    "# Считаем метрику uplift на тесте:\n",
    "\n",
    "uplift(test, 'score_prod_age', 0.2)"
   ]
  },
  {
   "cell_type": "code",
   "execution_count": null,
   "id": "fe69cf5f",
   "metadata": {},
   "outputs": [],
   "source": []
  },
  {
   "cell_type": "markdown",
   "id": "bbb019b2",
   "metadata": {},
   "source": [
    "# МАШИННОЕ ОБУЧЕНИЕ НА ДВУХ ФИЧАХ"
   ]
  },
  {
   "cell_type": "code",
   "execution_count": 37,
   "id": "b15f3d85",
   "metadata": {},
   "outputs": [],
   "source": [
    "from catboost import CatBoostClassifier"
   ]
  },
  {
   "cell_type": "code",
   "execution_count": 42,
   "id": "0babc844",
   "metadata": {},
   "outputs": [],
   "source": [
    "# обучимся на тех фичах, на которых делали человеческое обучение:\n",
    "\n",
    "X = ['NumOfProducts', 'Age']\n",
    "y = ['Exited']\n",
    "# не задаем список категориальных фичей, потому что все выбранные фичи - числовые."
   ]
  },
  {
   "cell_type": "code",
   "execution_count": 43,
   "id": "9cf27a58",
   "metadata": {},
   "outputs": [],
   "source": [
    "# создаем параметры: 'learning_rate': сначала не задавали, потом 0.03, потом - 0.01 (добиваемся конечной итерации ближе к 998)\n",
    "\n",
    "params = {'verbose':100,\n",
    "         'random_seed': 42,\n",
    "         'learning_rate': 0.01}"
   ]
  },
  {
   "cell_type": "code",
   "execution_count": 44,
   "id": "6755977c",
   "metadata": {},
   "outputs": [],
   "source": [
    "# создаем модель с этими параметрами:\n",
    "\n",
    "model_1 = CatBoostClassifier(**params)"
   ]
  },
  {
   "cell_type": "code",
   "execution_count": 45,
   "id": "8551bc4b",
   "metadata": {},
   "outputs": [
    {
     "name": "stdout",
     "output_type": "stream",
     "text": [
      "0:\tlearn: 0.6853477\ttest: 0.6855086\tbest: 0.6855086 (0)\ttotal: 2.43ms\tremaining: 2.43s\n",
      "100:\tlearn: 0.4128869\ttest: 0.4105421\tbest: 0.4105421 (100)\ttotal: 230ms\tremaining: 2.04s\n",
      "200:\tlearn: 0.3835957\ttest: 0.3780931\tbest: 0.3780931 (200)\ttotal: 457ms\tremaining: 1.82s\n",
      "300:\tlearn: 0.3780929\ttest: 0.3709267\tbest: 0.3709267 (300)\ttotal: 682ms\tremaining: 1.58s\n",
      "400:\tlearn: 0.3765599\ttest: 0.3689138\tbest: 0.3689138 (400)\ttotal: 900ms\tremaining: 1.34s\n",
      "500:\tlearn: 0.3758081\ttest: 0.3679196\tbest: 0.3679196 (500)\ttotal: 1.15s\tremaining: 1.15s\n",
      "600:\tlearn: 0.3753557\ttest: 0.3674833\tbest: 0.3674827 (599)\ttotal: 1.38s\tremaining: 913ms\n",
      "700:\tlearn: 0.3749021\ttest: 0.3672342\tbest: 0.3672338 (696)\ttotal: 1.61s\tremaining: 687ms\n",
      "800:\tlearn: 0.3744683\ttest: 0.3670441\tbest: 0.3670390 (799)\ttotal: 1.86s\tremaining: 462ms\n",
      "900:\tlearn: 0.3739802\ttest: 0.3667761\tbest: 0.3667761 (900)\ttotal: 2.11s\tremaining: 232ms\n",
      "999:\tlearn: 0.3733406\ttest: 0.3666605\tbest: 0.3666506 (979)\ttotal: 2.34s\tremaining: 0us\n",
      "\n",
      "bestTest = 0.3666505554\n",
      "bestIteration = 979\n",
      "\n",
      "Shrink model to first 980 iterations.\n"
     ]
    },
    {
     "data": {
      "text/plain": [
       "<catboost.core.CatBoostClassifier at 0x20d60c8f850>"
      ]
     },
     "execution_count": 45,
     "metadata": {},
     "output_type": "execute_result"
    }
   ],
   "source": [
    "# запускаем обучение:\n",
    "\n",
    "model_1.fit(train[X], train[y], eval_set = (val[X], val[y]))"
   ]
  },
  {
   "cell_type": "code",
   "execution_count": 46,
   "id": "68092386",
   "metadata": {},
   "outputs": [
    {
     "data": {
      "text/plain": [
       "array([[0.90204985, 0.09795015],\n",
       "       [0.87651511, 0.12348489],\n",
       "       [0.80322442, 0.19677558],\n",
       "       ...,\n",
       "       [0.87582238, 0.12417762],\n",
       "       [0.94813726, 0.05186274],\n",
       "       [0.94339253, 0.05660747]])"
      ]
     },
     "execution_count": 46,
     "metadata": {},
     "output_type": "execute_result"
    }
   ],
   "source": [
    "# проверка модели на тесте:\n",
    "\n",
    "# при помощи model.predict_proba() - получаем две колонки SCORE - скор на то что чел останется, скор на то что чел уйдет:\n",
    "# в сумме эти скоры для каждого человека равны 1\n",
    "\n",
    "model_1.predict_proba(test[X])"
   ]
  },
  {
   "cell_type": "code",
   "execution_count": 47,
   "id": "73db6ad1",
   "metadata": {},
   "outputs": [
    {
     "data": {
      "text/plain": [
       "array([0.09795015, 0.12348489, 0.19677558, ..., 0.12417762, 0.05186274,\n",
       "       0.05660747])"
      ]
     },
     "execution_count": 47,
     "metadata": {},
     "output_type": "execute_result"
    }
   ],
   "source": [
    "# в данном случае нам нужен скор только на отток (Exited):\n",
    "\n",
    "model_1.predict_proba(test[X])[:, 1]"
   ]
  },
  {
   "cell_type": "code",
   "execution_count": 48,
   "id": "07eea56d",
   "metadata": {},
   "outputs": [],
   "source": [
    "# добавим колонку со SCORE на отток в тестовую выборку:\n",
    "\n",
    "test['machine_prod_age'] = model_1.predict_proba(test[X])[:, 1]"
   ]
  },
  {
   "cell_type": "code",
   "execution_count": 49,
   "id": "c3148295",
   "metadata": {},
   "outputs": [],
   "source": [
    "# еще добавим BaseLine - среднее значение по тестовой выборке: для общего сравнения всех подходов:\n",
    "test['Baseline'] = test['Exited'].mean()"
   ]
  },
  {
   "cell_type": "code",
   "execution_count": 50,
   "id": "37f968e1",
   "metadata": {
    "scrolled": true
   },
   "outputs": [
    {
     "data": {
      "text/html": [
       "<div>\n",
       "<style scoped>\n",
       "    .dataframe tbody tr th:only-of-type {\n",
       "        vertical-align: middle;\n",
       "    }\n",
       "\n",
       "    .dataframe tbody tr th {\n",
       "        vertical-align: top;\n",
       "    }\n",
       "\n",
       "    .dataframe thead th {\n",
       "        text-align: right;\n",
       "    }\n",
       "</style>\n",
       "<table border=\"1\" class=\"dataframe\">\n",
       "  <thead>\n",
       "    <tr style=\"text-align: right;\">\n",
       "      <th></th>\n",
       "      <th>RowNumber</th>\n",
       "      <th>CustomerId</th>\n",
       "      <th>Surname</th>\n",
       "      <th>CreditScore</th>\n",
       "      <th>Geography</th>\n",
       "      <th>Gender</th>\n",
       "      <th>Age</th>\n",
       "      <th>Tenure</th>\n",
       "      <th>Balance</th>\n",
       "      <th>NumOfProducts</th>\n",
       "      <th>HasCrCard</th>\n",
       "      <th>IsActiveMember</th>\n",
       "      <th>EstimatedSalary</th>\n",
       "      <th>Exited</th>\n",
       "      <th>age_group</th>\n",
       "      <th>score_prod_age</th>\n",
       "      <th>machine_prod_age</th>\n",
       "      <th>Baseline</th>\n",
       "    </tr>\n",
       "  </thead>\n",
       "  <tbody>\n",
       "    <tr>\n",
       "      <th>0</th>\n",
       "      <td>9168</td>\n",
       "      <td>15645353</td>\n",
       "      <td>Chubb</td>\n",
       "      <td>607</td>\n",
       "      <td>France</td>\n",
       "      <td>Male</td>\n",
       "      <td>26</td>\n",
       "      <td>1</td>\n",
       "      <td>0.00</td>\n",
       "      <td>1</td>\n",
       "      <td>1</td>\n",
       "      <td>0</td>\n",
       "      <td>29818.20</td>\n",
       "      <td>0</td>\n",
       "      <td>(0, 31]</td>\n",
       "      <td>0.106774</td>\n",
       "      <td>0.097950</td>\n",
       "      <td>0.2035</td>\n",
       "    </tr>\n",
       "    <tr>\n",
       "      <th>1</th>\n",
       "      <td>9388</td>\n",
       "      <td>15594576</td>\n",
       "      <td>Zhdanov</td>\n",
       "      <td>524</td>\n",
       "      <td>France</td>\n",
       "      <td>Male</td>\n",
       "      <td>32</td>\n",
       "      <td>1</td>\n",
       "      <td>144875.71</td>\n",
       "      <td>1</td>\n",
       "      <td>0</td>\n",
       "      <td>0</td>\n",
       "      <td>187740.04</td>\n",
       "      <td>0</td>\n",
       "      <td>(31, 35]</td>\n",
       "      <td>0.135908</td>\n",
       "      <td>0.123485</td>\n",
       "      <td>0.2035</td>\n",
       "    </tr>\n",
       "    <tr>\n",
       "      <th>2</th>\n",
       "      <td>6860</td>\n",
       "      <td>15811927</td>\n",
       "      <td>Marcelo</td>\n",
       "      <td>733</td>\n",
       "      <td>France</td>\n",
       "      <td>Female</td>\n",
       "      <td>38</td>\n",
       "      <td>3</td>\n",
       "      <td>157658.36</td>\n",
       "      <td>1</td>\n",
       "      <td>0</td>\n",
       "      <td>0</td>\n",
       "      <td>19658.43</td>\n",
       "      <td>0</td>\n",
       "      <td>(35, 40]</td>\n",
       "      <td>0.198646</td>\n",
       "      <td>0.196776</td>\n",
       "      <td>0.2035</td>\n",
       "    </tr>\n",
       "  </tbody>\n",
       "</table>\n",
       "</div>"
      ],
      "text/plain": [
       "   RowNumber  CustomerId  Surname  CreditScore Geography  Gender  Age  Tenure  \\\n",
       "0       9168    15645353    Chubb          607    France    Male   26       1   \n",
       "1       9388    15594576  Zhdanov          524    France    Male   32       1   \n",
       "2       6860    15811927  Marcelo          733    France  Female   38       3   \n",
       "\n",
       "     Balance  NumOfProducts  HasCrCard  IsActiveMember  EstimatedSalary  \\\n",
       "0       0.00              1          1               0         29818.20   \n",
       "1  144875.71              1          0               0        187740.04   \n",
       "2  157658.36              1          0               0         19658.43   \n",
       "\n",
       "   Exited age_group  score_prod_age  machine_prod_age  Baseline  \n",
       "0       0   (0, 31]        0.106774          0.097950    0.2035  \n",
       "1       0  (31, 35]        0.135908          0.123485    0.2035  \n",
       "2       0  (35, 40]        0.198646          0.196776    0.2035  "
      ]
     },
     "execution_count": 50,
     "metadata": {},
     "output_type": "execute_result"
    }
   ],
   "source": [
    "test.head(3)"
   ]
  },
  {
   "cell_type": "code",
   "execution_count": null,
   "id": "325e0fd7",
   "metadata": {},
   "outputs": [],
   "source": []
  },
  {
   "cell_type": "markdown",
   "id": "1236f88c",
   "metadata": {},
   "source": [
    "# МАШИННОЕ ОБУЧЕНИЕ НА ВСЕХ ФИЧАХ"
   ]
  },
  {
   "cell_type": "code",
   "execution_count": 51,
   "id": "66bfbf76",
   "metadata": {},
   "outputs": [],
   "source": [
    "# обучимся на ВСЕХ фичах:\n",
    "\n",
    "X = ['CustomerId', 'CreditScore', 'Geography',\n",
    "       'Gender', 'Age', 'Tenure', 'Balance', 'NumOfProducts', 'HasCrCard',\n",
    "       'IsActiveMember', 'EstimatedSalary']\n",
    "y = ['Exited']\n",
    "\n",
    "# категориальные фичи = ['Geography', 'Gender']\n",
    "cat_features = ['Geography', 'Gender']"
   ]
  },
  {
   "cell_type": "code",
   "execution_count": 52,
   "id": "21a4e652",
   "metadata": {},
   "outputs": [],
   "source": [
    "# взяли кусок кода с pool c Tutorial: CatBoost Overview (https://www.kaggle.com/code/mitribunskiy/tutorial-catboost-overview)\n",
    "\n",
    "from catboost import Pool\n",
    "\n",
    "train_data = Pool(data=train[X],\n",
    "                  label=train[y],\n",
    "                  cat_features=cat_features\n",
    "                 )\n",
    "\n",
    "valid_data = Pool(data=val[X],\n",
    "                  label=val[y],\n",
    "                  cat_features=cat_features\n",
    "                 )"
   ]
  },
  {
   "cell_type": "code",
   "execution_count": 53,
   "id": "b754e57c",
   "metadata": {},
   "outputs": [],
   "source": [
    "# на тестовой выборке 'learning_rate': не задаем потому что не знаем какой он будет\n",
    "\n",
    "# 'eval_metric': 'AUC' - сразу показывает метрику AUC (bestTest = 0.8836600281) - о ней рассказано ниже\n",
    "# если коротко это площадь под графиком, наиболее частая метрика для оценки качества нашей модели.\n",
    "\n",
    "params_2 = {'verbose':100,\n",
    "            'eval_metric': 'AUC',\n",
    "            'random_seed': 42}"
   ]
  },
  {
   "cell_type": "code",
   "execution_count": 54,
   "id": "88f7add8",
   "metadata": {},
   "outputs": [],
   "source": [
    "model_2 = CatBoostClassifier(**params_2)"
   ]
  },
  {
   "cell_type": "code",
   "execution_count": 55,
   "id": "4e1c718d",
   "metadata": {},
   "outputs": [
    {
     "name": "stdout",
     "output_type": "stream",
     "text": [
      "Learning rate set to 0.04933\n",
      "0:\ttest: 0.8338545\tbest: 0.8338545 (0)\ttotal: 40ms\tremaining: 40s\n",
      "100:\ttest: 0.8829595\tbest: 0.8831012 (93)\ttotal: 3.56s\tremaining: 31.7s\n",
      "200:\ttest: 0.8802468\tbest: 0.8836600 (115)\ttotal: 6.95s\tremaining: 27.6s\n",
      "300:\ttest: 0.8774833\tbest: 0.8836600 (115)\ttotal: 10.5s\tremaining: 24.3s\n",
      "400:\ttest: 0.8744504\tbest: 0.8836600 (115)\ttotal: 13.9s\tremaining: 20.8s\n",
      "500:\ttest: 0.8723319\tbest: 0.8836600 (115)\ttotal: 17.3s\tremaining: 17.2s\n",
      "600:\ttest: 0.8695884\tbest: 0.8836600 (115)\ttotal: 21.1s\tremaining: 14s\n",
      "700:\ttest: 0.8676640\tbest: 0.8836600 (115)\ttotal: 24.6s\tremaining: 10.5s\n",
      "800:\ttest: 0.8658950\tbest: 0.8836600 (115)\ttotal: 28s\tremaining: 6.96s\n",
      "900:\ttest: 0.8630268\tbest: 0.8836600 (115)\ttotal: 31.6s\tremaining: 3.47s\n",
      "999:\ttest: 0.8612348\tbest: 0.8836600 (115)\ttotal: 35s\tremaining: 0us\n",
      "\n",
      "bestTest = 0.8836600281\n",
      "bestIteration = 115\n",
      "\n",
      "Shrink model to first 116 iterations.\n"
     ]
    },
    {
     "data": {
      "text/plain": [
       "<catboost.core.CatBoostClassifier at 0x20d60c8fcd0>"
      ]
     },
     "execution_count": 55,
     "metadata": {},
     "output_type": "execute_result"
    }
   ],
   "source": [
    "# запускаем обучение:\n",
    "\n",
    "# так мы запускали раньше:\n",
    "# model_2.fit(train[X], train[y], eval_set = (val[X], val[y]))\n",
    "\n",
    "# с использованием Pool для более чистого кода:\n",
    "model_2.fit(train_data, eval_set = valid_data)"
   ]
  },
  {
   "cell_type": "code",
   "execution_count": 56,
   "id": "337d816c",
   "metadata": {},
   "outputs": [],
   "source": [
    "# Для проверки модели на тесте:\n",
    "\n",
    "test['SCORE_ALL_FEATURES'] = model_2.predict_proba(test[X])[:, 1]"
   ]
  },
  {
   "cell_type": "code",
   "execution_count": 57,
   "id": "a1b21cce",
   "metadata": {},
   "outputs": [],
   "source": [
    "# еще добавим BaseLine - среднее значение по тестовой выборке: для общего сравнения всех подходов:\n",
    "test['Baseline'] = test['Exited'].mean()"
   ]
  },
  {
   "cell_type": "code",
   "execution_count": 58,
   "id": "a6f68caa",
   "metadata": {},
   "outputs": [
    {
     "data": {
      "text/html": [
       "<div>\n",
       "<style scoped>\n",
       "    .dataframe tbody tr th:only-of-type {\n",
       "        vertical-align: middle;\n",
       "    }\n",
       "\n",
       "    .dataframe tbody tr th {\n",
       "        vertical-align: top;\n",
       "    }\n",
       "\n",
       "    .dataframe thead th {\n",
       "        text-align: right;\n",
       "    }\n",
       "</style>\n",
       "<table border=\"1\" class=\"dataframe\">\n",
       "  <thead>\n",
       "    <tr style=\"text-align: right;\">\n",
       "      <th></th>\n",
       "      <th>RowNumber</th>\n",
       "      <th>CustomerId</th>\n",
       "      <th>Surname</th>\n",
       "      <th>CreditScore</th>\n",
       "      <th>Geography</th>\n",
       "      <th>Gender</th>\n",
       "      <th>Age</th>\n",
       "      <th>Tenure</th>\n",
       "      <th>Balance</th>\n",
       "      <th>NumOfProducts</th>\n",
       "      <th>HasCrCard</th>\n",
       "      <th>IsActiveMember</th>\n",
       "      <th>EstimatedSalary</th>\n",
       "      <th>Exited</th>\n",
       "      <th>age_group</th>\n",
       "      <th>score_prod_age</th>\n",
       "      <th>machine_prod_age</th>\n",
       "      <th>Baseline</th>\n",
       "      <th>SCORE_ALL_FEATURES</th>\n",
       "    </tr>\n",
       "  </thead>\n",
       "  <tbody>\n",
       "    <tr>\n",
       "      <th>0</th>\n",
       "      <td>9168</td>\n",
       "      <td>15645353</td>\n",
       "      <td>Chubb</td>\n",
       "      <td>607</td>\n",
       "      <td>France</td>\n",
       "      <td>Male</td>\n",
       "      <td>26</td>\n",
       "      <td>1</td>\n",
       "      <td>0.00</td>\n",
       "      <td>1</td>\n",
       "      <td>1</td>\n",
       "      <td>0</td>\n",
       "      <td>29818.20</td>\n",
       "      <td>0</td>\n",
       "      <td>(0, 31]</td>\n",
       "      <td>0.106774</td>\n",
       "      <td>0.097950</td>\n",
       "      <td>0.2035</td>\n",
       "      <td>0.135795</td>\n",
       "    </tr>\n",
       "    <tr>\n",
       "      <th>1</th>\n",
       "      <td>9388</td>\n",
       "      <td>15594576</td>\n",
       "      <td>Zhdanov</td>\n",
       "      <td>524</td>\n",
       "      <td>France</td>\n",
       "      <td>Male</td>\n",
       "      <td>32</td>\n",
       "      <td>1</td>\n",
       "      <td>144875.71</td>\n",
       "      <td>1</td>\n",
       "      <td>0</td>\n",
       "      <td>0</td>\n",
       "      <td>187740.04</td>\n",
       "      <td>0</td>\n",
       "      <td>(31, 35]</td>\n",
       "      <td>0.135908</td>\n",
       "      <td>0.123485</td>\n",
       "      <td>0.2035</td>\n",
       "      <td>0.083274</td>\n",
       "    </tr>\n",
       "    <tr>\n",
       "      <th>2</th>\n",
       "      <td>6860</td>\n",
       "      <td>15811927</td>\n",
       "      <td>Marcelo</td>\n",
       "      <td>733</td>\n",
       "      <td>France</td>\n",
       "      <td>Female</td>\n",
       "      <td>38</td>\n",
       "      <td>3</td>\n",
       "      <td>157658.36</td>\n",
       "      <td>1</td>\n",
       "      <td>0</td>\n",
       "      <td>0</td>\n",
       "      <td>19658.43</td>\n",
       "      <td>0</td>\n",
       "      <td>(35, 40]</td>\n",
       "      <td>0.198646</td>\n",
       "      <td>0.196776</td>\n",
       "      <td>0.2035</td>\n",
       "      <td>0.191387</td>\n",
       "    </tr>\n",
       "  </tbody>\n",
       "</table>\n",
       "</div>"
      ],
      "text/plain": [
       "   RowNumber  CustomerId  Surname  CreditScore Geography  Gender  Age  Tenure  \\\n",
       "0       9168    15645353    Chubb          607    France    Male   26       1   \n",
       "1       9388    15594576  Zhdanov          524    France    Male   32       1   \n",
       "2       6860    15811927  Marcelo          733    France  Female   38       3   \n",
       "\n",
       "     Balance  NumOfProducts  HasCrCard  IsActiveMember  EstimatedSalary  \\\n",
       "0       0.00              1          1               0         29818.20   \n",
       "1  144875.71              1          0               0        187740.04   \n",
       "2  157658.36              1          0               0         19658.43   \n",
       "\n",
       "   Exited age_group  score_prod_age  machine_prod_age  Baseline  \\\n",
       "0       0   (0, 31]        0.106774          0.097950    0.2035   \n",
       "1       0  (31, 35]        0.135908          0.123485    0.2035   \n",
       "2       0  (35, 40]        0.198646          0.196776    0.2035   \n",
       "\n",
       "   SCORE_ALL_FEATURES  \n",
       "0            0.135795  \n",
       "1            0.083274  \n",
       "2            0.191387  "
      ]
     },
     "execution_count": 58,
     "metadata": {},
     "output_type": "execute_result"
    }
   ],
   "source": [
    "test.head(3)"
   ]
  },
  {
   "cell_type": "markdown",
   "id": "ac43777b",
   "metadata": {},
   "source": [
    "### Метрика log_loss Проверка всех подходов:"
   ]
  },
  {
   "cell_type": "code",
   "execution_count": 60,
   "id": "d19b0184",
   "metadata": {},
   "outputs": [
    {
     "name": "stdout",
     "output_type": "stream",
     "text": [
      "Baseline:  0.5052163384611609\n",
      "Человеческое обучение на двух фичах:  0.3870707514157596\n",
      "Машинное обучение на двух фичах:  0.38429747431953837\n",
      "Машинное обучение на ВСЕХ фичах:  0.3312721884216018\n"
     ]
    }
   ],
   "source": [
    "from sklearn.metrics import log_loss\n",
    "\n",
    "# ошибка log_loss для среднего mean('Exited'):\n",
    "print('Baseline: ', log_loss(test['Exited'], test['Baseline']))\n",
    "\n",
    "\n",
    "# ошибка log_loss для модели человеческого обучения:\n",
    "print('Человеческое обучение на двух фичах: ', log_loss(test['Exited'], test['score_prod_age']))\n",
    "\n",
    "# ошибка log_loss для модели_1:\n",
    "print('Машинное обучение на двух фичах: ',  log_loss(test['Exited'], test['machine_prod_age']))\n",
    "\n",
    "# ошибка log_loss для модели_2:\n",
    "print('Машинное обучение на ВСЕХ фичах: ',  log_loss(test['Exited'], test['SCORE_ALL_FEATURES']))"
   ]
  },
  {
   "cell_type": "code",
   "execution_count": null,
   "id": "83d67407",
   "metadata": {},
   "outputs": [],
   "source": []
  },
  {
   "cell_type": "markdown",
   "id": "f0de3f72",
   "metadata": {},
   "source": [
    "### Метрика uplift (функция задана выше) Проверка всех подходов:"
   ]
  },
  {
   "cell_type": "code",
   "execution_count": 61,
   "id": "3528339d",
   "metadata": {},
   "outputs": [
    {
     "name": "stdout",
     "output_type": "stream",
     "text": [
      "Baseline:  1.0442260442260443\n",
      "Человеческое обучение на двух фичах:  2.7518427518427515\n",
      "Машинное обучение на двух фичах:  2.8132678132678133\n",
      "Машинное обучение на ВСЕХ фичах:  3.108108108108108\n"
     ]
    }
   ],
   "source": [
    "# Считаем метрику uplift на тесте:\n",
    "\n",
    "print('Baseline: ', uplift(test, 'Baseline', 0.2))\n",
    "print('Человеческое обучение на двух фичах: ', uplift(test, 'score_prod_age', 0.2))\n",
    "print('Машинное обучение на двух фичах: ', uplift(test, 'machine_prod_age', 0.2))\n",
    "print('Машинное обучение на ВСЕХ фичах: ', uplift(test, 'SCORE_ALL_FEATURES', 0.2))"
   ]
  },
  {
   "cell_type": "code",
   "execution_count": null,
   "id": "6cd5004b",
   "metadata": {},
   "outputs": [],
   "source": []
  },
  {
   "cell_type": "markdown",
   "id": "40767623",
   "metadata": {},
   "source": [
    "# СКОР И ПОРОГИ"
   ]
  },
  {
   "cell_type": "code",
   "execution_count": 41,
   "id": "b7c70c3d",
   "metadata": {},
   "outputs": [],
   "source": [
    "# Скорs: 'Baseline', 'score_prod_age', 'machine_prod_age', 'SCORE_ALL_FEATURES'\n",
    "\n",
    "# что такое скор - это то, что выходит из модели калссификации\n",
    "\n",
    "# это оценка, которая показывает склонность в данном случае человека к оттоку\n",
    "\n",
    "# чем больше этот скор, тем больше человек склонен к оттоку\n",
    "# чем меньше этот скор, тем меньше человек склонен к оттоку\n",
    "\n",
    "# также иногда этот скор может являться вероятностью, но не всегда это так:\n",
    "    \n",
    "# Скор можно интерпретировать, как вероятность, когда он \n",
    "# соответствует фактической вероятности, и это можно \n",
    "# проверить. Можно взять и разбить скор на бины:\n",
    "# 0-0.1, 0.1-0.2, 0.2-0.3 ... 0.9-1 и посчитать \n",
    "# для этих бинов среднее по таргету: это среднее \n",
    "# должно соответствовать среднему по этому \n",
    "# бину, т.е. для 0-0.1 это (0.1-0)/2 = 0.05. \n",
    "# Подробнее про это можно почитать в статьях \n",
    "# про калибровку моделей, например вот \n",
    "# https://towardsdatascience.com/classifier-calibration-7d0be1e05452 . \n",
    "# Есть и на русском, но там чето слишком замудренно) \n",
    "# https://stepik.org/lesson/683315/step/2?unit=682138 - в комментариях ссылка\n",
    "    \n",
    "# Скор всегда нормированный - он всегда будет от 0 до 1\n",
    "\n",
    "# КАК ИЗ СКОРА ПОЛУЧИТЬ КЛАСС - КАК ПРИНЯТЬ РЕШЕНИЕ - ОТТОЧНЫЙ КЛИЕНТ ИЛИ НЕ ОТТОЧНЫЙ??\n",
    "# это решение можно принять с помощью порогов например score > 0.5\n",
    "# Таким образом скор можно преобразовать в конкретный класс - в конкретное решение.\n"
   ]
  },
  {
   "cell_type": "code",
   "execution_count": 62,
   "id": "a721a903",
   "metadata": {},
   "outputs": [
    {
     "data": {
      "text/plain": [
       "<Axes: >"
      ]
     },
     "execution_count": 62,
     "metadata": {},
     "output_type": "execute_result"
    },
    {
     "data": {
      "image/png": "[encoded data removed]",
      "text/plain": [
       "<Figure size 640x480 with 1 Axes>"
      ]
     },
     "metadata": {},
     "output_type": "display_data"
    }
   ],
   "source": [
    "# посмотрим на распределение скора для Baseline:\n",
    "\n",
    "test['Baseline'].hist(edgecolor = 'black')   "
   ]
  },
  {
   "cell_type": "code",
   "execution_count": 63,
   "id": "8ac34795",
   "metadata": {},
   "outputs": [
    {
     "data": {
      "text/plain": [
       "<Axes: >"
      ]
     },
     "execution_count": 63,
     "metadata": {},
     "output_type": "execute_result"
    },
    {
     "data": {
      "image/png": "[encoded data removed]",
      "text/plain": [
       "<Figure size 640x480 with 1 Axes>"
      ]
     },
     "metadata": {},
     "output_type": "display_data"
    }
   ],
   "source": [
    "# посмотрим на распределение скора в человеческом обучении:\n",
    "\n",
    "test['score_prod_age'].hist(edgecolor = 'black')"
   ]
  },
  {
   "cell_type": "code",
   "execution_count": 64,
   "id": "400fba15",
   "metadata": {},
   "outputs": [
    {
     "data": {
      "text/plain": [
       "<Axes: >"
      ]
     },
     "execution_count": 64,
     "metadata": {},
     "output_type": "execute_result"
    },
    {
     "data": {
      "image/png": "[encoded data removed]",
      "text/plain": [
       "<Figure size 640x480 with 1 Axes>"
      ]
     },
     "metadata": {},
     "output_type": "display_data"
    }
   ],
   "source": [
    "# посмотрим на распределение скора в машинном обучении для двух фичей:\n",
    "\n",
    "test['machine_prod_age'].hist(edgecolor = 'black') "
   ]
  },
  {
   "cell_type": "code",
   "execution_count": 65,
   "id": "ffcc6939",
   "metadata": {},
   "outputs": [
    {
     "data": {
      "text/plain": [
       "<Axes: >"
      ]
     },
     "execution_count": 65,
     "metadata": {},
     "output_type": "execute_result"
    },
    {
     "data": {
      "image/png": "[encoded data removed]",
      "text/plain": [
       "<Figure size 640x480 with 1 Axes>"
      ]
     },
     "metadata": {},
     "output_type": "display_data"
    }
   ],
   "source": [
    "# посмотрим на распределение скора в машинном обучении для ВСЕХ фичей:\n",
    "\n",
    "test['SCORE_ALL_FEATURES'].hist(edgecolor = 'black')"
   ]
  },
  {
   "cell_type": "code",
   "execution_count": null,
   "id": "e8c20a24",
   "metadata": {},
   "outputs": [],
   "source": []
  },
  {
   "cell_type": "markdown",
   "id": "6dc3f0fb",
   "metadata": {},
   "source": [
    "# PREDICT y_pred"
   ]
  },
  {
   "cell_type": "code",
   "execution_count": 66,
   "id": "d2e654dc",
   "metadata": {},
   "outputs": [],
   "source": [
    "# Предикт y_pred - с установленным порогом:\n",
    "\n",
    "test['y_pred'] = test['SCORE_ALL_FEATURES'] > 0.5"
   ]
  },
  {
   "cell_type": "code",
   "execution_count": 67,
   "id": "9b52b348",
   "metadata": {},
   "outputs": [
    {
     "name": "stdout",
     "output_type": "stream",
     "text": [
      "1 0\n"
     ]
    }
   ],
   "source": [
    "# умножая bool на 1 получаем 1 или 0\n",
    "print(True * 1, False * 1)"
   ]
  },
  {
   "cell_type": "code",
   "execution_count": 68,
   "id": "f7f5a713",
   "metadata": {},
   "outputs": [],
   "source": [
    "# чтобы в столбце test['y_pred'] значения были представлены не как \"True и False\", а как \"0 и 1\":\n",
    "    \n",
    "test['y_pred'] = (test['SCORE_ALL_FEATURES'] > 0.5)*1"
   ]
  },
  {
   "cell_type": "code",
   "execution_count": 69,
   "id": "57422348",
   "metadata": {},
   "outputs": [
    {
     "data": {
      "text/html": [
       "<div>\n",
       "<style scoped>\n",
       "    .dataframe tbody tr th:only-of-type {\n",
       "        vertical-align: middle;\n",
       "    }\n",
       "\n",
       "    .dataframe tbody tr th {\n",
       "        vertical-align: top;\n",
       "    }\n",
       "\n",
       "    .dataframe thead th {\n",
       "        text-align: right;\n",
       "    }\n",
       "</style>\n",
       "<table border=\"1\" class=\"dataframe\">\n",
       "  <thead>\n",
       "    <tr style=\"text-align: right;\">\n",
       "      <th></th>\n",
       "      <th>RowNumber</th>\n",
       "      <th>CustomerId</th>\n",
       "      <th>Surname</th>\n",
       "      <th>CreditScore</th>\n",
       "      <th>Geography</th>\n",
       "      <th>Gender</th>\n",
       "      <th>Age</th>\n",
       "      <th>Tenure</th>\n",
       "      <th>Balance</th>\n",
       "      <th>NumOfProducts</th>\n",
       "      <th>HasCrCard</th>\n",
       "      <th>IsActiveMember</th>\n",
       "      <th>EstimatedSalary</th>\n",
       "      <th>Exited</th>\n",
       "      <th>age_group</th>\n",
       "      <th>score_prod_age</th>\n",
       "      <th>machine_prod_age</th>\n",
       "      <th>Baseline</th>\n",
       "      <th>SCORE_ALL_FEATURES</th>\n",
       "      <th>y_pred</th>\n",
       "    </tr>\n",
       "  </thead>\n",
       "  <tbody>\n",
       "    <tr>\n",
       "      <th>0</th>\n",
       "      <td>9168</td>\n",
       "      <td>15645353</td>\n",
       "      <td>Chubb</td>\n",
       "      <td>607</td>\n",
       "      <td>France</td>\n",
       "      <td>Male</td>\n",
       "      <td>26</td>\n",
       "      <td>1</td>\n",
       "      <td>0.00</td>\n",
       "      <td>1</td>\n",
       "      <td>1</td>\n",
       "      <td>0</td>\n",
       "      <td>29818.20</td>\n",
       "      <td>0</td>\n",
       "      <td>(0, 31]</td>\n",
       "      <td>0.106774</td>\n",
       "      <td>0.097950</td>\n",
       "      <td>0.2035</td>\n",
       "      <td>0.135795</td>\n",
       "      <td>0</td>\n",
       "    </tr>\n",
       "    <tr>\n",
       "      <th>1</th>\n",
       "      <td>9388</td>\n",
       "      <td>15594576</td>\n",
       "      <td>Zhdanov</td>\n",
       "      <td>524</td>\n",
       "      <td>France</td>\n",
       "      <td>Male</td>\n",
       "      <td>32</td>\n",
       "      <td>1</td>\n",
       "      <td>144875.71</td>\n",
       "      <td>1</td>\n",
       "      <td>0</td>\n",
       "      <td>0</td>\n",
       "      <td>187740.04</td>\n",
       "      <td>0</td>\n",
       "      <td>(31, 35]</td>\n",
       "      <td>0.135908</td>\n",
       "      <td>0.123485</td>\n",
       "      <td>0.2035</td>\n",
       "      <td>0.083274</td>\n",
       "      <td>0</td>\n",
       "    </tr>\n",
       "    <tr>\n",
       "      <th>2</th>\n",
       "      <td>6860</td>\n",
       "      <td>15811927</td>\n",
       "      <td>Marcelo</td>\n",
       "      <td>733</td>\n",
       "      <td>France</td>\n",
       "      <td>Female</td>\n",
       "      <td>38</td>\n",
       "      <td>3</td>\n",
       "      <td>157658.36</td>\n",
       "      <td>1</td>\n",
       "      <td>0</td>\n",
       "      <td>0</td>\n",
       "      <td>19658.43</td>\n",
       "      <td>0</td>\n",
       "      <td>(35, 40]</td>\n",
       "      <td>0.198646</td>\n",
       "      <td>0.196776</td>\n",
       "      <td>0.2035</td>\n",
       "      <td>0.191387</td>\n",
       "      <td>0</td>\n",
       "    </tr>\n",
       "    <tr>\n",
       "      <th>3</th>\n",
       "      <td>3501</td>\n",
       "      <td>15675675</td>\n",
       "      <td>Slate</td>\n",
       "      <td>850</td>\n",
       "      <td>France</td>\n",
       "      <td>Female</td>\n",
       "      <td>32</td>\n",
       "      <td>5</td>\n",
       "      <td>106290.64</td>\n",
       "      <td>1</td>\n",
       "      <td>1</td>\n",
       "      <td>0</td>\n",
       "      <td>121982.73</td>\n",
       "      <td>0</td>\n",
       "      <td>(31, 35]</td>\n",
       "      <td>0.135908</td>\n",
       "      <td>0.123485</td>\n",
       "      <td>0.2035</td>\n",
       "      <td>0.093775</td>\n",
       "      <td>0</td>\n",
       "    </tr>\n",
       "    <tr>\n",
       "      <th>4</th>\n",
       "      <td>6234</td>\n",
       "      <td>15682914</td>\n",
       "      <td>Bolton</td>\n",
       "      <td>850</td>\n",
       "      <td>France</td>\n",
       "      <td>Male</td>\n",
       "      <td>34</td>\n",
       "      <td>2</td>\n",
       "      <td>72079.71</td>\n",
       "      <td>1</td>\n",
       "      <td>1</td>\n",
       "      <td>1</td>\n",
       "      <td>115767.93</td>\n",
       "      <td>0</td>\n",
       "      <td>(31, 35]</td>\n",
       "      <td>0.135908</td>\n",
       "      <td>0.137989</td>\n",
       "      <td>0.2035</td>\n",
       "      <td>0.067618</td>\n",
       "      <td>0</td>\n",
       "    </tr>\n",
       "    <tr>\n",
       "      <th>...</th>\n",
       "      <td>...</td>\n",
       "      <td>...</td>\n",
       "      <td>...</td>\n",
       "      <td>...</td>\n",
       "      <td>...</td>\n",
       "      <td>...</td>\n",
       "      <td>...</td>\n",
       "      <td>...</td>\n",
       "      <td>...</td>\n",
       "      <td>...</td>\n",
       "      <td>...</td>\n",
       "      <td>...</td>\n",
       "      <td>...</td>\n",
       "      <td>...</td>\n",
       "      <td>...</td>\n",
       "      <td>...</td>\n",
       "      <td>...</td>\n",
       "      <td>...</td>\n",
       "      <td>...</td>\n",
       "      <td>...</td>\n",
       "    </tr>\n",
       "    <tr>\n",
       "      <th>1995</th>\n",
       "      <td>7393</td>\n",
       "      <td>15795079</td>\n",
       "      <td>Nnaife</td>\n",
       "      <td>596</td>\n",
       "      <td>Spain</td>\n",
       "      <td>Male</td>\n",
       "      <td>67</td>\n",
       "      <td>6</td>\n",
       "      <td>0.00</td>\n",
       "      <td>2</td>\n",
       "      <td>1</td>\n",
       "      <td>1</td>\n",
       "      <td>138350.74</td>\n",
       "      <td>0</td>\n",
       "      <td>(46, 99]</td>\n",
       "      <td>0.225869</td>\n",
       "      <td>0.103882</td>\n",
       "      <td>0.2035</td>\n",
       "      <td>0.037178</td>\n",
       "      <td>0</td>\n",
       "    </tr>\n",
       "    <tr>\n",
       "      <th>1996</th>\n",
       "      <td>3234</td>\n",
       "      <td>15601550</td>\n",
       "      <td>Genovesi</td>\n",
       "      <td>595</td>\n",
       "      <td>Spain</td>\n",
       "      <td>Male</td>\n",
       "      <td>36</td>\n",
       "      <td>6</td>\n",
       "      <td>85768.42</td>\n",
       "      <td>1</td>\n",
       "      <td>1</td>\n",
       "      <td>1</td>\n",
       "      <td>24802.77</td>\n",
       "      <td>0</td>\n",
       "      <td>(35, 40]</td>\n",
       "      <td>0.198646</td>\n",
       "      <td>0.164582</td>\n",
       "      <td>0.2035</td>\n",
       "      <td>0.104785</td>\n",
       "      <td>0</td>\n",
       "    </tr>\n",
       "    <tr>\n",
       "      <th>1997</th>\n",
       "      <td>219</td>\n",
       "      <td>15659366</td>\n",
       "      <td>Shih</td>\n",
       "      <td>807</td>\n",
       "      <td>France</td>\n",
       "      <td>Male</td>\n",
       "      <td>43</td>\n",
       "      <td>1</td>\n",
       "      <td>105799.32</td>\n",
       "      <td>2</td>\n",
       "      <td>1</td>\n",
       "      <td>0</td>\n",
       "      <td>34888.04</td>\n",
       "      <td>1</td>\n",
       "      <td>(40, 46]</td>\n",
       "      <td>0.106239</td>\n",
       "      <td>0.124178</td>\n",
       "      <td>0.2035</td>\n",
       "      <td>0.191112</td>\n",
       "      <td>0</td>\n",
       "    </tr>\n",
       "    <tr>\n",
       "      <th>1998</th>\n",
       "      <td>4756</td>\n",
       "      <td>15740072</td>\n",
       "      <td>Padovesi</td>\n",
       "      <td>720</td>\n",
       "      <td>France</td>\n",
       "      <td>Female</td>\n",
       "      <td>37</td>\n",
       "      <td>2</td>\n",
       "      <td>120328.88</td>\n",
       "      <td>2</td>\n",
       "      <td>1</td>\n",
       "      <td>1</td>\n",
       "      <td>138470.21</td>\n",
       "      <td>0</td>\n",
       "      <td>(35, 40]</td>\n",
       "      <td>0.059977</td>\n",
       "      <td>0.051863</td>\n",
       "      <td>0.2035</td>\n",
       "      <td>0.070693</td>\n",
       "      <td>0</td>\n",
       "    </tr>\n",
       "    <tr>\n",
       "      <th>1999</th>\n",
       "      <td>7635</td>\n",
       "      <td>15707681</td>\n",
       "      <td>Pokrovsky</td>\n",
       "      <td>501</td>\n",
       "      <td>Germany</td>\n",
       "      <td>Male</td>\n",
       "      <td>38</td>\n",
       "      <td>9</td>\n",
       "      <td>88977.39</td>\n",
       "      <td>2</td>\n",
       "      <td>0</td>\n",
       "      <td>1</td>\n",
       "      <td>133403.07</td>\n",
       "      <td>0</td>\n",
       "      <td>(35, 40]</td>\n",
       "      <td>0.059977</td>\n",
       "      <td>0.056607</td>\n",
       "      <td>0.2035</td>\n",
       "      <td>0.068790</td>\n",
       "      <td>0</td>\n",
       "    </tr>\n",
       "  </tbody>\n",
       "</table>\n",
       "<p>2000 rows × 20 columns</p>\n",
       "</div>"
      ],
      "text/plain": [
       "      RowNumber  CustomerId    Surname  CreditScore Geography  Gender  Age  \\\n",
       "0          9168    15645353      Chubb          607    France    Male   26   \n",
       "1          9388    15594576    Zhdanov          524    France    Male   32   \n",
       "2          6860    15811927    Marcelo          733    France  Female   38   \n",
       "3          3501    15675675      Slate          850    France  Female   32   \n",
       "4          6234    15682914     Bolton          850    France    Male   34   \n",
       "...         ...         ...        ...          ...       ...     ...  ...   \n",
       "1995       7393    15795079     Nnaife          596     Spain    Male   67   \n",
       "1996       3234    15601550   Genovesi          595     Spain    Male   36   \n",
       "1997        219    15659366       Shih          807    France    Male   43   \n",
       "1998       4756    15740072   Padovesi          720    France  Female   37   \n",
       "1999       7635    15707681  Pokrovsky          501   Germany    Male   38   \n",
       "\n",
       "      Tenure    Balance  NumOfProducts  HasCrCard  IsActiveMember  \\\n",
       "0          1       0.00              1          1               0   \n",
       "1          1  144875.71              1          0               0   \n",
       "2          3  157658.36              1          0               0   \n",
       "3          5  106290.64              1          1               0   \n",
       "4          2   72079.71              1          1               1   \n",
       "...      ...        ...            ...        ...             ...   \n",
       "1995       6       0.00              2          1               1   \n",
       "1996       6   85768.42              1          1               1   \n",
       "1997       1  105799.32              2          1               0   \n",
       "1998       2  120328.88              2          1               1   \n",
       "1999       9   88977.39              2          0               1   \n",
       "\n",
       "      EstimatedSalary  Exited age_group  score_prod_age  machine_prod_age  \\\n",
       "0            29818.20       0   (0, 31]        0.106774          0.097950   \n",
       "1           187740.04       0  (31, 35]        0.135908          0.123485   \n",
       "2            19658.43       0  (35, 40]        0.198646          0.196776   \n",
       "3           121982.73       0  (31, 35]        0.135908          0.123485   \n",
       "4           115767.93       0  (31, 35]        0.135908          0.137989   \n",
       "...               ...     ...       ...             ...               ...   \n",
       "1995        138350.74       0  (46, 99]        0.225869          0.103882   \n",
       "1996         24802.77       0  (35, 40]        0.198646          0.164582   \n",
       "1997         34888.04       1  (40, 46]        0.106239          0.124178   \n",
       "1998        138470.21       0  (35, 40]        0.059977          0.051863   \n",
       "1999        133403.07       0  (35, 40]        0.059977          0.056607   \n",
       "\n",
       "      Baseline  SCORE_ALL_FEATURES  y_pred  \n",
       "0       0.2035            0.135795       0  \n",
       "1       0.2035            0.083274       0  \n",
       "2       0.2035            0.191387       0  \n",
       "3       0.2035            0.093775       0  \n",
       "4       0.2035            0.067618       0  \n",
       "...        ...                 ...     ...  \n",
       "1995    0.2035            0.037178       0  \n",
       "1996    0.2035            0.104785       0  \n",
       "1997    0.2035            0.191112       0  \n",
       "1998    0.2035            0.070693       0  \n",
       "1999    0.2035            0.068790       0  \n",
       "\n",
       "[2000 rows x 20 columns]"
      ]
     },
     "execution_count": 69,
     "metadata": {},
     "output_type": "execute_result"
    }
   ],
   "source": [
    "test"
   ]
  },
  {
   "cell_type": "code",
   "execution_count": 70,
   "id": "010fcb20",
   "metadata": {},
   "outputs": [
    {
     "data": {
      "text/plain": [
       "0.1185"
      ]
     },
     "execution_count": 70,
     "metadata": {},
     "output_type": "execute_result"
    }
   ],
   "source": [
    "# Теперь можно посчитать только еденицы - долю тех, кому мы предсказали отток:\n",
    "\n",
    "test['y_pred'].mean()"
   ]
  },
  {
   "cell_type": "code",
   "execution_count": 51,
   "id": "b7ee676d",
   "metadata": {},
   "outputs": [],
   "source": [
    "# теперь нужно научиться анализировать этот ответ:"
   ]
  },
  {
   "cell_type": "code",
   "execution_count": null,
   "id": "62955115",
   "metadata": {},
   "outputs": [],
   "source": []
  },
  {
   "cell_type": "markdown",
   "id": "883d1422",
   "metadata": {},
   "source": [
    "# МАТРИЦА ОШИБОК"
   ]
  },
  {
   "cell_type": "code",
   "execution_count": 52,
   "id": "7855599b",
   "metadata": {},
   "outputs": [],
   "source": [
    "# матрица ошибок - главная вещь для анализа ответа классификатора"
   ]
  },
  {
   "cell_type": "code",
   "execution_count": 71,
   "id": "d59daa15",
   "metadata": {},
   "outputs": [],
   "source": [
    "from sklearn.metrics import confusion_matrix"
   ]
  },
  {
   "cell_type": "code",
   "execution_count": 72,
   "id": "4b558b97",
   "metadata": {},
   "outputs": [
    {
     "data": {
      "text/html": [
       "<div>\n",
       "<style scoped>\n",
       "    .dataframe tbody tr th:only-of-type {\n",
       "        vertical-align: middle;\n",
       "    }\n",
       "\n",
       "    .dataframe tbody tr th {\n",
       "        vertical-align: top;\n",
       "    }\n",
       "\n",
       "    .dataframe thead th {\n",
       "        text-align: right;\n",
       "    }\n",
       "</style>\n",
       "<table border=\"1\" class=\"dataframe\">\n",
       "  <thead>\n",
       "    <tr style=\"text-align: right;\">\n",
       "      <th></th>\n",
       "      <th>0</th>\n",
       "      <th>1</th>\n",
       "    </tr>\n",
       "  </thead>\n",
       "  <tbody>\n",
       "    <tr>\n",
       "      <th>0</th>\n",
       "      <td>1541</td>\n",
       "      <td>52</td>\n",
       "    </tr>\n",
       "    <tr>\n",
       "      <th>1</th>\n",
       "      <td>222</td>\n",
       "      <td>185</td>\n",
       "    </tr>\n",
       "  </tbody>\n",
       "</table>\n",
       "</div>"
      ],
      "text/plain": [
       "      0    1\n",
       "0  1541   52\n",
       "1   222  185"
      ]
     },
     "execution_count": 72,
     "metadata": {},
     "output_type": "execute_result"
    }
   ],
   "source": [
    "pd.DataFrame(confusion_matrix(test['Exited'], test['y_pred']))"
   ]
  },
  {
   "cell_type": "code",
   "execution_count": 73,
   "id": "b607960f",
   "metadata": {},
   "outputs": [],
   "source": [
    "tn, fp, fn, tp = confusion_matrix(test['Exited'], test['y_pred']).ravel()"
   ]
  },
  {
   "cell_type": "code",
   "execution_count": 74,
   "id": "7567ff09",
   "metadata": {
    "scrolled": false
   },
   "outputs": [
    {
     "data": {
      "image/png": "[encoded data removed]",
      "text/plain": [
       "<Figure size 640x480 with 2 Axes>"
      ]
     },
     "metadata": {},
     "output_type": "display_data"
    }
   ],
   "source": [
    "import numpy as np\n",
    "import matplotlib.pyplot as plt\n",
    "from sklearn.metrics import confusion_matrix\n",
    "\n",
    "tn, fp, fn, tp = confusion_matrix(test['Exited'], test['y_pred']).ravel()\n",
    "\n",
    "# Создание матрицы ошибок\n",
    "confusion_matrix = np.array([[tn, fp], [fn, tp]])\n",
    "\n",
    "# Настройка осей\n",
    "classes = ['Negative', 'Positive']\n",
    "ticks = np.arange(len(classes))\n",
    "\n",
    "# Создание графика\n",
    "plt.imshow(confusion_matrix, cmap='Blues')\n",
    "\n",
    "# Добавление текста к ячейкам\n",
    "thresh = confusion_matrix.max() / 2\n",
    "for i in range(confusion_matrix.shape[0]):\n",
    "    for j in range(confusion_matrix.shape[1]):\n",
    "        plt.text(j, i, format(confusion_matrix[i, j], 'd'),\n",
    "                 ha=\"center\", va=\"center\",\n",
    "                 color=\"white\" if confusion_matrix[i, j] > thresh else \"black\")\n",
    "\n",
    "# Настройка осей и заголовка\n",
    "plt.xticks(ticks, classes)\n",
    "plt.yticks(ticks, classes)\n",
    "plt.xlabel('y_prediction')\n",
    "plt.ylabel('y_True')\n",
    "plt.title('Confusion Matrix')\n",
    "\n",
    "# Отображение цветовой шкалы\n",
    "plt.colorbar()\n",
    "\n",
    "# Показать график\n",
    "plt.show()"
   ]
  },
  {
   "cell_type": "code",
   "execution_count": 58,
   "id": "aad35655",
   "metadata": {},
   "outputs": [],
   "source": [
    "# from sklearn.metrics import ConfusionMatrixDisplay\n",
    "# confmetrx = ConfusionMatrixDisplay(confusion_matrix(test['Exited'], test['y_pred']))\n",
    "# confmetrx.plot()"
   ]
  },
  {
   "cell_type": "code",
   "execution_count": null,
   "id": "0b9548e2",
   "metadata": {},
   "outputs": [],
   "source": [
    "#     Если y_True и y_prediction совпадают - значит TRUE\n",
    "    \n",
    "#     Если y_True и y_prediction НЕ совпадают - значит FALSE\n",
    "\n",
    "\n",
    "# Чтобы определить POSITIVE или NEGATIVE смотрим на y_prediction:\n",
    "\n",
    "#     Если TRUE:\n",
    "# Если y_prediction = Positive и y_True = Positive - значит TRUE POSITIVE\n",
    "# Если y_prediction = Negative и y_True = Negative - значит TRUE NEGATIVE\n",
    "\n",
    "#     Если FALSE:\n",
    "# Если y_prediction = Positive и y_True = Negative - значит FALSE POSITIVE - ложное срабатываение - ошибка I рода\n",
    "# Если y_prediction = Negative и y_True = Positive - значит TRUE NEGATIVE - ложный пропуск - ошибка II рода"
   ]
  },
  {
   "cell_type": "code",
   "execution_count": null,
   "id": "7766a2aa",
   "metadata": {},
   "outputs": [],
   "source": []
  },
  {
   "cell_type": "markdown",
   "id": "f95ffd7c",
   "metadata": {},
   "source": [
    "# Все основные метрики считаются на основе матрицы ошибок confusion_matrix\n",
    "\n",
    "https://en.wikipedia.org/wiki/Receiver_operating_characteristic"
   ]
  },
  {
   "cell_type": "markdown",
   "id": "a92ff4a7",
   "metadata": {},
   "source": [
    "## Recall (полнота)\n",
    "sensitivity, recall, hit rate, or true positive rate (TPR)"
   ]
  },
  {
   "cell_type": "code",
   "execution_count": null,
   "id": "3eb2df7f",
   "metadata": {},
   "outputs": [],
   "source": [
    "# Recall - это процент 'единичек', которые модель пометила как 'единички'\n",
    "\n",
    "# Эта метрика показывает насколько хорошо эта метрика умеет подсвечивать 'единички'\n",
    "\n",
    "# В случае оттока клиентов - насколько хорошо она может подсветить отточного клиента\n",
    "\n",
    "# В случае с сигналом - насколько хорошо она может подсвечивать сигнал\n",
    "\n",
    "# tn, fp, fn, tp\n",
    "# Формула: TPR = tp / P = tp / (tp + fn)\n",
    "\n",
    "# !!! ПОКАЗЫВАЕТ ПРОЦЕНТ ВСЕХ НАСТОЯЩИХ ЕДИНИЧЕК, ПОМЕЧЕННЫХ ЕДИНИЧКАМИ - рассматриваем все единицы из y_TRUE"
   ]
  },
  {
   "cell_type": "code",
   "execution_count": 75,
   "id": "84ec6fab",
   "metadata": {},
   "outputs": [
    {
     "data": {
      "text/plain": [
       "0.45454545454545453"
      ]
     },
     "execution_count": 75,
     "metadata": {},
     "output_type": "execute_result"
    }
   ],
   "source": [
    "recall = tp / (tp + fn)\n",
    "recall"
   ]
  },
  {
   "cell_type": "code",
   "execution_count": 76,
   "id": "bc486918",
   "metadata": {},
   "outputs": [
    {
     "data": {
      "text/plain": [
       "0.45454545454545453"
      ]
     },
     "execution_count": 76,
     "metadata": {},
     "output_type": "execute_result"
    }
   ],
   "source": [
    "# или по-другому:\n",
    "\n",
    "from sklearn.metrics import recall_score\n",
    "\n",
    "recall_score(test['Exited'], test['y_pred'])"
   ]
  },
  {
   "cell_type": "code",
   "execution_count": null,
   "id": "dc0a3555",
   "metadata": {},
   "outputs": [],
   "source": [
    "# одного recall недостаточно для оценки качества модели"
   ]
  },
  {
   "cell_type": "code",
   "execution_count": null,
   "id": "dc9d10cc",
   "metadata": {},
   "outputs": [],
   "source": []
  },
  {
   "cell_type": "markdown",
   "id": "549d7dc5",
   "metadata": {},
   "source": [
    "## Precision (точность)"
   ]
  },
  {
   "cell_type": "code",
   "execution_count": null,
   "id": "159e2213",
   "metadata": {},
   "outputs": [],
   "source": [
    "# Precision - показывает процент правильных 'единичек', среди всех предсказанных 'единичек'\n",
    "\n",
    "# !!! ПОКАЗЫВАЕТ ПРОЦЕНТ ВСЕХ ПРЕДСКАЗАННЫХ ЕДИНИЧЕК - рассматриваем все единицы из y_pred (tp + fp)"
   ]
  },
  {
   "cell_type": "code",
   "execution_count": 77,
   "id": "6d8044b4",
   "metadata": {},
   "outputs": [
    {
     "data": {
      "text/plain": [
       "0.7805907172995781"
      ]
     },
     "execution_count": 77,
     "metadata": {},
     "output_type": "execute_result"
    }
   ],
   "source": [
    "precision = tp/(tp + fp)\n",
    "precision\n",
    "\n",
    "# если нашей модели показывать и отточников и не отточников, то\n",
    "# среди тех, кто отмечен как отточник - будет 77% реальных отточников"
   ]
  },
  {
   "cell_type": "code",
   "execution_count": 78,
   "id": "71872024",
   "metadata": {},
   "outputs": [
    {
     "data": {
      "text/plain": [
       "0.7805907172995781"
      ]
     },
     "execution_count": 78,
     "metadata": {},
     "output_type": "execute_result"
    }
   ],
   "source": [
    "# или по-другому:\n",
    "\n",
    "from sklearn.metrics import precision_score\n",
    "\n",
    "precision_score(test['Exited'], test['y_pred'])"
   ]
  },
  {
   "cell_type": "code",
   "execution_count": null,
   "id": "1cae5c82",
   "metadata": {},
   "outputs": [],
   "source": []
  },
  {
   "cell_type": "code",
   "execution_count": null,
   "id": "e8ed4700",
   "metadata": {},
   "outputs": [],
   "source": [
    "# Precision у этой модели лучше чем Recall - это означает что:\n",
    "\n",
    "# Проценты Precision говорят о том что такой процент из помеченных моделью как \"1\" будут действительно \"1\"\n",
    "\n",
    "# Проценты Recall говорят о том что, такой процент из реальных \"1\" будут помечены моделью как \"1\""
   ]
  },
  {
   "cell_type": "markdown",
   "id": "3825d84e",
   "metadata": {},
   "source": [
    "### Пример Recall и Precision на кошках и ребенке"
   ]
  },
  {
   "cell_type": "markdown",
   "id": "04e8bbd5",
   "metadata": {},
   "source": [
    "Учим ребенка опредеялть животное. Если кошка - говорит \"мяу\", если не кошка - молчит.\n",
    "\n",
    "Задача бинарной классификации, ребенок - модель, классификатор.\n",
    "\n",
    "Recall\n",
    "\n",
    "Показали 100 картинок с кошкой. Только 80 сказал \"мяу\". Recall == 80/100 == 0.8 == 80%\n",
    "\n",
    "\n",
    "Precision\n",
    "\n",
    "Показываем 100 картинок не только с кошкой, но и с другими животными.\n",
    "\n",
    "Сказано \"мяу\" 50 раз. Взяли эти 50 картинок на которые сказано \"мяу\" и оказалось что только на 20 из них есть кошка.\n",
    "\n",
    "Значит Precision ребенка 20/50 == 0.4 == 40% \n",
    "\n",
    "Значит из тех 50 \"Мяу\" тоьлко 40% оказались кошкой на самом деле."
   ]
  },
  {
   "cell_type": "code",
   "execution_count": null,
   "id": "cd5d0b33",
   "metadata": {},
   "outputs": [],
   "source": []
  },
  {
   "cell_type": "markdown",
   "id": "498cc2cb",
   "metadata": {},
   "source": [
    "### С помощью двух этих метрик Recall и Precision уже можно оценивать работу классификатора\n",
    "\n",
    "Одного Recall недостаточно, также как и одного Precision.\n",
    "\n",
    "Но с помощью этих двух метрик уже можно говорить на сколько хорошо решаются задачи классификатора."
   ]
  },
  {
   "cell_type": "code",
   "execution_count": null,
   "id": "186d22a6",
   "metadata": {},
   "outputs": [],
   "source": []
  },
  {
   "cell_type": "markdown",
   "id": "ff79b608",
   "metadata": {},
   "source": [
    "## Метрика F1\n",
    "Объединяет в себе Recall и Precision"
   ]
  },
  {
   "cell_type": "code",
   "execution_count": 64,
   "id": "06521279",
   "metadata": {},
   "outputs": [
    {
     "data": {
      "text/plain": [
       "0.5793528505392913"
      ]
     },
     "execution_count": 64,
     "metadata": {},
     "output_type": "execute_result"
    }
   ],
   "source": [
    "f1 = (2 * recall * precision) / (recall + precision)\n",
    "f1"
   ]
  },
  {
   "cell_type": "code",
   "execution_count": null,
   "id": "0c639a58",
   "metadata": {},
   "outputs": [],
   "source": [
    "# метрика f1 - находится в диапазоне от 0 до 1 и чем больше, тем лучше."
   ]
  },
  {
   "cell_type": "code",
   "execution_count": 65,
   "id": "0554e7c7",
   "metadata": {},
   "outputs": [
    {
     "data": {
      "text/plain": [
       "0.5793528505392913"
      ]
     },
     "execution_count": 65,
     "metadata": {},
     "output_type": "execute_result"
    }
   ],
   "source": [
    "from sklearn.metrics import f1_score\n",
    "\n",
    "f1_score(test['Exited'], test['y_pred'])"
   ]
  },
  {
   "cell_type": "code",
   "execution_count": null,
   "id": "82459742",
   "metadata": {},
   "outputs": [],
   "source": [
    "# ### Общая функция sklearn для расчета любого f-score:\n",
    "\n",
    "# from sklearn.metrics import fbeta_score\n",
    " \n",
    "# fbeta_score(test['Exited'], test['y_pred'], beta=1)   # f1-score\n",
    " \n",
    "\n",
    "# ### Под капотом:\n",
    "\n",
    "# b = 1\n",
    "\n",
    "# ((1 + b**2) * precision * recall) / (b**2 * precision + recall)"
   ]
  },
  {
   "cell_type": "code",
   "execution_count": null,
   "id": "2cbb8b0c",
   "metadata": {},
   "outputs": [],
   "source": []
  },
  {
   "cell_type": "code",
   "execution_count": null,
   "id": "ea478a9a",
   "metadata": {},
   "outputs": [],
   "source": [
    "# # f1 - является частным случаем F-метрики (F-Score)\n",
    "\n",
    "# https://en.wikipedia.org/wiki/F-score\n",
    "    \n",
    "# # F1 показывает нам насколько Recall важнее чем Precision\n",
    "\n",
    "# # 1 это вес, он может быть и другим (1 - это значение коэфф.бета в формуле F-Score)\n",
    "# # когда бета == 1 это значит Recall и Precision одинаково значимы для нас\n",
    "\n",
    "\n",
    "# # В зависимости от конкретной безнес задачи выставляется 2 (Recall важнее для нас чем precision) или 0.5 (Наоборот)\n",
    "\n",
    "\n",
    "\n",
    "# ### КОГДА НАМ ВАЖЕН Recall ???\n",
    "\n",
    "# Мы хотим сбивать все корабли пришельцев, но это также могут быть астеройды.\n",
    "# Нам неважно сколько мы собъем астеройдов, главное чтобы были сбиты все корабли.\n",
    "# Важно чтобы ни один корабль не прошел.\n",
    "# Не важно сколько при этом уничтожено астеройдов.\n",
    "\n",
    "# ### КОГДА НАМ ВАЖЕН Precision ???\n",
    "\n",
    "# Мы должны назначить очень опасную операцию, и нам надо убедиться что она действительно необходима.\n",
    "# Нам важно точно поставить диагноз.\n",
    "# Поскольку операция опасная - нельзя отправлять всех пациентов на операционный стол без разбора.\n",
    "# Нам важно чтобы на операцию попадали только те, кто точно в ней нуждается.\n",
    "# Нам важен Precision\n"
   ]
  },
  {
   "cell_type": "code",
   "execution_count": null,
   "id": "63868afd",
   "metadata": {},
   "outputs": [],
   "source": []
  },
  {
   "cell_type": "markdown",
   "id": "d35316f2",
   "metadata": {},
   "source": [
    "# Метрика Accuracy\n",
    "Процент правильных ответов\n",
    "\n",
    "#### ЭТУ МЕТРИКУ НЕЛЬЗЯ ИСПОЛЬЗОВАТЬ КОГДА У НАС НЕ СБАЛАНСИРОВАННЫЕ КЛАССЫ\n",
    "#### А это часто бывает"
   ]
  },
  {
   "cell_type": "code",
   "execution_count": null,
   "id": "84968d3d",
   "metadata": {},
   "outputs": [],
   "source": [
    "# несбалансированный класс - это когда доля одного ответа  в данных значительно больше доли другого\n",
    "\n",
    "# когда например у нас 1000 наблюдений и из них только 50 единичек и 950 ноликов\n",
    "\n",
    "# В целом, когда не 50% на 50% то уже несбалансированные). \n",
    "# Поэтому классы всегда на практике несбалансированные). \n",
    "# Ну особо еще выделяют сильный дисбаланс, т.е когда скажем \n",
    "# 30 на 70 или больше. А например 55 на 45 можно считать почти сбалансированными. \n",
    "\n",
    "# как экстремальный пример можно привести задачу предсказания доли кликнувших по \n",
    "# кнопке на странице сайта, эта доля может быть очень низка - 1 клик на несколько \n",
    "# сотен, если не тысяч посещений страницы. Поэтому если модель предскажет, что \n",
    "# никто не кликнул - accuracy всё-равно будет очень высоким"
   ]
  },
  {
   "cell_type": "code",
   "execution_count": null,
   "id": "ce3f65f7",
   "metadata": {},
   "outputs": [],
   "source": []
  },
  {
   "cell_type": "code",
   "execution_count": 66,
   "id": "a2ab3b25",
   "metadata": {},
   "outputs": [
    {
     "data": {
      "text/plain": [
       "0        True\n",
       "1        True\n",
       "2        True\n",
       "3        True\n",
       "4        True\n",
       "        ...  \n",
       "1995     True\n",
       "1996     True\n",
       "1997    False\n",
       "1998     True\n",
       "1999     True\n",
       "Length: 2000, dtype: bool"
      ]
     },
     "execution_count": 66,
     "metadata": {},
     "output_type": "execute_result"
    }
   ],
   "source": [
    "# там где модель назначила правильный класс - будет True, там где - не правильный - будет False:\n",
    "\n",
    "test['Exited'] == test['y_pred']"
   ]
  },
  {
   "cell_type": "code",
   "execution_count": 67,
   "id": "d3ee672e",
   "metadata": {},
   "outputs": [
    {
     "data": {
      "text/plain": [
       "0.8635"
      ]
     },
     "execution_count": 67,
     "metadata": {},
     "output_type": "execute_result"
    }
   ],
   "source": [
    "# чтобы понять процент правильных ответов - Accuracy:\n",
    "\n",
    "(test['Exited'] == test['y_pred']).mean()"
   ]
  },
  {
   "cell_type": "code",
   "execution_count": 68,
   "id": "d0850163",
   "metadata": {},
   "outputs": [
    {
     "data": {
      "text/plain": [
       "0.8635"
      ]
     },
     "execution_count": 68,
     "metadata": {},
     "output_type": "execute_result"
    }
   ],
   "source": [
    "# или с помощью матрицы ошибок:\n",
    "\n",
    "(tn + tp) / (tn + tp + fn + fp)"
   ]
  },
  {
   "cell_type": "code",
   "execution_count": 69,
   "id": "ae9dde23",
   "metadata": {},
   "outputs": [
    {
     "data": {
      "text/plain": [
       "0.8635"
      ]
     },
     "execution_count": 69,
     "metadata": {},
     "output_type": "execute_result"
    }
   ],
   "source": [
    "# или с помощью sklearn:\n",
    "\n",
    "from sklearn.metrics import accuracy_score\n",
    "\n",
    "accuracy_score(test['Exited'], test['y_pred'])"
   ]
  },
  {
   "cell_type": "code",
   "execution_count": null,
   "id": "1ca96915",
   "metadata": {},
   "outputs": [],
   "source": []
  },
  {
   "cell_type": "code",
   "execution_count": 70,
   "id": "4a26cb59",
   "metadata": {},
   "outputs": [
    {
     "data": {
      "text/plain": [
       "0.2035"
      ]
     },
     "execution_count": 70,
     "metadata": {},
     "output_type": "execute_result"
    }
   ],
   "source": [
    "# нули и единицы распределены по выборке не 50% на 50%:\n",
    "\n",
    "# доля единиц в нашем случае 20%, доля нулей 80%\n",
    "\n",
    "# это не сбалансированный класс:\n",
    "\n",
    "test['Exited'].mean()\n",
    "\n",
    "# ЭТУ МЕТРИКУ НЕЛЬЗЯ ИСПОЛЬЗОВАТЬ КОГДА У НАС НЕ СБАЛАНСИРОВАННЫЕ КЛАССЫ"
   ]
  },
  {
   "cell_type": "code",
   "execution_count": null,
   "id": "9fb6e7d2",
   "metadata": {},
   "outputs": [],
   "source": []
  },
  {
   "cell_type": "markdown",
   "id": "660b952e",
   "metadata": {},
   "source": [
    "# Classification report"
   ]
  },
  {
   "cell_type": "code",
   "execution_count": 71,
   "id": "01bf5d90",
   "metadata": {},
   "outputs": [],
   "source": [
    "from sklearn.metrics import classification_report"
   ]
  },
  {
   "cell_type": "code",
   "execution_count": 72,
   "id": "8fd3bffd",
   "metadata": {},
   "outputs": [
    {
     "name": "stdout",
     "output_type": "stream",
     "text": [
      "              precision    recall  f1-score   support\n",
      "\n",
      "           0       0.88      0.97      0.92      1593\n",
      "           1       0.78      0.46      0.58       407\n",
      "\n",
      "    accuracy                           0.86      2000\n",
      "   macro avg       0.83      0.71      0.75      2000\n",
      "weighted avg       0.86      0.86      0.85      2000\n",
      "\n"
     ]
    }
   ],
   "source": [
    "print(classification_report(test['Exited'], test['y_pred']))"
   ]
  },
  {
   "cell_type": "code",
   "execution_count": 73,
   "id": "f317ab58",
   "metadata": {},
   "outputs": [
    {
     "name": "stdout",
     "output_type": "stream",
     "text": [
      "0.4619164619164619\n",
      "0.7768595041322314\n",
      "0.5793528505392913\n"
     ]
    }
   ],
   "source": [
    "# выше мы считали для класса еденичек:\n",
    "\n",
    "print(recall)\n",
    "print(precision)\n",
    "print(f1)"
   ]
  },
  {
   "cell_type": "code",
   "execution_count": null,
   "id": "edef32df",
   "metadata": {},
   "outputs": [],
   "source": []
  },
  {
   "cell_type": "markdown",
   "id": "857042fa",
   "metadata": {},
   "source": [
    "# ВСЕ ЭТИ МЕТРИКИ ПОСЧИТАНЫ ВСЕГО ЛИШЬ ДЛЯ ОДНОГО ПОРОГА, КОТОРЫЙ МЫ ЗАДАЛИ"
   ]
  },
  {
   "cell_type": "code",
   "execution_count": null,
   "id": "cd6ee2b2",
   "metadata": {},
   "outputs": [],
   "source": [
    "\n",
    "\n",
    "# # Предикт y_pred - с установленным порогом:\n",
    "\n",
    "# test['y_pred'] = test['SCORE_ALL_FEATURES'] > 0.5\n",
    "\n",
    "# Это тот порог с помощью которого мы преобразовали наш SCORE в нолики или единицы\n",
    "\n",
    "# Но мы можем выбрать любой порог вместо 0.5 - любой порог в диапазоне от 0 до единицы\n",
    "\n"
   ]
  },
  {
   "cell_type": "code",
   "execution_count": 74,
   "id": "da860815",
   "metadata": {},
   "outputs": [],
   "source": [
    "# например сделаем порог в 0.4\n",
    "\n",
    "test['y_pred'] = test['SCORE_ALL_FEATURES'] > 0.4"
   ]
  },
  {
   "cell_type": "code",
   "execution_count": 75,
   "id": "4faa8492",
   "metadata": {},
   "outputs": [
    {
     "name": "stdout",
     "output_type": "stream",
     "text": [
      "              precision    recall  f1-score   support\n",
      "\n",
      "           0       0.89      0.94      0.92      1593\n",
      "           1       0.71      0.55      0.62       407\n",
      "\n",
      "    accuracy                           0.86      2000\n",
      "   macro avg       0.80      0.75      0.77      2000\n",
      "weighted avg       0.86      0.86      0.86      2000\n",
      "\n"
     ]
    }
   ],
   "source": [
    "# выводым classification_report для порога 0.4:\n",
    "\n",
    "# classification_report и значения recall, precision - для этого порога - другие, чем для 0.5:\n",
    "\n",
    "print(classification_report(test['Exited'], test['y_pred']))"
   ]
  },
  {
   "cell_type": "code",
   "execution_count": null,
   "id": "715a39eb",
   "metadata": {},
   "outputs": [],
   "source": []
  },
  {
   "cell_type": "code",
   "execution_count": null,
   "id": "009a9788",
   "metadata": {},
   "outputs": [],
   "source": [
    "# Нас интересует максимальный f1 - при каком пороге f1 - максимальный???\n",
    "\n",
    "# Для того, чтобы найти максимальный f1 надо взять все пороги и посчитать для них f1, выбрать максимальный\n",
    "\n",
    "# Бесконечное количество порогов перебирать не надо:\n",
    "\n",
    "\n",
    "# Необходимо перебрать только количество уникальных скоров\n",
    "\n",
    "# И еще нужно добавить порог, при котором все значения будут классифицированы как единица. \n",
    "# Например добавлением искусственно нуля в начало скора\n"
   ]
  },
  {
   "cell_type": "code",
   "execution_count": 76,
   "id": "7f90c144",
   "metadata": {},
   "outputs": [
    {
     "data": {
      "text/plain": [
       "0       0.117387\n",
       "1       0.069690\n",
       "2       0.169110\n",
       "3       0.089905\n",
       "4       0.062131\n",
       "          ...   \n",
       "1995    0.026964\n",
       "1996    0.102691\n",
       "1997    0.176148\n",
       "1998    0.066283\n",
       "1999    0.058493\n",
       "Name: SCORE_ALL_FEATURES, Length: 2000, dtype: float64"
      ]
     },
     "execution_count": 76,
     "metadata": {},
     "output_type": "execute_result"
    }
   ],
   "source": [
    "# Посчитаем f1 для всех возможных порогов и найдем порог с максимальным f1:\n",
    "\n",
    "\n",
    "test['SCORE_ALL_FEATURES']"
   ]
  },
  {
   "cell_type": "code",
   "execution_count": 77,
   "id": "46e0bbd3",
   "metadata": {},
   "outputs": [
    {
     "data": {
      "text/plain": [
       "2000"
      ]
     },
     "execution_count": 77,
     "metadata": {},
     "output_type": "execute_result"
    }
   ],
   "source": [
    "# количество уникальных скоров:\n",
    "\n",
    "test['SCORE_ALL_FEATURES'].nunique()"
   ]
  },
  {
   "cell_type": "code",
   "execution_count": 78,
   "id": "bc2aaa8b",
   "metadata": {},
   "outputs": [],
   "source": [
    "# thrs - сокращение от thresholds - переменная содержащая все пороги\n",
    "\n",
    "thrs = list(test['SCORE_ALL_FEATURES'].unique())"
   ]
  },
  {
   "cell_type": "code",
   "execution_count": 79,
   "id": "e2172875",
   "metadata": {},
   "outputs": [
    {
     "data": {
      "text/plain": [
       "[0.11738709825258084,\n",
       " 0.0696899683335773,\n",
       " 0.16910957639629676,\n",
       " 0.08990490897318036,\n",
       " 0.06213052149758565,\n",
       " 0.06769608755703861,\n",
       " 0.5314062142371105,\n",
       " 0.230024897124664,\n",
       " 0.053961966815553576,\n",
       " 0.39303486705191054]"
      ]
     },
     "execution_count": 79,
     "metadata": {},
     "output_type": "execute_result"
    }
   ],
   "source": [
    "# выведем первые 10 возможных порогов (из 2000 в данном случае):\n",
    "\n",
    "thrs[:10]"
   ]
  },
  {
   "cell_type": "code",
   "execution_count": 80,
   "id": "fcca5c90",
   "metadata": {},
   "outputs": [
    {
     "data": {
      "text/plain": [
       "0.010188542527368925"
      ]
     },
     "execution_count": 80,
     "metadata": {},
     "output_type": "execute_result"
    }
   ],
   "source": [
    "# и еще нужно вывести пороги, при которых все значения скора получат метку \"1\":\n",
    "\n",
    "# минимальный порог:\n",
    "min(thrs)"
   ]
  },
  {
   "cell_type": "code",
   "execution_count": 92,
   "id": "a16545b2",
   "metadata": {},
   "outputs": [],
   "source": [
    "# добавим значение еще меньше минимального порога - тогда все значения score получат метки \"1\":\n",
    "\n",
    "thrs = [0] + list(test['SCORE_ALL_FEATURES'].unique())"
   ]
  },
  {
   "cell_type": "code",
   "execution_count": 93,
   "id": "be429de9",
   "metadata": {},
   "outputs": [
    {
     "data": {
      "text/plain": [
       "[0,\n",
       " 0.11738709825258084,\n",
       " 0.0696899683335773,\n",
       " 0.16910957639629676,\n",
       " 0.08990490897318036,\n",
       " 0.06213052149758565,\n",
       " 0.06769608755703861,\n",
       " 0.5314062142371105,\n",
       " 0.230024897124664,\n",
       " 0.053961966815553576]"
      ]
     },
     "execution_count": 93,
     "metadata": {},
     "output_type": "execute_result"
    }
   ],
   "source": [
    "thrs[:10]"
   ]
  },
  {
   "cell_type": "code",
   "execution_count": null,
   "id": "3687e921",
   "metadata": {},
   "outputs": [],
   "source": [
    "# Крутая шткуа для визуализации процесса выполнения:\n",
    "\n",
    "from tqdm import tqdm\n",
    "import time\n",
    "\n",
    "# Create a list\n",
    "my_list = range(100)\n",
    "\n",
    "# Wrap the list with tqdm\n",
    "for item in tqdm(my_list):\n",
    "    # Simulate some work\n",
    "    time.sleep(0.1)\n"
   ]
  },
  {
   "cell_type": "code",
   "execution_count": 130,
   "id": "376a73a6",
   "metadata": {},
   "outputs": [
    {
     "name": "stderr",
     "output_type": "stream",
     "text": [
      "100%|\u001b[32m████████████████████████████████████████████████████████████████████████████████\u001b[0m| 100/100 [00:10<00:00,  9.19it/s]\u001b[0m\n"
     ]
    }
   ],
   "source": [
    "# И ее модификация чтобы шкала была зеленой:\n",
    "    \n",
    "from tqdm import tqdm\n",
    "import time\n",
    "\n",
    "# Create a list\n",
    "my_list = range(100)\n",
    "\n",
    "# Wrap the list with tqdm and set bar_format\n",
    "for item in tqdm(my_list, colour='green'):\n",
    "    # Simulate some work\n",
    "    time.sleep(0.1)\n"
   ]
  },
  {
   "cell_type": "code",
   "execution_count": 133,
   "id": "a6c528d4",
   "metadata": {},
   "outputs": [
    {
     "name": "stderr",
     "output_type": "stream",
     "text": [
      "100%|█████████████████████████████████████████████████████████████████████████████| 2001/2001 [00:03<00:00, 518.92it/s]\n"
     ]
    }
   ],
   "source": [
    "from sklearn.metrics import f1_score\n",
    "\n",
    "# для визуализации длительного процесса вычислений - выведем прогресс-бар:\n",
    "\n",
    "from tqdm import tqdm\n",
    "\n",
    "# теперь есть все пороги для которых нужно посчитать f1:\n",
    "\n",
    "# создаем массив в котором будем хранить все f1:\n",
    "result = []\n",
    "\n",
    "# для каждого порога делаем предикт в столбце y_pred_new:\n",
    "# чтобы получить прогресс-бар надо завернуть в tqdm тот спискок - по которому мы идем циклом:\n",
    "\n",
    "for i in tqdm(thrs):\n",
    "    test['y_pred_new'] = (test['SCORE_ALL_FEATURES'] > i) * 1\n",
    "    \n",
    "    # для каждого порога считаем f1:    \n",
    "    # добавляем в спискок:\n",
    "    # добавляем кортеж из i - это значение порога, и f1)\n",
    "    result.append((i, f1_score(test['Exited'], test['y_pred_new'])))\n",
    "    \n",
    "    \n",
    "    "
   ]
  },
  {
   "cell_type": "code",
   "execution_count": 105,
   "id": "1b924757",
   "metadata": {},
   "outputs": [
    {
     "data": {
      "text/plain": [
       "2001"
      ]
     },
     "execution_count": 105,
     "metadata": {},
     "output_type": "execute_result"
    }
   ],
   "source": [
    "len(result)"
   ]
  },
  {
   "cell_type": "code",
   "execution_count": 106,
   "id": "ed8d251c",
   "metadata": {},
   "outputs": [
    {
     "data": {
      "text/plain": [
       "[(0, 0.3381803074366431),\n",
       " (0.11738709825258084, 0.5358208955223881),\n",
       " (0.0696899683335773, 0.4610849056603773),\n",
       " (0.16910957639629676, 0.5800344234079174),\n",
       " (0.08990490897318036, 0.4947229551451187),\n",
       " (0.06213052149758565, 0.4451977401129943),\n",
       " (0.06769608755703861, 0.4575087310826542),\n",
       " (0.5314062142371105, 0.5624012638230648),\n",
       " (0.230024897124664, 0.6179196704428424),\n",
       " (0.053961966815553576, 0.42512077294685985)]"
      ]
     },
     "execution_count": 106,
     "metadata": {},
     "output_type": "execute_result"
    }
   ],
   "source": [
    "result[:10]"
   ]
  },
  {
   "cell_type": "code",
   "execution_count": 118,
   "id": "11894e67",
   "metadata": {},
   "outputs": [
    {
     "data": {
      "text/html": [
       "<div>\n",
       "<style scoped>\n",
       "    .dataframe tbody tr th:only-of-type {\n",
       "        vertical-align: middle;\n",
       "    }\n",
       "\n",
       "    .dataframe tbody tr th {\n",
       "        vertical-align: top;\n",
       "    }\n",
       "\n",
       "    .dataframe thead th {\n",
       "        text-align: right;\n",
       "    }\n",
       "</style>\n",
       "<table border=\"1\" class=\"dataframe\">\n",
       "  <thead>\n",
       "    <tr style=\"text-align: right;\">\n",
       "      <th></th>\n",
       "      <th>Порог</th>\n",
       "      <th>f1</th>\n",
       "    </tr>\n",
       "  </thead>\n",
       "  <tbody>\n",
       "    <tr>\n",
       "      <th>1755</th>\n",
       "      <td>0.321291</td>\n",
       "      <td>0.637363</td>\n",
       "    </tr>\n",
       "    <tr>\n",
       "      <th>363</th>\n",
       "      <td>0.315151</td>\n",
       "      <td>0.636804</td>\n",
       "    </tr>\n",
       "    <tr>\n",
       "      <th>989</th>\n",
       "      <td>0.320802</td>\n",
       "      <td>0.636585</td>\n",
       "    </tr>\n",
       "    <tr>\n",
       "      <th>902</th>\n",
       "      <td>0.314272</td>\n",
       "      <td>0.636034</td>\n",
       "    </tr>\n",
       "    <tr>\n",
       "      <th>1410</th>\n",
       "      <td>0.334712</td>\n",
       "      <td>0.635910</td>\n",
       "    </tr>\n",
       "    <tr>\n",
       "      <th>...</th>\n",
       "      <td>...</td>\n",
       "      <td>...</td>\n",
       "    </tr>\n",
       "    <tr>\n",
       "      <th>413</th>\n",
       "      <td>0.992000</td>\n",
       "      <td>0.019465</td>\n",
       "    </tr>\n",
       "    <tr>\n",
       "      <th>180</th>\n",
       "      <td>0.992096</td>\n",
       "      <td>0.014634</td>\n",
       "    </tr>\n",
       "    <tr>\n",
       "      <th>315</th>\n",
       "      <td>0.992903</td>\n",
       "      <td>0.009780</td>\n",
       "    </tr>\n",
       "    <tr>\n",
       "      <th>1205</th>\n",
       "      <td>0.993651</td>\n",
       "      <td>0.004902</td>\n",
       "    </tr>\n",
       "    <tr>\n",
       "      <th>206</th>\n",
       "      <td>0.995549</td>\n",
       "      <td>0.000000</td>\n",
       "    </tr>\n",
       "  </tbody>\n",
       "</table>\n",
       "<p>2001 rows × 2 columns</p>\n",
       "</div>"
      ],
      "text/plain": [
       "         Порог        f1\n",
       "1755  0.321291  0.637363\n",
       "363   0.315151  0.636804\n",
       "989   0.320802  0.636585\n",
       "902   0.314272  0.636034\n",
       "1410  0.334712  0.635910\n",
       "...        ...       ...\n",
       "413   0.992000  0.019465\n",
       "180   0.992096  0.014634\n",
       "315   0.992903  0.009780\n",
       "1205  0.993651  0.004902\n",
       "206   0.995549  0.000000\n",
       "\n",
       "[2001 rows x 2 columns]"
      ]
     },
     "execution_count": 118,
     "metadata": {},
     "output_type": "execute_result"
    }
   ],
   "source": [
    "# найдем максимальный f1:\n",
    "\n",
    "pd.DataFrame(result, columns = ['Порог', 'f1']).sort_values(by='f1', ascending = False)"
   ]
  },
  {
   "cell_type": "code",
   "execution_count": 119,
   "id": "757b61dd",
   "metadata": {},
   "outputs": [],
   "source": [
    "# или по-другому:\n",
    "\n",
    "t = pd.DataFrame(result, columns = ['Порог', 'f1'])"
   ]
  },
  {
   "cell_type": "code",
   "execution_count": 122,
   "id": "fa345dd7",
   "metadata": {},
   "outputs": [
    {
     "data": {
      "text/html": [
       "<div>\n",
       "<style scoped>\n",
       "    .dataframe tbody tr th:only-of-type {\n",
       "        vertical-align: middle;\n",
       "    }\n",
       "\n",
       "    .dataframe tbody tr th {\n",
       "        vertical-align: top;\n",
       "    }\n",
       "\n",
       "    .dataframe thead th {\n",
       "        text-align: right;\n",
       "    }\n",
       "</style>\n",
       "<table border=\"1\" class=\"dataframe\">\n",
       "  <thead>\n",
       "    <tr style=\"text-align: right;\">\n",
       "      <th></th>\n",
       "      <th>Порог</th>\n",
       "      <th>f1</th>\n",
       "    </tr>\n",
       "  </thead>\n",
       "  <tbody>\n",
       "    <tr>\n",
       "      <th>1755</th>\n",
       "      <td>0.321291</td>\n",
       "      <td>0.637363</td>\n",
       "    </tr>\n",
       "  </tbody>\n",
       "</table>\n",
       "</div>"
      ],
      "text/plain": [
       "         Порог        f1\n",
       "1755  0.321291  0.637363"
      ]
     },
     "execution_count": 122,
     "metadata": {},
     "output_type": "execute_result"
    }
   ],
   "source": [
    "# через фильтрацию теперь находим максимум по f1:\n",
    "\n",
    "t[t['f1'] == t['f1'].max()]"
   ]
  },
  {
   "cell_type": "code",
   "execution_count": null,
   "id": "3c11fe4c",
   "metadata": {},
   "outputs": [],
   "source": []
  },
  {
   "cell_type": "markdown",
   "id": "1c234766",
   "metadata": {},
   "source": [
    "# Receiver operating characteristics (ROC)"
   ]
  },
  {
   "cell_type": "code",
   "execution_count": 138,
   "id": "6d28be12",
   "metadata": {},
   "outputs": [],
   "source": [
    "from sklearn.metrics import roc_curve"
   ]
  },
  {
   "cell_type": "code",
   "execution_count": 141,
   "id": "58118d23",
   "metadata": {},
   "outputs": [],
   "source": [
    "# FalsePositiveRates, TruePositives, Threshholds\n",
    "fprs, tprs, thrs =  roc_curve(test['Exited'], test['SCORE_ALL_FEATURES'])"
   ]
  },
  {
   "cell_type": "code",
   "execution_count": 143,
   "id": "a6872909",
   "metadata": {},
   "outputs": [],
   "source": [
    "roc = pd.DataFrame({'fpr': fprs, 'tpr': tprs, 'thr': thrs})"
   ]
  },
  {
   "cell_type": "code",
   "execution_count": 144,
   "id": "a3ab916e",
   "metadata": {},
   "outputs": [
    {
     "data": {
      "text/html": [
       "<div>\n",
       "<style scoped>\n",
       "    .dataframe tbody tr th:only-of-type {\n",
       "        vertical-align: middle;\n",
       "    }\n",
       "\n",
       "    .dataframe tbody tr th {\n",
       "        vertical-align: top;\n",
       "    }\n",
       "\n",
       "    .dataframe thead th {\n",
       "        text-align: right;\n",
       "    }\n",
       "</style>\n",
       "<table border=\"1\" class=\"dataframe\">\n",
       "  <thead>\n",
       "    <tr style=\"text-align: right;\">\n",
       "      <th></th>\n",
       "      <th>fpr</th>\n",
       "      <th>tpr</th>\n",
       "      <th>thr</th>\n",
       "    </tr>\n",
       "  </thead>\n",
       "  <tbody>\n",
       "    <tr>\n",
       "      <th>0</th>\n",
       "      <td>0.000000</td>\n",
       "      <td>0.000000</td>\n",
       "      <td>1.995549</td>\n",
       "    </tr>\n",
       "    <tr>\n",
       "      <th>1</th>\n",
       "      <td>0.000000</td>\n",
       "      <td>0.002457</td>\n",
       "      <td>0.995549</td>\n",
       "    </tr>\n",
       "    <tr>\n",
       "      <th>2</th>\n",
       "      <td>0.000000</td>\n",
       "      <td>0.061425</td>\n",
       "      <td>0.931912</td>\n",
       "    </tr>\n",
       "    <tr>\n",
       "      <th>3</th>\n",
       "      <td>0.000628</td>\n",
       "      <td>0.061425</td>\n",
       "      <td>0.931077</td>\n",
       "    </tr>\n",
       "    <tr>\n",
       "      <th>4</th>\n",
       "      <td>0.000628</td>\n",
       "      <td>0.115479</td>\n",
       "      <td>0.894426</td>\n",
       "    </tr>\n",
       "    <tr>\n",
       "      <th>...</th>\n",
       "      <td>...</td>\n",
       "      <td>...</td>\n",
       "      <td>...</td>\n",
       "    </tr>\n",
       "    <tr>\n",
       "      <th>397</th>\n",
       "      <td>0.976146</td>\n",
       "      <td>0.995086</td>\n",
       "      <td>0.014253</td>\n",
       "    </tr>\n",
       "    <tr>\n",
       "      <th>398</th>\n",
       "      <td>0.976146</td>\n",
       "      <td>0.997543</td>\n",
       "      <td>0.014134</td>\n",
       "    </tr>\n",
       "    <tr>\n",
       "      <th>399</th>\n",
       "      <td>0.988073</td>\n",
       "      <td>0.997543</td>\n",
       "      <td>0.012587</td>\n",
       "    </tr>\n",
       "    <tr>\n",
       "      <th>400</th>\n",
       "      <td>0.988073</td>\n",
       "      <td>1.000000</td>\n",
       "      <td>0.012331</td>\n",
       "    </tr>\n",
       "    <tr>\n",
       "      <th>401</th>\n",
       "      <td>1.000000</td>\n",
       "      <td>1.000000</td>\n",
       "      <td>0.010189</td>\n",
       "    </tr>\n",
       "  </tbody>\n",
       "</table>\n",
       "<p>402 rows × 3 columns</p>\n",
       "</div>"
      ],
      "text/plain": [
       "          fpr       tpr       thr\n",
       "0    0.000000  0.000000  1.995549\n",
       "1    0.000000  0.002457  0.995549\n",
       "2    0.000000  0.061425  0.931912\n",
       "3    0.000628  0.061425  0.931077\n",
       "4    0.000628  0.115479  0.894426\n",
       "..        ...       ...       ...\n",
       "397  0.976146  0.995086  0.014253\n",
       "398  0.976146  0.997543  0.014134\n",
       "399  0.988073  0.997543  0.012587\n",
       "400  0.988073  1.000000  0.012331\n",
       "401  1.000000  1.000000  0.010189\n",
       "\n",
       "[402 rows x 3 columns]"
      ]
     },
     "execution_count": 144,
     "metadata": {},
     "output_type": "execute_result"
    }
   ],
   "source": [
    "# здесь задается максимальный порог 1.99, вместо того чтобы задать минимальный порог [0], как мы делали выше:\n",
    "roc"
   ]
  },
  {
   "cell_type": "code",
   "execution_count": 158,
   "id": "b8363afb",
   "metadata": {},
   "outputs": [
    {
     "data": {
      "text/plain": [
       "<Axes: xlabel='fpr'>"
      ]
     },
     "execution_count": 158,
     "metadata": {},
     "output_type": "execute_result"
    },
    {
     "data": {
      "image/png": "[encoded data removed]",
      "text/plain": [
       "<Figure size 600x600 with 1 Axes>"
      ]
     },
     "metadata": {},
     "output_type": "display_data"
    }
   ],
   "source": [
    "# строим график ROC кривой:\n",
    "\n",
    "roc.set_index('fpr')['tpr'].plot(figsize = (6,6))"
   ]
  },
  {
   "cell_type": "code",
   "execution_count": 160,
   "id": "1a746bd2",
   "metadata": {},
   "outputs": [
    {
     "data": {
      "text/plain": [
       "<Axes: xlabel='fpr'>"
      ]
     },
     "execution_count": 160,
     "metadata": {},
     "output_type": "execute_result"
    },
    {
     "data": {
      "image/png": "[encoded data removed]",
      "text/plain": [
       "<Figure size 600x600 with 1 Axes>"
      ]
     },
     "metadata": {},
     "output_type": "display_data"
    }
   ],
   "source": [
    "# чтобы добавить идеальную модель и случайную модель построим график немного по-другому:\n",
    "\n",
    "roc.plot(x = 'fpr', y = 'tpr', figsize = (6,6))"
   ]
  },
  {
   "cell_type": "code",
   "execution_count": 161,
   "id": "780ee18e",
   "metadata": {},
   "outputs": [],
   "source": [
    "# теперь сделаем случайную модель:\n",
    "# задаем колонку random в которую передается тот же столбец что и по \"x\", чтобы получилась диагональ.\n",
    "\n",
    "roc['random'] = roc['fpr']"
   ]
  },
  {
   "cell_type": "code",
   "execution_count": 162,
   "id": "924ad144",
   "metadata": {},
   "outputs": [
    {
     "data": {
      "text/plain": [
       "<Axes: xlabel='fpr'>"
      ]
     },
     "execution_count": 162,
     "metadata": {},
     "output_type": "execute_result"
    },
    {
     "data": {
      "image/png": "[encoded data removed]",
      "text/plain": [
       "<Figure size 600x600 with 1 Axes>"
      ]
     },
     "metadata": {},
     "output_type": "display_data"
    }
   ],
   "source": [
    "roc.plot(x = 'fpr', y = ['tpr', 'random'], figsize = (6,6))"
   ]
  },
  {
   "cell_type": "code",
   "execution_count": 164,
   "id": "241c5bcb",
   "metadata": {},
   "outputs": [
    {
     "data": {
      "text/plain": [
       "<Axes: xlabel='fpr'>"
      ]
     },
     "execution_count": 164,
     "metadata": {},
     "output_type": "execute_result"
    },
    {
     "data": {
      "image/png": "[encoded data removed]",
      "text/plain": [
       "<Figure size 600x600 with 1 Axes>"
      ]
     },
     "metadata": {},
     "output_type": "display_data"
    }
   ],
   "source": [
    "# еще добавим идеальную модель - где все единицы - всегда оказываются единицами, а все нули - всегда на нуле:\n",
    "\n",
    "roc['ideal'] = 1\n",
    "roc.plot(x = 'fpr', y = ['tpr', 'random', 'ideal'], figsize = (6,6))"
   ]
  },
  {
   "cell_type": "code",
   "execution_count": null,
   "id": "706dc37a",
   "metadata": {},
   "outputs": [],
   "source": [
    "# или воспользовавшись кодом:\n",
    "# https://stackoverflow.com/questions/25009284/how-to-plot-roc-curve-in-python"
   ]
  },
  {
   "cell_type": "code",
   "execution_count": 165,
   "id": "9abff4ba",
   "metadata": {},
   "outputs": [
    {
     "data": {
      "image/png": "[encoded data removed]",
      "text/plain": [
       "<Figure size 640x480 with 1 Axes>"
      ]
     },
     "metadata": {},
     "output_type": "display_data"
    }
   ],
   "source": [
    "import sklearn.metrics as metrics\n",
    "\n",
    "\n",
    "# calculate the fpr and tpr for all thresholds of the classification\n",
    "# probs = model.predict_proba(X_test) - это уже у нас есть\n",
    "# preds = probs[:,1] - и это тоже\n",
    "\n",
    "fpr, tpr, threshold = metrics.roc_curve(test['Exited'], test['SCORE_ALL_FEATURES'])\n",
    "\n",
    "\n",
    "roc_auc = metrics.auc(fpr, tpr)\n",
    "\n",
    "# method I: plt\n",
    "import matplotlib.pyplot as plt\n",
    "plt.title('Receiver Operating Characteristic')\n",
    "plt.plot(fpr, tpr, 'b', label = 'AUC = %0.2f' % roc_auc)\n",
    "plt.legend(loc = 'lower right')\n",
    "plt.plot([0, 1], [0, 1],'r--')\n",
    "plt.xlim([0, 1])\n",
    "plt.ylim([0, 1])\n",
    "plt.ylabel('True Positive Rate')\n",
    "plt.xlabel('False Positive Rate')\n",
    "plt.show()\n"
   ]
  },
  {
   "cell_type": "code",
   "execution_count": null,
   "id": "de4f04d3",
   "metadata": {},
   "outputs": [],
   "source": []
  },
  {
   "cell_type": "code",
   "execution_count": null,
   "id": "94ecaf74",
   "metadata": {},
   "outputs": [],
   "source": []
  },
  {
   "cell_type": "code",
   "execution_count": 166,
   "id": "d827d28e",
   "metadata": {},
   "outputs": [],
   "source": [
    "# также ROC кривую можно построить из catboost\n",
    "\n",
    "# from catboost.utils import get_roc_curve"
   ]
  },
  {
   "cell_type": "code",
   "execution_count": 175,
   "id": "8ec2ed8a",
   "metadata": {},
   "outputs": [],
   "source": [
    "# test_data = Pool(data=test[X],\n",
    "#                   label=test[y],\n",
    "#                   cat_features=cat_features\n",
    "#                  )"
   ]
  },
  {
   "cell_type": "code",
   "execution_count": 179,
   "id": "9972658b",
   "metadata": {},
   "outputs": [],
   "source": [
    "# получаем три массива на которых можно построить ROC кривую:\n",
    "# get_roc_curve(model_1, test_data)"
   ]
  },
  {
   "cell_type": "code",
   "execution_count": 180,
   "id": "f9c3f48f",
   "metadata": {
    "scrolled": false
   },
   "outputs": [],
   "source": [
    "# или сразу строим ROC кривую:\n",
    "# в конце ставим ; чтобы не выводились массивы чисел\n",
    "# get_roc_curve(model_1, test_data, plot = True);"
   ]
  },
  {
   "cell_type": "code",
   "execution_count": null,
   "id": "bf26edf3",
   "metadata": {},
   "outputs": [],
   "source": []
  },
  {
   "cell_type": "markdown",
   "id": "eb1ca9a4",
   "metadata": {},
   "source": [
    "# AUC"
   ]
  },
  {
   "cell_type": "code",
   "execution_count": 181,
   "id": "9ab88769",
   "metadata": {},
   "outputs": [
    {
     "data": {
      "image/png": "[encoded data removed]",
      "text/plain": [
       "<Figure size 640x480 with 1 Axes>"
      ]
     },
     "metadata": {},
     "output_type": "display_data"
    }
   ],
   "source": [
    "import sklearn.metrics as metrics\n",
    "\n",
    "\n",
    "# calculate the fpr and tpr for all thresholds of the classification\n",
    "# probs = model.predict_proba(X_test) - это уже у нас есть\n",
    "# preds = probs[:,1] - и это тоже\n",
    "\n",
    "fpr, tpr, threshold = metrics.roc_curve(test['Exited'], test['SCORE_ALL_FEATURES'])\n",
    "\n",
    "\n",
    "roc_auc = metrics.auc(fpr, tpr)\n",
    "\n",
    "# method I: plt\n",
    "import matplotlib.pyplot as plt\n",
    "plt.title('Receiver Operating Characteristic')\n",
    "plt.plot(fpr, tpr, 'b', label = 'AUC = %0.2f' % roc_auc)\n",
    "plt.legend(loc = 'lower right')\n",
    "plt.plot([0, 1], [0, 1],'r--')\n",
    "plt.xlim([0, 1])\n",
    "plt.ylim([0, 1])\n",
    "plt.ylabel('True Positive Rate')\n",
    "plt.xlabel('False Positive Rate')\n",
    "plt.show()\n"
   ]
  },
  {
   "cell_type": "code",
   "execution_count": null,
   "id": "ee9d79fd",
   "metadata": {},
   "outputs": [],
   "source": [
    "# AUC - это площадь под графиком. Если модель идеальная - площадь равна 1, рандом = 0.5\n",
    "# т.о. чем больше AUC - тем лучше модель"
   ]
  },
  {
   "cell_type": "code",
   "execution_count": null,
   "id": "c60d0966",
   "metadata": {},
   "outputs": [],
   "source": []
  },
  {
   "cell_type": "code",
   "execution_count": 183,
   "id": "84954efd",
   "metadata": {},
   "outputs": [],
   "source": [
    "from sklearn.metrics import roc_auc_score"
   ]
  },
  {
   "cell_type": "code",
   "execution_count": 184,
   "id": "9b4fe4a5",
   "metadata": {},
   "outputs": [
    {
     "data": {
      "text/plain": [
       "0.8722204484916349"
      ]
     },
     "execution_count": 184,
     "metadata": {},
     "output_type": "execute_result"
    }
   ],
   "source": [
    "roc_auc_score(test['Exited'], test['SCORE_ALL_FEATURES'])"
   ]
  },
  {
   "cell_type": "code",
   "execution_count": null,
   "id": "017b5eda",
   "metadata": {},
   "outputs": [],
   "source": []
  },
  {
   "cell_type": "markdown",
   "id": "fb2749c7",
   "metadata": {},
   "source": [
    "# ROC AUC при сильно несбалансированных классах"
   ]
  },
  {
   "cell_type": "code",
   "execution_count": null,
   "id": "2606bba2",
   "metadata": {},
   "outputs": [],
   "source": [
    "# В СЛУЧАЯХ КОГДА ВАЖЕН FALSE POSITIVE RATE"
   ]
  },
  {
   "cell_type": "code",
   "execution_count": 190,
   "id": "339e9162",
   "metadata": {},
   "outputs": [],
   "source": [
    "t = pd.DataFrame({'y_true': [0] * 990 + [1] * 10})"
   ]
  },
  {
   "cell_type": "code",
   "execution_count": 191,
   "id": "6ca6c56d",
   "metadata": {},
   "outputs": [
    {
     "data": {
      "text/plain": [
       "0.01"
      ]
     },
     "execution_count": 191,
     "metadata": {},
     "output_type": "execute_result"
    }
   ],
   "source": [
    "t['y_true'].mean()"
   ]
  },
  {
   "cell_type": "code",
   "execution_count": 196,
   "id": "cc98cb4a",
   "metadata": {},
   "outputs": [
    {
     "data": {
      "text/plain": [
       "array([0.08679511, 0.01174707, 0.86765836, 0.99385139, 0.87874364])"
      ]
     },
     "execution_count": 196,
     "metadata": {},
     "output_type": "execute_result"
    }
   ],
   "source": [
    "# создаем несоклько искусственных скоров, которые будут представлять из себя скоры какой-то модели:\n",
    "\n",
    "# этот скор будет склонять модель что скорее y_true - это ноль:\n",
    "np.random.uniform(0, 0.2)\n",
    "\n",
    "# а этот скор будет склонять модель что скорее y_true - это единица:\n",
    "np.random.uniform(0.8, 1)\n",
    "\n",
    "# чтобы создать замешанный совместный скор - воспользуемся конкатенацией:\n",
    "\n",
    "np.concatenate([np.random.uniform(0, 0.2, size = 2), np.random.uniform(0.8, 1, size = 3)])\n"
   ]
  },
  {
   "cell_type": "code",
   "execution_count": null,
   "id": "980d1d52",
   "metadata": {},
   "outputs": [],
   "source": [
    "t = pd.DataFrame({'y_true': [0] * 990 + [1] * 10})"
   ]
  },
  {
   "cell_type": "code",
   "execution_count": 203,
   "id": "193223ea",
   "metadata": {},
   "outputs": [],
   "source": [
    "# создаем первый скор где для 990 реальных нулей будет 970 ближе к нулям и 20 ближе к единице,\n",
    "# а также для 10 реальных единиц будет 5 ближе к нулям и 5 ближе к единице:\n",
    "\n",
    "np.random.seed(42)\n",
    "t['y_score_1'] = np.concatenate([np.random.uniform(0, 0.2, size = 970), \n",
    "                                 np.random.uniform(0.8, 1, size = 20),\n",
    "                                np.random.uniform(0, 0.2, size = 5),\n",
    "                                np.random.uniform(0.8, 1, size = 5)]\n",
    "                               )"
   ]
  },
  {
   "cell_type": "code",
   "execution_count": 204,
   "id": "5dbbd379",
   "metadata": {},
   "outputs": [
    {
     "data": {
      "text/html": [
       "<div>\n",
       "<style scoped>\n",
       "    .dataframe tbody tr th:only-of-type {\n",
       "        vertical-align: middle;\n",
       "    }\n",
       "\n",
       "    .dataframe tbody tr th {\n",
       "        vertical-align: top;\n",
       "    }\n",
       "\n",
       "    .dataframe thead th {\n",
       "        text-align: right;\n",
       "    }\n",
       "</style>\n",
       "<table border=\"1\" class=\"dataframe\">\n",
       "  <thead>\n",
       "    <tr style=\"text-align: right;\">\n",
       "      <th></th>\n",
       "      <th>y_true</th>\n",
       "      <th>y_score_1</th>\n",
       "    </tr>\n",
       "  </thead>\n",
       "  <tbody>\n",
       "    <tr>\n",
       "      <th>0</th>\n",
       "      <td>0</td>\n",
       "      <td>0.074908</td>\n",
       "    </tr>\n",
       "    <tr>\n",
       "      <th>1</th>\n",
       "      <td>0</td>\n",
       "      <td>0.190143</td>\n",
       "    </tr>\n",
       "    <tr>\n",
       "      <th>2</th>\n",
       "      <td>0</td>\n",
       "      <td>0.146399</td>\n",
       "    </tr>\n",
       "    <tr>\n",
       "      <th>3</th>\n",
       "      <td>0</td>\n",
       "      <td>0.119732</td>\n",
       "    </tr>\n",
       "    <tr>\n",
       "      <th>4</th>\n",
       "      <td>0</td>\n",
       "      <td>0.031204</td>\n",
       "    </tr>\n",
       "    <tr>\n",
       "      <th>...</th>\n",
       "      <td>...</td>\n",
       "      <td>...</td>\n",
       "    </tr>\n",
       "    <tr>\n",
       "      <th>995</th>\n",
       "      <td>1</td>\n",
       "      <td>0.818316</td>\n",
       "    </tr>\n",
       "    <tr>\n",
       "      <th>996</th>\n",
       "      <td>1</td>\n",
       "      <td>0.983463</td>\n",
       "    </tr>\n",
       "    <tr>\n",
       "      <th>997</th>\n",
       "      <td>1</td>\n",
       "      <td>0.827364</td>\n",
       "    </tr>\n",
       "    <tr>\n",
       "      <th>998</th>\n",
       "      <td>1</td>\n",
       "      <td>0.990047</td>\n",
       "    </tr>\n",
       "    <tr>\n",
       "      <th>999</th>\n",
       "      <td>1</td>\n",
       "      <td>0.889201</td>\n",
       "    </tr>\n",
       "  </tbody>\n",
       "</table>\n",
       "<p>1000 rows × 2 columns</p>\n",
       "</div>"
      ],
      "text/plain": [
       "     y_true  y_score_1\n",
       "0         0   0.074908\n",
       "1         0   0.190143\n",
       "2         0   0.146399\n",
       "3         0   0.119732\n",
       "4         0   0.031204\n",
       "..      ...        ...\n",
       "995       1   0.818316\n",
       "996       1   0.983463\n",
       "997       1   0.827364\n",
       "998       1   0.990047\n",
       "999       1   0.889201\n",
       "\n",
       "[1000 rows x 2 columns]"
      ]
     },
     "execution_count": 204,
     "metadata": {},
     "output_type": "execute_result"
    }
   ],
   "source": [
    "t"
   ]
  },
  {
   "cell_type": "code",
   "execution_count": 205,
   "id": "ca0c6edd",
   "metadata": {},
   "outputs": [
    {
     "data": {
      "text/plain": [
       "0.7664646464646465"
      ]
     },
     "execution_count": 205,
     "metadata": {},
     "output_type": "execute_result"
    }
   ],
   "source": [
    "# рассчитаем AUC для первого скора:\n",
    "\n",
    "roc_auc_score(t['y_true'], t['y_score_1'])"
   ]
  },
  {
   "cell_type": "code",
   "execution_count": null,
   "id": "367c8668",
   "metadata": {},
   "outputs": [],
   "source": []
  },
  {
   "cell_type": "code",
   "execution_count": 206,
   "id": "0f3da3ce",
   "metadata": {},
   "outputs": [],
   "source": [
    "# теперь создадим второй скор:\n",
    "\n",
    "np.random.seed(42)\n",
    "t['y_score_2'] = np.concatenate([np.random.uniform(0, 0.2, size = 930), \n",
    "                                 np.random.uniform(0.8, 1, size = 60),\n",
    "                                np.random.uniform(0, 0.2, size = 2),\n",
    "                                np.random.uniform(0.8, 1, size = 8)]\n",
    "                               )"
   ]
  },
  {
   "cell_type": "code",
   "execution_count": 207,
   "id": "ec931eda",
   "metadata": {},
   "outputs": [
    {
     "data": {
      "text/plain": [
       "0.9166666666666667"
      ]
     },
     "execution_count": 207,
     "metadata": {},
     "output_type": "execute_result"
    }
   ],
   "source": [
    "# рассчитаем AUC для второго скора:\n",
    "\n",
    "roc_auc_score(t['y_true'], t['y_score_2'])"
   ]
  },
  {
   "cell_type": "code",
   "execution_count": null,
   "id": "328c666e",
   "metadata": {},
   "outputs": [],
   "source": []
  },
  {
   "cell_type": "code",
   "execution_count": null,
   "id": "d7cafe23",
   "metadata": {},
   "outputs": [],
   "source": []
  },
  {
   "cell_type": "markdown",
   "id": "76f40d7a",
   "metadata": {},
   "source": [
    "# Precision Recall curve"
   ]
  },
  {
   "cell_type": "code",
   "execution_count": null,
   "id": "9145289c",
   "metadata": {},
   "outputs": [],
   "source": [
    "# https://machinelearningmastery.com/roc-curves-and-precision-recall-curves-for-classification-in-python/"
   ]
  },
  {
   "cell_type": "code",
   "execution_count": 211,
   "id": "04e17d7a",
   "metadata": {},
   "outputs": [
    {
     "data": {
      "image/png": "[encoded data removed]",
      "text/plain": [
       "<Figure size 640x480 with 1 Axes>"
      ]
     },
     "metadata": {},
     "output_type": "display_data"
    }
   ],
   "source": [
    "# здесь мы смотрим зависимость Precision от Recall\n",
    "\n",
    "# каждая точка здесь это порог. при увеличении Recall - падает Precision \n",
    "\n",
    "# здесь можно выбрать лучшую модель\n",
    "# какая кривая выше - та и лучше\n",
    "\n",
    "# precision-recall curve and f1\n",
    "from sklearn.datasets import make_classification\n",
    "from sklearn.linear_model import LogisticRegression\n",
    "from sklearn.model_selection import train_test_split\n",
    "from sklearn.metrics import precision_recall_curve\n",
    "from sklearn.metrics import f1_score\n",
    "from sklearn.metrics import auc\n",
    "from matplotlib import pyplot\n",
    "\n",
    "\n",
    "precision_1, recall_1, _ = precision_recall_curve(t['y_true'], t['y_score_1'])\n",
    "precision_2, recall_2, _ = precision_recall_curve(t['y_true'], t['y_score_2'])\n",
    "\n",
    "\n",
    "pyplot.plot(recall_1, precision_1, marker='.', label='y_score_1')\n",
    "pyplot.plot(recall_2, precision_2, marker='.', label='y_score_2')\n",
    "\n",
    "\n",
    "# axis labels\n",
    "pyplot.xlabel('Recall')\n",
    "pyplot.ylabel('Precision')\n",
    "# show the legend\n",
    "pyplot.legend()\n",
    "# show the plot\n",
    "pyplot.show()"
   ]
  },
  {
   "cell_type": "code",
   "execution_count": null,
   "id": "2588fe03",
   "metadata": {},
   "outputs": [],
   "source": []
  },
  {
   "cell_type": "code",
   "execution_count": 213,
   "id": "0bbd1970",
   "metadata": {},
   "outputs": [
    {
     "name": "stdout",
     "output_type": "stream",
     "text": [
      "0.2404742335681647\n",
      "0.1797651767227378\n"
     ]
    }
   ],
   "source": [
    "# метрика average Precision отражает площадь под кривой:\n",
    "\n",
    "from sklearn.metrics import average_precision_score\n",
    "\n",
    "print(average_precision_score(t['y_true'], t['y_score_1']))\n",
    "print(average_precision_score(t['y_true'], t['y_score_2']))"
   ]
  },
  {
   "cell_type": "code",
   "execution_count": null,
   "id": "c8317640",
   "metadata": {},
   "outputs": [],
   "source": []
  },
  {
   "cell_type": "code",
   "execution_count": null,
   "id": "7204b57e",
   "metadata": {},
   "outputs": [],
   "source": []
  },
  {
   "cell_type": "markdown",
   "id": "445357d7",
   "metadata": {},
   "source": [
    "# Сравним человеческое и машинное обучение"
   ]
  },
  {
   "cell_type": "code",
   "execution_count": 214,
   "id": "bc6234c8",
   "metadata": {},
   "outputs": [
    {
     "data": {
      "text/html": [
       "<div>\n",
       "<style scoped>\n",
       "    .dataframe tbody tr th:only-of-type {\n",
       "        vertical-align: middle;\n",
       "    }\n",
       "\n",
       "    .dataframe tbody tr th {\n",
       "        vertical-align: top;\n",
       "    }\n",
       "\n",
       "    .dataframe thead th {\n",
       "        text-align: right;\n",
       "    }\n",
       "</style>\n",
       "<table border=\"1\" class=\"dataframe\">\n",
       "  <thead>\n",
       "    <tr style=\"text-align: right;\">\n",
       "      <th></th>\n",
       "      <th>RowNumber</th>\n",
       "      <th>CustomerId</th>\n",
       "      <th>Surname</th>\n",
       "      <th>CreditScore</th>\n",
       "      <th>Geography</th>\n",
       "      <th>Gender</th>\n",
       "      <th>Age</th>\n",
       "      <th>Tenure</th>\n",
       "      <th>Balance</th>\n",
       "      <th>NumOfProducts</th>\n",
       "      <th>...</th>\n",
       "      <th>IsActiveMember</th>\n",
       "      <th>EstimatedSalary</th>\n",
       "      <th>Exited</th>\n",
       "      <th>age_group</th>\n",
       "      <th>score_prod_age</th>\n",
       "      <th>machine_prod_age</th>\n",
       "      <th>Baseline</th>\n",
       "      <th>SCORE_ALL_FEATURES</th>\n",
       "      <th>y_pred</th>\n",
       "      <th>y_pred_new</th>\n",
       "    </tr>\n",
       "  </thead>\n",
       "  <tbody>\n",
       "    <tr>\n",
       "      <th>0</th>\n",
       "      <td>9168</td>\n",
       "      <td>15645353</td>\n",
       "      <td>Chubb</td>\n",
       "      <td>607</td>\n",
       "      <td>France</td>\n",
       "      <td>Male</td>\n",
       "      <td>26</td>\n",
       "      <td>1</td>\n",
       "      <td>0.00</td>\n",
       "      <td>1</td>\n",
       "      <td>...</td>\n",
       "      <td>0</td>\n",
       "      <td>29818.20</td>\n",
       "      <td>0</td>\n",
       "      <td>(0, 31]</td>\n",
       "      <td>0.106774</td>\n",
       "      <td>0.097950</td>\n",
       "      <td>0.2035</td>\n",
       "      <td>0.117387</td>\n",
       "      <td>False</td>\n",
       "      <td>1</td>\n",
       "    </tr>\n",
       "    <tr>\n",
       "      <th>1</th>\n",
       "      <td>9388</td>\n",
       "      <td>15594576</td>\n",
       "      <td>Zhdanov</td>\n",
       "      <td>524</td>\n",
       "      <td>France</td>\n",
       "      <td>Male</td>\n",
       "      <td>32</td>\n",
       "      <td>1</td>\n",
       "      <td>144875.71</td>\n",
       "      <td>1</td>\n",
       "      <td>...</td>\n",
       "      <td>0</td>\n",
       "      <td>187740.04</td>\n",
       "      <td>0</td>\n",
       "      <td>(31, 35]</td>\n",
       "      <td>0.135908</td>\n",
       "      <td>0.123485</td>\n",
       "      <td>0.2035</td>\n",
       "      <td>0.069690</td>\n",
       "      <td>False</td>\n",
       "      <td>1</td>\n",
       "    </tr>\n",
       "    <tr>\n",
       "      <th>2</th>\n",
       "      <td>6860</td>\n",
       "      <td>15811927</td>\n",
       "      <td>Marcelo</td>\n",
       "      <td>733</td>\n",
       "      <td>France</td>\n",
       "      <td>Female</td>\n",
       "      <td>38</td>\n",
       "      <td>3</td>\n",
       "      <td>157658.36</td>\n",
       "      <td>1</td>\n",
       "      <td>...</td>\n",
       "      <td>0</td>\n",
       "      <td>19658.43</td>\n",
       "      <td>0</td>\n",
       "      <td>(35, 40]</td>\n",
       "      <td>0.198646</td>\n",
       "      <td>0.196776</td>\n",
       "      <td>0.2035</td>\n",
       "      <td>0.169110</td>\n",
       "      <td>False</td>\n",
       "      <td>1</td>\n",
       "    </tr>\n",
       "    <tr>\n",
       "      <th>3</th>\n",
       "      <td>3501</td>\n",
       "      <td>15675675</td>\n",
       "      <td>Slate</td>\n",
       "      <td>850</td>\n",
       "      <td>France</td>\n",
       "      <td>Female</td>\n",
       "      <td>32</td>\n",
       "      <td>5</td>\n",
       "      <td>106290.64</td>\n",
       "      <td>1</td>\n",
       "      <td>...</td>\n",
       "      <td>0</td>\n",
       "      <td>121982.73</td>\n",
       "      <td>0</td>\n",
       "      <td>(31, 35]</td>\n",
       "      <td>0.135908</td>\n",
       "      <td>0.123485</td>\n",
       "      <td>0.2035</td>\n",
       "      <td>0.089905</td>\n",
       "      <td>False</td>\n",
       "      <td>1</td>\n",
       "    </tr>\n",
       "    <tr>\n",
       "      <th>4</th>\n",
       "      <td>6234</td>\n",
       "      <td>15682914</td>\n",
       "      <td>Bolton</td>\n",
       "      <td>850</td>\n",
       "      <td>France</td>\n",
       "      <td>Male</td>\n",
       "      <td>34</td>\n",
       "      <td>2</td>\n",
       "      <td>72079.71</td>\n",
       "      <td>1</td>\n",
       "      <td>...</td>\n",
       "      <td>1</td>\n",
       "      <td>115767.93</td>\n",
       "      <td>0</td>\n",
       "      <td>(31, 35]</td>\n",
       "      <td>0.135908</td>\n",
       "      <td>0.137989</td>\n",
       "      <td>0.2035</td>\n",
       "      <td>0.062131</td>\n",
       "      <td>False</td>\n",
       "      <td>1</td>\n",
       "    </tr>\n",
       "    <tr>\n",
       "      <th>...</th>\n",
       "      <td>...</td>\n",
       "      <td>...</td>\n",
       "      <td>...</td>\n",
       "      <td>...</td>\n",
       "      <td>...</td>\n",
       "      <td>...</td>\n",
       "      <td>...</td>\n",
       "      <td>...</td>\n",
       "      <td>...</td>\n",
       "      <td>...</td>\n",
       "      <td>...</td>\n",
       "      <td>...</td>\n",
       "      <td>...</td>\n",
       "      <td>...</td>\n",
       "      <td>...</td>\n",
       "      <td>...</td>\n",
       "      <td>...</td>\n",
       "      <td>...</td>\n",
       "      <td>...</td>\n",
       "      <td>...</td>\n",
       "      <td>...</td>\n",
       "    </tr>\n",
       "    <tr>\n",
       "      <th>1995</th>\n",
       "      <td>7393</td>\n",
       "      <td>15795079</td>\n",
       "      <td>Nnaife</td>\n",
       "      <td>596</td>\n",
       "      <td>Spain</td>\n",
       "      <td>Male</td>\n",
       "      <td>67</td>\n",
       "      <td>6</td>\n",
       "      <td>0.00</td>\n",
       "      <td>2</td>\n",
       "      <td>...</td>\n",
       "      <td>1</td>\n",
       "      <td>138350.74</td>\n",
       "      <td>0</td>\n",
       "      <td>(46, 99]</td>\n",
       "      <td>0.225869</td>\n",
       "      <td>0.103882</td>\n",
       "      <td>0.2035</td>\n",
       "      <td>0.026964</td>\n",
       "      <td>False</td>\n",
       "      <td>0</td>\n",
       "    </tr>\n",
       "    <tr>\n",
       "      <th>1996</th>\n",
       "      <td>3234</td>\n",
       "      <td>15601550</td>\n",
       "      <td>Genovesi</td>\n",
       "      <td>595</td>\n",
       "      <td>Spain</td>\n",
       "      <td>Male</td>\n",
       "      <td>36</td>\n",
       "      <td>6</td>\n",
       "      <td>85768.42</td>\n",
       "      <td>1</td>\n",
       "      <td>...</td>\n",
       "      <td>1</td>\n",
       "      <td>24802.77</td>\n",
       "      <td>0</td>\n",
       "      <td>(35, 40]</td>\n",
       "      <td>0.198646</td>\n",
       "      <td>0.164582</td>\n",
       "      <td>0.2035</td>\n",
       "      <td>0.102691</td>\n",
       "      <td>False</td>\n",
       "      <td>1</td>\n",
       "    </tr>\n",
       "    <tr>\n",
       "      <th>1997</th>\n",
       "      <td>219</td>\n",
       "      <td>15659366</td>\n",
       "      <td>Shih</td>\n",
       "      <td>807</td>\n",
       "      <td>France</td>\n",
       "      <td>Male</td>\n",
       "      <td>43</td>\n",
       "      <td>1</td>\n",
       "      <td>105799.32</td>\n",
       "      <td>2</td>\n",
       "      <td>...</td>\n",
       "      <td>0</td>\n",
       "      <td>34888.04</td>\n",
       "      <td>1</td>\n",
       "      <td>(40, 46]</td>\n",
       "      <td>0.106239</td>\n",
       "      <td>0.124178</td>\n",
       "      <td>0.2035</td>\n",
       "      <td>0.176148</td>\n",
       "      <td>False</td>\n",
       "      <td>1</td>\n",
       "    </tr>\n",
       "    <tr>\n",
       "      <th>1998</th>\n",
       "      <td>4756</td>\n",
       "      <td>15740072</td>\n",
       "      <td>Padovesi</td>\n",
       "      <td>720</td>\n",
       "      <td>France</td>\n",
       "      <td>Female</td>\n",
       "      <td>37</td>\n",
       "      <td>2</td>\n",
       "      <td>120328.88</td>\n",
       "      <td>2</td>\n",
       "      <td>...</td>\n",
       "      <td>1</td>\n",
       "      <td>138470.21</td>\n",
       "      <td>0</td>\n",
       "      <td>(35, 40]</td>\n",
       "      <td>0.059977</td>\n",
       "      <td>0.051863</td>\n",
       "      <td>0.2035</td>\n",
       "      <td>0.066283</td>\n",
       "      <td>False</td>\n",
       "      <td>1</td>\n",
       "    </tr>\n",
       "    <tr>\n",
       "      <th>1999</th>\n",
       "      <td>7635</td>\n",
       "      <td>15707681</td>\n",
       "      <td>Pokrovsky</td>\n",
       "      <td>501</td>\n",
       "      <td>Germany</td>\n",
       "      <td>Male</td>\n",
       "      <td>38</td>\n",
       "      <td>9</td>\n",
       "      <td>88977.39</td>\n",
       "      <td>2</td>\n",
       "      <td>...</td>\n",
       "      <td>1</td>\n",
       "      <td>133403.07</td>\n",
       "      <td>0</td>\n",
       "      <td>(35, 40]</td>\n",
       "      <td>0.059977</td>\n",
       "      <td>0.056607</td>\n",
       "      <td>0.2035</td>\n",
       "      <td>0.058493</td>\n",
       "      <td>False</td>\n",
       "      <td>0</td>\n",
       "    </tr>\n",
       "  </tbody>\n",
       "</table>\n",
       "<p>2000 rows × 21 columns</p>\n",
       "</div>"
      ],
      "text/plain": [
       "      RowNumber  CustomerId    Surname  CreditScore Geography  Gender  Age  \\\n",
       "0          9168    15645353      Chubb          607    France    Male   26   \n",
       "1          9388    15594576    Zhdanov          524    France    Male   32   \n",
       "2          6860    15811927    Marcelo          733    France  Female   38   \n",
       "3          3501    15675675      Slate          850    France  Female   32   \n",
       "4          6234    15682914     Bolton          850    France    Male   34   \n",
       "...         ...         ...        ...          ...       ...     ...  ...   \n",
       "1995       7393    15795079     Nnaife          596     Spain    Male   67   \n",
       "1996       3234    15601550   Genovesi          595     Spain    Male   36   \n",
       "1997        219    15659366       Shih          807    France    Male   43   \n",
       "1998       4756    15740072   Padovesi          720    France  Female   37   \n",
       "1999       7635    15707681  Pokrovsky          501   Germany    Male   38   \n",
       "\n",
       "      Tenure    Balance  NumOfProducts  ...  IsActiveMember  EstimatedSalary  \\\n",
       "0          1       0.00              1  ...               0         29818.20   \n",
       "1          1  144875.71              1  ...               0        187740.04   \n",
       "2          3  157658.36              1  ...               0         19658.43   \n",
       "3          5  106290.64              1  ...               0        121982.73   \n",
       "4          2   72079.71              1  ...               1        115767.93   \n",
       "...      ...        ...            ...  ...             ...              ...   \n",
       "1995       6       0.00              2  ...               1        138350.74   \n",
       "1996       6   85768.42              1  ...               1         24802.77   \n",
       "1997       1  105799.32              2  ...               0         34888.04   \n",
       "1998       2  120328.88              2  ...               1        138470.21   \n",
       "1999       9   88977.39              2  ...               1        133403.07   \n",
       "\n",
       "      Exited  age_group score_prod_age  machine_prod_age  Baseline  \\\n",
       "0          0    (0, 31]       0.106774          0.097950    0.2035   \n",
       "1          0   (31, 35]       0.135908          0.123485    0.2035   \n",
       "2          0   (35, 40]       0.198646          0.196776    0.2035   \n",
       "3          0   (31, 35]       0.135908          0.123485    0.2035   \n",
       "4          0   (31, 35]       0.135908          0.137989    0.2035   \n",
       "...      ...        ...            ...               ...       ...   \n",
       "1995       0   (46, 99]       0.225869          0.103882    0.2035   \n",
       "1996       0   (35, 40]       0.198646          0.164582    0.2035   \n",
       "1997       1   (40, 46]       0.106239          0.124178    0.2035   \n",
       "1998       0   (35, 40]       0.059977          0.051863    0.2035   \n",
       "1999       0   (35, 40]       0.059977          0.056607    0.2035   \n",
       "\n",
       "      SCORE_ALL_FEATURES  y_pred  y_pred_new  \n",
       "0               0.117387   False           1  \n",
       "1               0.069690   False           1  \n",
       "2               0.169110   False           1  \n",
       "3               0.089905   False           1  \n",
       "4               0.062131   False           1  \n",
       "...                  ...     ...         ...  \n",
       "1995            0.026964   False           0  \n",
       "1996            0.102691   False           1  \n",
       "1997            0.176148   False           1  \n",
       "1998            0.066283   False           1  \n",
       "1999            0.058493   False           0  \n",
       "\n",
       "[2000 rows x 21 columns]"
      ]
     },
     "execution_count": 214,
     "metadata": {},
     "output_type": "execute_result"
    }
   ],
   "source": [
    "test"
   ]
  },
  {
   "cell_type": "code",
   "execution_count": 220,
   "id": "ca54bb32",
   "metadata": {},
   "outputs": [
    {
     "data": {
      "image/png": "[encoded data removed]",
      "text/plain": [
       "<Figure size 640x480 with 1 Axes>"
      ]
     },
     "metadata": {},
     "output_type": "display_data"
    }
   ],
   "source": [
    "fpr1, tpr_1, _ = roc_curve(test['Exited'], test['score_prod_age'])\n",
    "fpr2, tpr_2, _ = roc_curve(test['Exited'], test['SCORE_ALL_FEATURES'])\n",
    "\n",
    "\n",
    "pyplot.plot(fpr1, tpr_1, label='human')\n",
    "pyplot.plot(fpr2, tpr_2, label='machine')\n",
    "\n",
    "\n",
    "# axis labels\n",
    "pyplot.xlabel('FPR')\n",
    "pyplot.ylabel('TPR')\n",
    "# show the legend\n",
    "pyplot.legend()\n",
    "# show the plot\n",
    "pyplot.show()"
   ]
  },
  {
   "cell_type": "code",
   "execution_count": 223,
   "id": "1bf39e2f",
   "metadata": {},
   "outputs": [
    {
     "name": "stdout",
     "output_type": "stream",
     "text": [
      "human 0.8119961255554475\n",
      "machine 0.8722204484916349\n"
     ]
    }
   ],
   "source": [
    "print('human', roc_auc_score(test['Exited'], test['score_prod_age']))\n",
    "print('machine', roc_auc_score(test['Exited'], test['SCORE_ALL_FEATURES']))"
   ]
  },
  {
   "cell_type": "code",
   "execution_count": null,
   "id": "7f980dcb",
   "metadata": {},
   "outputs": [],
   "source": []
  },
  {
   "cell_type": "code",
   "execution_count": 225,
   "id": "82e4ebef",
   "metadata": {},
   "outputs": [
    {
     "data": {
      "image/png": "[encoded data removed]",
      "text/plain": [
       "<Figure size 640x480 with 1 Axes>"
      ]
     },
     "metadata": {},
     "output_type": "display_data"
    }
   ],
   "source": [
    "precision_1, recall_1, _ = precision_recall_curve(test['Exited'], test['score_prod_age'])\n",
    "precision_2, recall_2, _ = precision_recall_curve(test['Exited'], test['SCORE_ALL_FEATURES'])\n",
    "\n",
    "\n",
    "pyplot.plot(recall_1, precision_1, label='human')\n",
    "pyplot.plot(recall_2, precision_2, label='machine')\n",
    "\n",
    "\n",
    "# axis labels\n",
    "pyplot.xlabel('Recall')\n",
    "pyplot.ylabel('Precision')\n",
    "# show the legend\n",
    "pyplot.legend()\n",
    "# show the plot\n",
    "pyplot.show()"
   ]
  },
  {
   "cell_type": "code",
   "execution_count": 226,
   "id": "96bec36d",
   "metadata": {},
   "outputs": [
    {
     "name": "stdout",
     "output_type": "stream",
     "text": [
      "human 0.5397719144338842\n",
      "machine 0.7145308087956946\n"
     ]
    }
   ],
   "source": [
    "print('human', average_precision_score(test['Exited'], test['score_prod_age']))\n",
    "print('machine', average_precision_score(test['Exited'], test['SCORE_ALL_FEATURES']))"
   ]
  },
  {
   "cell_type": "code",
   "execution_count": null,
   "id": "628d2fba",
   "metadata": {},
   "outputs": [],
   "source": []
  },
  {
   "cell_type": "code",
   "execution_count": null,
   "id": "40770e9a",
   "metadata": {},
   "outputs": [],
   "source": []
  },
  {
   "cell_type": "code",
   "execution_count": null,
   "id": "bed62d7a",
   "metadata": {},
   "outputs": [],
   "source": []
  }
 ],
 "metadata": {
  "kernelspec": {
   "display_name": "Python 3 (ipykernel)",
   "language": "python",
   "name": "python3"
  },
  "language_info": {
   "codemirror_mode": {
    "name": "ipython",
    "version": 3
   },
   "file_extension": ".py",
   "mimetype": "text/x-python",
   "name": "python",
   "nbconvert_exporter": "python",
   "pygments_lexer": "ipython3",
   "version": "3.10.0"
  }
 },
 "nbformat": 4,
 "nbformat_minor": 5
}
