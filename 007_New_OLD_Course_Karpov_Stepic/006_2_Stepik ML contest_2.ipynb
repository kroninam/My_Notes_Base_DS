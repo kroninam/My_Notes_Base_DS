{
 "cells": [
  {
   "cell_type": "code",
   "execution_count": 1,
   "id": "2f76b7ec",
   "metadata": {},
   "outputs": [],
   "source": [
    "import numpy as np\n",
    "import pandas as pd\n",
    "\n",
    "import matplotlib.pyplot as plt\n",
    "import seaborn as sns"
   ]
  },
  {
   "cell_type": "code",
   "execution_count": 2,
   "id": "f3110e74",
   "metadata": {},
   "outputs": [],
   "source": [
    "event_data = pd.read_csv('event_data_train.zip')"
   ]
  },
  {
   "cell_type": "code",
   "execution_count": null,
   "id": "bb51dac7",
   "metadata": {},
   "outputs": [],
   "source": [
    "# В процессе решения одной аналитической задачи очень часто замечаешь и \n",
    "# другие задачи, связанные с исследуемым вопросом. В свое время, \n",
    "# работая над предсказанием оттока студентов со stepik, я многое изменил \n",
    "# в структуре своих курсов. \n",
    "\n",
    "# Тогда я нашел довольно интересную закономерность прохождения онлайн \n",
    "# курсов. Слушатели онлайн курсов очень негативно реагируют на невозможность\n",
    "# решить задачу, иными словами, если студент застрял на определенном шаге, \n",
    "# то он, с высокой вероятность, вообще бросит курс, чем просто пропустит этот \n",
    "# шаг и продолжит обучение. \n",
    "\n",
    "# Давайте найдем такой стэп, используя данные о сабмитах. Для каждого пользователя\n",
    "# найдите такой шаг, который он не смог решить, и после этого не пытался решать \n",
    "# другие шаги. Затем найдите id шага,  который стал финальной точкой практического\n",
    "# обучения на курсе для максимального числа пользователей. \n",
    "\n",
    "# То есть мы исследуем следующий сценарий: человек решает стэп, не может получить\n",
    "#     правильный ответ и больше не возвращается к практическим задачам. Что это за\n",
    "#     шаг такой, который отпугнул максимальное число пользователей?"
   ]
  },
  {
   "cell_type": "code",
   "execution_count": 11,
   "id": "329937bf",
   "metadata": {},
   "outputs": [
    {
     "data": {
      "text/plain": [
       "array(['viewed', 'passed', 'discovered', 'started_attempt'], dtype=object)"
      ]
     },
     "execution_count": 11,
     "metadata": {},
     "output_type": "execute_result"
    }
   ],
   "source": [
    "event_data.action.unique()"
   ]
  },
  {
   "cell_type": "code",
   "execution_count": 12,
   "id": "65ccd48b",
   "metadata": {},
   "outputs": [],
   "source": [
    "submissions_data = pd.read_csv('submissions_data_train.zip')"
   ]
  },
  {
   "cell_type": "code",
   "execution_count": 14,
   "id": "4d70a028",
   "metadata": {},
   "outputs": [
    {
     "data": {
      "text/html": [
       "<div>\n",
       "<style scoped>\n",
       "    .dataframe tbody tr th:only-of-type {\n",
       "        vertical-align: middle;\n",
       "    }\n",
       "\n",
       "    .dataframe tbody tr th {\n",
       "        vertical-align: top;\n",
       "    }\n",
       "\n",
       "    .dataframe thead th {\n",
       "        text-align: right;\n",
       "    }\n",
       "</style>\n",
       "<table border=\"1\" class=\"dataframe\">\n",
       "  <thead>\n",
       "    <tr style=\"text-align: right;\">\n",
       "      <th></th>\n",
       "      <th>step_id</th>\n",
       "      <th>timestamp</th>\n",
       "      <th>submission_status</th>\n",
       "      <th>user_id</th>\n",
       "    </tr>\n",
       "  </thead>\n",
       "  <tbody>\n",
       "    <tr>\n",
       "      <th>0</th>\n",
       "      <td>31971</td>\n",
       "      <td>1434349275</td>\n",
       "      <td>correct</td>\n",
       "      <td>15853</td>\n",
       "    </tr>\n",
       "    <tr>\n",
       "      <th>1</th>\n",
       "      <td>31972</td>\n",
       "      <td>1434348300</td>\n",
       "      <td>correct</td>\n",
       "      <td>15853</td>\n",
       "    </tr>\n",
       "    <tr>\n",
       "      <th>2</th>\n",
       "      <td>31972</td>\n",
       "      <td>1478852149</td>\n",
       "      <td>wrong</td>\n",
       "      <td>15853</td>\n",
       "    </tr>\n",
       "    <tr>\n",
       "      <th>3</th>\n",
       "      <td>31972</td>\n",
       "      <td>1478852164</td>\n",
       "      <td>correct</td>\n",
       "      <td>15853</td>\n",
       "    </tr>\n",
       "    <tr>\n",
       "      <th>4</th>\n",
       "      <td>31976</td>\n",
       "      <td>1434348123</td>\n",
       "      <td>wrong</td>\n",
       "      <td>15853</td>\n",
       "    </tr>\n",
       "    <tr>\n",
       "      <th>...</th>\n",
       "      <td>...</td>\n",
       "      <td>...</td>\n",
       "      <td>...</td>\n",
       "      <td>...</td>\n",
       "    </tr>\n",
       "    <tr>\n",
       "      <th>509099</th>\n",
       "      <td>120745</td>\n",
       "      <td>1501946959</td>\n",
       "      <td>wrong</td>\n",
       "      <td>2615</td>\n",
       "    </tr>\n",
       "    <tr>\n",
       "      <th>509100</th>\n",
       "      <td>120745</td>\n",
       "      <td>1503059927</td>\n",
       "      <td>correct</td>\n",
       "      <td>13177</td>\n",
       "    </tr>\n",
       "    <tr>\n",
       "      <th>509101</th>\n",
       "      <td>120745</td>\n",
       "      <td>1506348153</td>\n",
       "      <td>wrong</td>\n",
       "      <td>15253</td>\n",
       "    </tr>\n",
       "    <tr>\n",
       "      <th>509102</th>\n",
       "      <td>120745</td>\n",
       "      <td>1523035316</td>\n",
       "      <td>wrong</td>\n",
       "      <td>1424</td>\n",
       "    </tr>\n",
       "    <tr>\n",
       "      <th>509103</th>\n",
       "      <td>120745</td>\n",
       "      <td>1523382825</td>\n",
       "      <td>wrong</td>\n",
       "      <td>9422</td>\n",
       "    </tr>\n",
       "  </tbody>\n",
       "</table>\n",
       "<p>509104 rows × 4 columns</p>\n",
       "</div>"
      ],
      "text/plain": [
       "        step_id   timestamp submission_status  user_id\n",
       "0         31971  1434349275           correct    15853\n",
       "1         31972  1434348300           correct    15853\n",
       "2         31972  1478852149             wrong    15853\n",
       "3         31972  1478852164           correct    15853\n",
       "4         31976  1434348123             wrong    15853\n",
       "...         ...         ...               ...      ...\n",
       "509099   120745  1501946959             wrong     2615\n",
       "509100   120745  1503059927           correct    13177\n",
       "509101   120745  1506348153             wrong    15253\n",
       "509102   120745  1523035316             wrong     1424\n",
       "509103   120745  1523382825             wrong     9422\n",
       "\n",
       "[509104 rows x 4 columns]"
      ]
     },
     "execution_count": 14,
     "metadata": {},
     "output_type": "execute_result"
    }
   ],
   "source": [
    "submissions_data"
   ]
  },
  {
   "cell_type": "code",
   "execution_count": 15,
   "id": "fff36b3e",
   "metadata": {},
   "outputs": [
    {
     "data": {
      "text/plain": [
       "array(['correct', 'wrong'], dtype=object)"
      ]
     },
     "execution_count": 15,
     "metadata": {},
     "output_type": "execute_result"
    }
   ],
   "source": [
    "submissions_data.submission_status.unique()"
   ]
  },
  {
   "cell_type": "code",
   "execution_count": null,
   "id": "fb310209",
   "metadata": {},
   "outputs": [],
   "source": []
  },
  {
   "cell_type": "code",
   "execution_count": 17,
   "id": "f9c41ee3",
   "metadata": {
    "scrolled": false
   },
   "outputs": [],
   "source": [
    "wrong_answers = submissions_data[submissions_data.submission_status == 'wrong']"
   ]
  },
  {
   "cell_type": "code",
   "execution_count": 18,
   "id": "0a1e3652",
   "metadata": {},
   "outputs": [
    {
     "data": {
      "text/html": [
       "<div>\n",
       "<style scoped>\n",
       "    .dataframe tbody tr th:only-of-type {\n",
       "        vertical-align: middle;\n",
       "    }\n",
       "\n",
       "    .dataframe tbody tr th {\n",
       "        vertical-align: top;\n",
       "    }\n",
       "\n",
       "    .dataframe thead th {\n",
       "        text-align: right;\n",
       "    }\n",
       "</style>\n",
       "<table border=\"1\" class=\"dataframe\">\n",
       "  <thead>\n",
       "    <tr style=\"text-align: right;\">\n",
       "      <th></th>\n",
       "      <th>step_id</th>\n",
       "      <th>timestamp</th>\n",
       "      <th>submission_status</th>\n",
       "      <th>user_id</th>\n",
       "    </tr>\n",
       "  </thead>\n",
       "  <tbody>\n",
       "    <tr>\n",
       "      <th>2</th>\n",
       "      <td>31972</td>\n",
       "      <td>1478852149</td>\n",
       "      <td>wrong</td>\n",
       "      <td>15853</td>\n",
       "    </tr>\n",
       "    <tr>\n",
       "      <th>4</th>\n",
       "      <td>31976</td>\n",
       "      <td>1434348123</td>\n",
       "      <td>wrong</td>\n",
       "      <td>15853</td>\n",
       "    </tr>\n",
       "    <tr>\n",
       "      <th>15</th>\n",
       "      <td>32031</td>\n",
       "      <td>1434363465</td>\n",
       "      <td>wrong</td>\n",
       "      <td>15853</td>\n",
       "    </tr>\n",
       "    <tr>\n",
       "      <th>33</th>\n",
       "      <td>32795</td>\n",
       "      <td>1434520465</td>\n",
       "      <td>wrong</td>\n",
       "      <td>15853</td>\n",
       "    </tr>\n",
       "    <tr>\n",
       "      <th>38</th>\n",
       "      <td>32812</td>\n",
       "      <td>1434346160</td>\n",
       "      <td>wrong</td>\n",
       "      <td>15853</td>\n",
       "    </tr>\n",
       "    <tr>\n",
       "      <th>...</th>\n",
       "      <td>...</td>\n",
       "      <td>...</td>\n",
       "      <td>...</td>\n",
       "      <td>...</td>\n",
       "    </tr>\n",
       "    <tr>\n",
       "      <th>509096</th>\n",
       "      <td>120745</td>\n",
       "      <td>1500154509</td>\n",
       "      <td>wrong</td>\n",
       "      <td>3310</td>\n",
       "    </tr>\n",
       "    <tr>\n",
       "      <th>509099</th>\n",
       "      <td>120745</td>\n",
       "      <td>1501946959</td>\n",
       "      <td>wrong</td>\n",
       "      <td>2615</td>\n",
       "    </tr>\n",
       "    <tr>\n",
       "      <th>509101</th>\n",
       "      <td>120745</td>\n",
       "      <td>1506348153</td>\n",
       "      <td>wrong</td>\n",
       "      <td>15253</td>\n",
       "    </tr>\n",
       "    <tr>\n",
       "      <th>509102</th>\n",
       "      <td>120745</td>\n",
       "      <td>1523035316</td>\n",
       "      <td>wrong</td>\n",
       "      <td>1424</td>\n",
       "    </tr>\n",
       "    <tr>\n",
       "      <th>509103</th>\n",
       "      <td>120745</td>\n",
       "      <td>1523382825</td>\n",
       "      <td>wrong</td>\n",
       "      <td>9422</td>\n",
       "    </tr>\n",
       "  </tbody>\n",
       "</table>\n",
       "<p>286399 rows × 4 columns</p>\n",
       "</div>"
      ],
      "text/plain": [
       "        step_id   timestamp submission_status  user_id\n",
       "2         31972  1478852149             wrong    15853\n",
       "4         31976  1434348123             wrong    15853\n",
       "15        32031  1434363465             wrong    15853\n",
       "33        32795  1434520465             wrong    15853\n",
       "38        32812  1434346160             wrong    15853\n",
       "...         ...         ...               ...      ...\n",
       "509096   120745  1500154509             wrong     3310\n",
       "509099   120745  1501946959             wrong     2615\n",
       "509101   120745  1506348153             wrong    15253\n",
       "509102   120745  1523035316             wrong     1424\n",
       "509103   120745  1523382825             wrong     9422\n",
       "\n",
       "[286399 rows x 4 columns]"
      ]
     },
     "execution_count": 18,
     "metadata": {},
     "output_type": "execute_result"
    }
   ],
   "source": [
    "wrong_answers"
   ]
  },
  {
   "cell_type": "code",
   "execution_count": null,
   "id": "19c40ea8",
   "metadata": {},
   "outputs": [],
   "source": []
  },
  {
   "cell_type": "code",
   "execution_count": 35,
   "id": "393b2ca2",
   "metadata": {},
   "outputs": [
    {
     "data": {
      "text/html": [
       "<div>\n",
       "<style scoped>\n",
       "    .dataframe tbody tr th:only-of-type {\n",
       "        vertical-align: middle;\n",
       "    }\n",
       "\n",
       "    .dataframe tbody tr th {\n",
       "        vertical-align: top;\n",
       "    }\n",
       "\n",
       "    .dataframe thead th {\n",
       "        text-align: right;\n",
       "    }\n",
       "</style>\n",
       "<table border=\"1\" class=\"dataframe\">\n",
       "  <thead>\n",
       "    <tr style=\"text-align: right;\">\n",
       "      <th></th>\n",
       "      <th>count</th>\n",
       "    </tr>\n",
       "    <tr>\n",
       "      <th>step_id</th>\n",
       "      <th></th>\n",
       "    </tr>\n",
       "  </thead>\n",
       "  <tbody>\n",
       "    <tr>\n",
       "      <th>32929</th>\n",
       "      <td>85</td>\n",
       "    </tr>\n",
       "    <tr>\n",
       "      <th>32175</th>\n",
       "      <td>342</td>\n",
       "    </tr>\n",
       "    <tr>\n",
       "      <th>33362</th>\n",
       "      <td>673</td>\n",
       "    </tr>\n",
       "    <tr>\n",
       "      <th>33681</th>\n",
       "      <td>703</td>\n",
       "    </tr>\n",
       "    <tr>\n",
       "      <th>33482</th>\n",
       "      <td>707</td>\n",
       "    </tr>\n",
       "    <tr>\n",
       "      <th>...</th>\n",
       "      <td>...</td>\n",
       "    </tr>\n",
       "    <tr>\n",
       "      <th>32075</th>\n",
       "      <td>10003</td>\n",
       "    </tr>\n",
       "    <tr>\n",
       "      <th>33481</th>\n",
       "      <td>10300</td>\n",
       "    </tr>\n",
       "    <tr>\n",
       "      <th>32202</th>\n",
       "      <td>13002</td>\n",
       "    </tr>\n",
       "    <tr>\n",
       "      <th>32031</th>\n",
       "      <td>13373</td>\n",
       "    </tr>\n",
       "    <tr>\n",
       "      <th>31978</th>\n",
       "      <td>16084</td>\n",
       "    </tr>\n",
       "  </tbody>\n",
       "</table>\n",
       "<p>76 rows × 1 columns</p>\n",
       "</div>"
      ],
      "text/plain": [
       "         count\n",
       "step_id       \n",
       "32929       85\n",
       "32175      342\n",
       "33362      673\n",
       "33681      703\n",
       "33482      707\n",
       "...        ...\n",
       "32075    10003\n",
       "33481    10300\n",
       "32202    13002\n",
       "32031    13373\n",
       "31978    16084\n",
       "\n",
       "[76 rows x 1 columns]"
      ]
     },
     "execution_count": 35,
     "metadata": {},
     "output_type": "execute_result"
    }
   ],
   "source": [
    "wrong_answers.groupby('step_id')['step_id'].agg(['count']).sort_values(by = 'count')"
   ]
  },
  {
   "cell_type": "code",
   "execution_count": null,
   "id": "6c657147",
   "metadata": {},
   "outputs": [],
   "source": []
  },
  {
   "cell_type": "code",
   "execution_count": null,
   "id": "b3b127dd",
   "metadata": {},
   "outputs": [],
   "source": []
  },
  {
   "cell_type": "code",
   "execution_count": null,
   "id": "f3f27437",
   "metadata": {},
   "outputs": [],
   "source": []
  },
  {
   "cell_type": "code",
   "execution_count": null,
   "id": "41160119",
   "metadata": {},
   "outputs": [],
   "source": []
  },
  {
   "cell_type": "code",
   "execution_count": null,
   "id": "e63d5d7a",
   "metadata": {},
   "outputs": [],
   "source": []
  },
  {
   "cell_type": "code",
   "execution_count": null,
   "id": "f61df013",
   "metadata": {},
   "outputs": [],
   "source": []
  },
  {
   "cell_type": "code",
   "execution_count": null,
   "id": "a1ffb3ac",
   "metadata": {},
   "outputs": [],
   "source": []
  },
  {
   "cell_type": "code",
   "execution_count": null,
   "id": "c7a0bc6d",
   "metadata": {},
   "outputs": [],
   "source": []
  },
  {
   "cell_type": "code",
   "execution_count": null,
   "id": "e3352995",
   "metadata": {},
   "outputs": [],
   "source": []
  },
  {
   "cell_type": "code",
   "execution_count": null,
   "id": "ea8d41f0",
   "metadata": {},
   "outputs": [],
   "source": []
  },
  {
   "cell_type": "code",
   "execution_count": null,
   "id": "9d6b996d",
   "metadata": {},
   "outputs": [],
   "source": []
  },
  {
   "cell_type": "code",
   "execution_count": null,
   "id": "89dd1919",
   "metadata": {},
   "outputs": [],
   "source": []
  },
  {
   "cell_type": "code",
   "execution_count": null,
   "id": "07738c29",
   "metadata": {},
   "outputs": [],
   "source": []
  },
  {
   "cell_type": "code",
   "execution_count": null,
   "id": "499dd781",
   "metadata": {},
   "outputs": [],
   "source": []
  },
  {
   "cell_type": "code",
   "execution_count": null,
   "id": "17ef75d6",
   "metadata": {},
   "outputs": [],
   "source": []
  },
  {
   "cell_type": "code",
   "execution_count": null,
   "id": "8414c5b5",
   "metadata": {},
   "outputs": [],
   "source": []
  },
  {
   "cell_type": "code",
   "execution_count": null,
   "id": "867c7377",
   "metadata": {},
   "outputs": [],
   "source": []
  },
  {
   "cell_type": "code",
   "execution_count": null,
   "id": "3fc86bb2",
   "metadata": {},
   "outputs": [],
   "source": []
  },
  {
   "cell_type": "code",
   "execution_count": null,
   "id": "71392c7d",
   "metadata": {},
   "outputs": [],
   "source": []
  }
 ],
 "metadata": {
  "kernelspec": {
   "display_name": "Python 3 (ipykernel)",
   "language": "python",
   "name": "python3"
  },
  "language_info": {
   "codemirror_mode": {
    "name": "ipython",
    "version": 3
   },
   "file_extension": ".py",
   "mimetype": "text/x-python",
   "name": "python",
   "nbconvert_exporter": "python",
   "pygments_lexer": "ipython3",
   "version": "3.10.0"
  }
 },
 "nbformat": 4,
 "nbformat_minor": 5
}
