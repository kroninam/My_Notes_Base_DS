{
 "cells": [
  {
   "cell_type": "code",
   "execution_count": 1,
   "id": "18288ac4",
   "metadata": {},
   "outputs": [],
   "source": [
    "import numpy as np\n",
    "import pandas as pd"
   ]
  },
  {
   "cell_type": "code",
   "execution_count": null,
   "id": "2227c0d0",
   "metadata": {},
   "outputs": [],
   "source": []
  },
  {
   "cell_type": "markdown",
   "id": "7a1a79fc",
   "metadata": {},
   "source": [
    "# 1.Кросс-валидация"
   ]
  },
  {
   "cell_type": "code",
   "execution_count": null,
   "id": "fc260ff2",
   "metadata": {},
   "outputs": [],
   "source": [
    "# Разбивая все данные на train, val и test мы делаем это случайным образом\n",
    "\n",
    "# Поэтому может оказаться так, что данные val могут дать очень хорошие результаты, например, или наоборот плохие.\n",
    "\n",
    "# Возникает риск столкнутся с искаженной подвыборкой. \n",
    "\n",
    "# Кросс-валидация - позволяет избежатеь этого.\n"
   ]
  },
  {
   "cell_type": "code",
   "execution_count": null,
   "id": "33c82ab4",
   "metadata": {},
   "outputs": [],
   "source": [
    "# 1. Разбиваем все данные только на train и test\n",
    "\n",
    "# 2. Делим train на несколько равных частей (например на три части)\n",
    "\n",
    "# 3. Последовательно обучаемся на двух, а валидируемся на третьем. Потом меняемся.\n",
    "\n",
    "# 4. Таким образом будет обучено ТРИ модели. У каждой модели будет своё качество (ROC AUC)\n",
    "\n",
    "# 5. Считаем среднее качество всех трех моделей - это будет уверенное качество нашей целой модели.\n",
    "\n",
    "# 6. Мы защищаем себя от того, чтобы в выборке не попалось что-то странное, чтобы не стать жертвой сэмплирования.\n",
    "\n",
    "# 7. Чем стабильней ведет себя качество каждой из под-моделей - тем надежней модель в целом. Это надо учитывать.\n",
    "\n",
    "# 8. Обычно разбивают на 5 или 10 кусочков (train - test) - это фолды.\n",
    "\n",
    "# 9. Обязательно кросс-валидацию нужно делать когда у нас маленькие выборки.\n",
    "\n",
    "# 10. Когда данных много на разных под-моделях мы не получим сильного разлета качества, но проверять всё равно надо."
   ]
  },
  {
   "cell_type": "markdown",
   "id": "68d937a6",
   "metadata": {},
   "source": [
    "## Кросс-валидация в CatBoost"
   ]
  },
  {
   "cell_type": "code",
   "execution_count": 3,
   "id": "fd97c833",
   "metadata": {},
   "outputs": [],
   "source": [
    "df = pd.read_csv('Churn_Modelling.csv')"
   ]
  },
  {
   "cell_type": "code",
   "execution_count": 4,
   "id": "06378189",
   "metadata": {
    "scrolled": false
   },
   "outputs": [
    {
     "data": {
      "text/html": [
       "<div>\n",
       "<style scoped>\n",
       "    .dataframe tbody tr th:only-of-type {\n",
       "        vertical-align: middle;\n",
       "    }\n",
       "\n",
       "    .dataframe tbody tr th {\n",
       "        vertical-align: top;\n",
       "    }\n",
       "\n",
       "    .dataframe thead th {\n",
       "        text-align: right;\n",
       "    }\n",
       "</style>\n",
       "<table border=\"1\" class=\"dataframe\">\n",
       "  <thead>\n",
       "    <tr style=\"text-align: right;\">\n",
       "      <th></th>\n",
       "      <th>RowNumber</th>\n",
       "      <th>CustomerId</th>\n",
       "      <th>Surname</th>\n",
       "      <th>CreditScore</th>\n",
       "      <th>Geography</th>\n",
       "      <th>Gender</th>\n",
       "      <th>Age</th>\n",
       "      <th>Tenure</th>\n",
       "      <th>Balance</th>\n",
       "      <th>NumOfProducts</th>\n",
       "      <th>HasCrCard</th>\n",
       "      <th>IsActiveMember</th>\n",
       "      <th>EstimatedSalary</th>\n",
       "      <th>Exited</th>\n",
       "    </tr>\n",
       "  </thead>\n",
       "  <tbody>\n",
       "    <tr>\n",
       "      <th>0</th>\n",
       "      <td>1</td>\n",
       "      <td>15634602</td>\n",
       "      <td>Hargrave</td>\n",
       "      <td>619</td>\n",
       "      <td>France</td>\n",
       "      <td>Female</td>\n",
       "      <td>42</td>\n",
       "      <td>2</td>\n",
       "      <td>0.00</td>\n",
       "      <td>1</td>\n",
       "      <td>1</td>\n",
       "      <td>1</td>\n",
       "      <td>101348.88</td>\n",
       "      <td>1</td>\n",
       "    </tr>\n",
       "    <tr>\n",
       "      <th>1</th>\n",
       "      <td>2</td>\n",
       "      <td>15647311</td>\n",
       "      <td>Hill</td>\n",
       "      <td>608</td>\n",
       "      <td>Spain</td>\n",
       "      <td>Female</td>\n",
       "      <td>41</td>\n",
       "      <td>1</td>\n",
       "      <td>83807.86</td>\n",
       "      <td>1</td>\n",
       "      <td>0</td>\n",
       "      <td>1</td>\n",
       "      <td>112542.58</td>\n",
       "      <td>0</td>\n",
       "    </tr>\n",
       "    <tr>\n",
       "      <th>2</th>\n",
       "      <td>3</td>\n",
       "      <td>15619304</td>\n",
       "      <td>Onio</td>\n",
       "      <td>502</td>\n",
       "      <td>France</td>\n",
       "      <td>Female</td>\n",
       "      <td>42</td>\n",
       "      <td>8</td>\n",
       "      <td>159660.80</td>\n",
       "      <td>3</td>\n",
       "      <td>1</td>\n",
       "      <td>0</td>\n",
       "      <td>113931.57</td>\n",
       "      <td>1</td>\n",
       "    </tr>\n",
       "    <tr>\n",
       "      <th>3</th>\n",
       "      <td>4</td>\n",
       "      <td>15701354</td>\n",
       "      <td>Boni</td>\n",
       "      <td>699</td>\n",
       "      <td>France</td>\n",
       "      <td>Female</td>\n",
       "      <td>39</td>\n",
       "      <td>1</td>\n",
       "      <td>0.00</td>\n",
       "      <td>2</td>\n",
       "      <td>0</td>\n",
       "      <td>0</td>\n",
       "      <td>93826.63</td>\n",
       "      <td>0</td>\n",
       "    </tr>\n",
       "    <tr>\n",
       "      <th>4</th>\n",
       "      <td>5</td>\n",
       "      <td>15737888</td>\n",
       "      <td>Mitchell</td>\n",
       "      <td>850</td>\n",
       "      <td>Spain</td>\n",
       "      <td>Female</td>\n",
       "      <td>43</td>\n",
       "      <td>2</td>\n",
       "      <td>125510.82</td>\n",
       "      <td>1</td>\n",
       "      <td>1</td>\n",
       "      <td>1</td>\n",
       "      <td>79084.10</td>\n",
       "      <td>0</td>\n",
       "    </tr>\n",
       "    <tr>\n",
       "      <th>...</th>\n",
       "      <td>...</td>\n",
       "      <td>...</td>\n",
       "      <td>...</td>\n",
       "      <td>...</td>\n",
       "      <td>...</td>\n",
       "      <td>...</td>\n",
       "      <td>...</td>\n",
       "      <td>...</td>\n",
       "      <td>...</td>\n",
       "      <td>...</td>\n",
       "      <td>...</td>\n",
       "      <td>...</td>\n",
       "      <td>...</td>\n",
       "      <td>...</td>\n",
       "    </tr>\n",
       "    <tr>\n",
       "      <th>9995</th>\n",
       "      <td>9996</td>\n",
       "      <td>15606229</td>\n",
       "      <td>Obijiaku</td>\n",
       "      <td>771</td>\n",
       "      <td>France</td>\n",
       "      <td>Male</td>\n",
       "      <td>39</td>\n",
       "      <td>5</td>\n",
       "      <td>0.00</td>\n",
       "      <td>2</td>\n",
       "      <td>1</td>\n",
       "      <td>0</td>\n",
       "      <td>96270.64</td>\n",
       "      <td>0</td>\n",
       "    </tr>\n",
       "    <tr>\n",
       "      <th>9996</th>\n",
       "      <td>9997</td>\n",
       "      <td>15569892</td>\n",
       "      <td>Johnstone</td>\n",
       "      <td>516</td>\n",
       "      <td>France</td>\n",
       "      <td>Male</td>\n",
       "      <td>35</td>\n",
       "      <td>10</td>\n",
       "      <td>57369.61</td>\n",
       "      <td>1</td>\n",
       "      <td>1</td>\n",
       "      <td>1</td>\n",
       "      <td>101699.77</td>\n",
       "      <td>0</td>\n",
       "    </tr>\n",
       "    <tr>\n",
       "      <th>9997</th>\n",
       "      <td>9998</td>\n",
       "      <td>15584532</td>\n",
       "      <td>Liu</td>\n",
       "      <td>709</td>\n",
       "      <td>France</td>\n",
       "      <td>Female</td>\n",
       "      <td>36</td>\n",
       "      <td>7</td>\n",
       "      <td>0.00</td>\n",
       "      <td>1</td>\n",
       "      <td>0</td>\n",
       "      <td>1</td>\n",
       "      <td>42085.58</td>\n",
       "      <td>1</td>\n",
       "    </tr>\n",
       "    <tr>\n",
       "      <th>9998</th>\n",
       "      <td>9999</td>\n",
       "      <td>15682355</td>\n",
       "      <td>Sabbatini</td>\n",
       "      <td>772</td>\n",
       "      <td>Germany</td>\n",
       "      <td>Male</td>\n",
       "      <td>42</td>\n",
       "      <td>3</td>\n",
       "      <td>75075.31</td>\n",
       "      <td>2</td>\n",
       "      <td>1</td>\n",
       "      <td>0</td>\n",
       "      <td>92888.52</td>\n",
       "      <td>1</td>\n",
       "    </tr>\n",
       "    <tr>\n",
       "      <th>9999</th>\n",
       "      <td>10000</td>\n",
       "      <td>15628319</td>\n",
       "      <td>Walker</td>\n",
       "      <td>792</td>\n",
       "      <td>France</td>\n",
       "      <td>Female</td>\n",
       "      <td>28</td>\n",
       "      <td>4</td>\n",
       "      <td>130142.79</td>\n",
       "      <td>1</td>\n",
       "      <td>1</td>\n",
       "      <td>0</td>\n",
       "      <td>38190.78</td>\n",
       "      <td>0</td>\n",
       "    </tr>\n",
       "  </tbody>\n",
       "</table>\n",
       "<p>10000 rows × 14 columns</p>\n",
       "</div>"
      ],
      "text/plain": [
       "      RowNumber  CustomerId    Surname  CreditScore Geography  Gender  Age  \\\n",
       "0             1    15634602   Hargrave          619    France  Female   42   \n",
       "1             2    15647311       Hill          608     Spain  Female   41   \n",
       "2             3    15619304       Onio          502    France  Female   42   \n",
       "3             4    15701354       Boni          699    France  Female   39   \n",
       "4             5    15737888   Mitchell          850     Spain  Female   43   \n",
       "...         ...         ...        ...          ...       ...     ...  ...   \n",
       "9995       9996    15606229   Obijiaku          771    France    Male   39   \n",
       "9996       9997    15569892  Johnstone          516    France    Male   35   \n",
       "9997       9998    15584532        Liu          709    France  Female   36   \n",
       "9998       9999    15682355  Sabbatini          772   Germany    Male   42   \n",
       "9999      10000    15628319     Walker          792    France  Female   28   \n",
       "\n",
       "      Tenure    Balance  NumOfProducts  HasCrCard  IsActiveMember  \\\n",
       "0          2       0.00              1          1               1   \n",
       "1          1   83807.86              1          0               1   \n",
       "2          8  159660.80              3          1               0   \n",
       "3          1       0.00              2          0               0   \n",
       "4          2  125510.82              1          1               1   \n",
       "...      ...        ...            ...        ...             ...   \n",
       "9995       5       0.00              2          1               0   \n",
       "9996      10   57369.61              1          1               1   \n",
       "9997       7       0.00              1          0               1   \n",
       "9998       3   75075.31              2          1               0   \n",
       "9999       4  130142.79              1          1               0   \n",
       "\n",
       "      EstimatedSalary  Exited  \n",
       "0           101348.88       1  \n",
       "1           112542.58       0  \n",
       "2           113931.57       1  \n",
       "3            93826.63       0  \n",
       "4            79084.10       0  \n",
       "...               ...     ...  \n",
       "9995         96270.64       0  \n",
       "9996        101699.77       0  \n",
       "9997         42085.58       1  \n",
       "9998         92888.52       1  \n",
       "9999         38190.78       0  \n",
       "\n",
       "[10000 rows x 14 columns]"
      ]
     },
     "execution_count": 4,
     "metadata": {},
     "output_type": "execute_result"
    }
   ],
   "source": [
    "df"
   ]
  },
  {
   "cell_type": "markdown",
   "id": "27ae76a4",
   "metadata": {},
   "source": [
    "### Создание обучающей, валидационной и тестовой выборки"
   ]
  },
  {
   "cell_type": "code",
   "execution_count": 5,
   "id": "da434d9c",
   "metadata": {},
   "outputs": [],
   "source": [
    "from sklearn.model_selection import train_test_split\n",
    "\n",
    "# чтобы избегать неравносмерности доли целевого параметра нужно задавать startify\n",
    "\n",
    "train, test = train_test_split(df, train_size = 0.6, random_state = 42, stratify = df['Exited'])"
   ]
  },
  {
   "cell_type": "code",
   "execution_count": 6,
   "id": "e2b19edb",
   "metadata": {},
   "outputs": [],
   "source": [
    "val, test = train_test_split(test, train_size = 0.5, random_state = 42, stratify = test['Exited'])"
   ]
  },
  {
   "cell_type": "code",
   "execution_count": 7,
   "id": "e1d02067",
   "metadata": {},
   "outputs": [
    {
     "name": "stdout",
     "output_type": "stream",
     "text": [
      "0.20366666666666666\n",
      "0.204\n",
      "0.2035\n"
     ]
    }
   ],
   "source": [
    "# делаем проверку:\n",
    "\n",
    "print(train['Exited'].mean())\n",
    "print(val['Exited'].mean())\n",
    "print(test['Exited'].mean())"
   ]
  },
  {
   "cell_type": "code",
   "execution_count": null,
   "id": "36504c10",
   "metadata": {},
   "outputs": [],
   "source": []
  },
  {
   "cell_type": "markdown",
   "id": "9a627716",
   "metadata": {},
   "source": [
    "### Обучение модели (раздельные train и val)"
   ]
  },
  {
   "cell_type": "code",
   "execution_count": 8,
   "id": "1a633e90",
   "metadata": {},
   "outputs": [],
   "source": [
    "from catboost import CatBoostClassifier"
   ]
  },
  {
   "cell_type": "code",
   "execution_count": 9,
   "id": "5c3223e8",
   "metadata": {},
   "outputs": [],
   "source": [
    "# обучимся на ВСЕХ фичах:\n",
    "\n",
    "X = ['CustomerId', 'CreditScore', 'Geography',\n",
    "       'Gender', 'Age', 'Tenure', 'Balance', 'NumOfProducts', 'HasCrCard',\n",
    "       'IsActiveMember', 'EstimatedSalary']\n",
    "y = ['Exited']\n",
    "\n",
    "# категориальные фичи = ['Geography', 'Gender']\n",
    "cat_features = ['Geography', 'Gender']"
   ]
  },
  {
   "cell_type": "code",
   "execution_count": 10,
   "id": "74285440",
   "metadata": {},
   "outputs": [],
   "source": [
    "# взяли кусок кода с pool c Tutorial: CatBoost Overview (https://www.kaggle.com/code/mitribunskiy/tutorial-catboost-overview)\n",
    "\n",
    "from catboost import Pool\n",
    "\n",
    "train_data = Pool(data=train[X],\n",
    "                  label=train[y],\n",
    "                  cat_features=cat_features\n",
    "                 )\n",
    "\n",
    "valid_data = Pool(data=val[X],\n",
    "                  label=val[y],\n",
    "                  cat_features=cat_features\n",
    "                 )"
   ]
  },
  {
   "cell_type": "code",
   "execution_count": 11,
   "id": "da4f1638",
   "metadata": {},
   "outputs": [],
   "source": [
    "\n",
    "params_2 = {'verbose':100,\n",
    "            'eval_metric': 'AUC',\n",
    "            'loss_function': 'Logloss',\n",
    "            'random_seed': 42,\n",
    "           'learning_rate': 0.01}"
   ]
  },
  {
   "cell_type": "code",
   "execution_count": 12,
   "id": "75a31e53",
   "metadata": {},
   "outputs": [],
   "source": [
    "model_2 = CatBoostClassifier(**params_2)"
   ]
  },
  {
   "cell_type": "code",
   "execution_count": 13,
   "id": "07562eb6",
   "metadata": {},
   "outputs": [
    {
     "name": "stdout",
     "output_type": "stream",
     "text": [
      "0:\ttest: 0.8338545\tbest: 0.8338545 (0)\ttotal: 239ms\tremaining: 3m 59s\n",
      "100:\ttest: 0.8725090\tbest: 0.8725090 (100)\ttotal: 3.03s\tremaining: 27s\n",
      "200:\ttest: 0.8784656\tbest: 0.8784656 (200)\ttotal: 5.65s\tremaining: 22.5s\n",
      "300:\ttest: 0.8812676\tbest: 0.8812676 (300)\ttotal: 8.32s\tremaining: 19.3s\n",
      "400:\ttest: 0.8823868\tbest: 0.8824376 (390)\ttotal: 11s\tremaining: 16.4s\n",
      "500:\ttest: 0.8834491\tbest: 0.8834522 (498)\ttotal: 13.8s\tremaining: 13.7s\n",
      "600:\ttest: 0.8834737\tbest: 0.8836554 (564)\ttotal: 16.5s\tremaining: 11s\n",
      "700:\ttest: 0.8837847\tbest: 0.8838694 (685)\ttotal: 19.2s\tremaining: 8.17s\n",
      "800:\ttest: 0.8834383\tbest: 0.8838694 (685)\ttotal: 21.8s\tremaining: 5.42s\n",
      "900:\ttest: 0.8829318\tbest: 0.8838694 (685)\ttotal: 24.6s\tremaining: 2.71s\n",
      "999:\ttest: 0.8822744\tbest: 0.8838694 (685)\ttotal: 27.4s\tremaining: 0us\n",
      "\n",
      "bestTest = 0.8838694083\n",
      "bestIteration = 685\n",
      "\n",
      "Shrink model to first 686 iterations.\n"
     ]
    },
    {
     "data": {
      "text/plain": [
       "<catboost.core.CatBoostClassifier at 0x2618a414e20>"
      ]
     },
     "execution_count": 13,
     "metadata": {},
     "output_type": "execute_result"
    }
   ],
   "source": [
    "# запускаем обучение:\n",
    "\n",
    "# так мы запускали раньше:\n",
    "# model_2.fit(train[X], train[y], eval_set = (val[X], val[y]))\n",
    "\n",
    "# с использованием Pool для более чистого кода:\n",
    "model_2.fit(train_data, eval_set = valid_data)"
   ]
  },
  {
   "cell_type": "code",
   "execution_count": 14,
   "id": "7f39651e",
   "metadata": {},
   "outputs": [],
   "source": [
    "# здесь задаем лучшую итерацию, которую получили на предыдущем шаге 'bestIteration = 685'\n",
    "n_iter = model_2.best_iteration_ + 1"
   ]
  },
  {
   "cell_type": "code",
   "execution_count": 15,
   "id": "c1de49af",
   "metadata": {},
   "outputs": [
    {
     "data": {
      "text/plain": [
       "686"
      ]
     },
     "execution_count": 15,
     "metadata": {},
     "output_type": "execute_result"
    }
   ],
   "source": [
    "n_iter"
   ]
  },
  {
   "cell_type": "code",
   "execution_count": 16,
   "id": "f9a76ccb",
   "metadata": {},
   "outputs": [],
   "source": [
    "# проверка модели на тесте:\n",
    "\n",
    "test['SCORE_NO_Cross_Validation_ONLY_TRAIN'] = model_2.predict_proba(test[X])[:, 1]"
   ]
  },
  {
   "cell_type": "code",
   "execution_count": 17,
   "id": "e326dce7",
   "metadata": {},
   "outputs": [],
   "source": [
    "from sklearn.metrics import roc_auc_score"
   ]
  },
  {
   "cell_type": "code",
   "execution_count": 18,
   "id": "cf462311",
   "metadata": {},
   "outputs": [
    {
     "data": {
      "text/plain": [
       "0.8713952781749392"
      ]
     },
     "execution_count": 18,
     "metadata": {},
     "output_type": "execute_result"
    }
   ],
   "source": [
    "roc_auc_score(test['Exited'], test['SCORE_NO_Cross_Validation_ONLY_TRAIN'])"
   ]
  },
  {
   "cell_type": "code",
   "execution_count": null,
   "id": "1573ad70",
   "metadata": {},
   "outputs": [],
   "source": []
  },
  {
   "cell_type": "markdown",
   "id": "0eaad5b8",
   "metadata": {},
   "source": [
    "### Обучение модели (совместно train и val) = train_full"
   ]
  },
  {
   "cell_type": "code",
   "execution_count": 48,
   "id": "93822a97",
   "metadata": {},
   "outputs": [],
   "source": [
    "train_full = pd.concat([train, val])"
   ]
  },
  {
   "cell_type": "code",
   "execution_count": 20,
   "id": "a1298b2e",
   "metadata": {
    "scrolled": false
   },
   "outputs": [
    {
     "data": {
      "text/html": [
       "<div>\n",
       "<style scoped>\n",
       "    .dataframe tbody tr th:only-of-type {\n",
       "        vertical-align: middle;\n",
       "    }\n",
       "\n",
       "    .dataframe tbody tr th {\n",
       "        vertical-align: top;\n",
       "    }\n",
       "\n",
       "    .dataframe thead th {\n",
       "        text-align: right;\n",
       "    }\n",
       "</style>\n",
       "<table border=\"1\" class=\"dataframe\">\n",
       "  <thead>\n",
       "    <tr style=\"text-align: right;\">\n",
       "      <th></th>\n",
       "      <th>RowNumber</th>\n",
       "      <th>CustomerId</th>\n",
       "      <th>Surname</th>\n",
       "      <th>CreditScore</th>\n",
       "      <th>Geography</th>\n",
       "      <th>Gender</th>\n",
       "      <th>Age</th>\n",
       "      <th>Tenure</th>\n",
       "      <th>Balance</th>\n",
       "      <th>NumOfProducts</th>\n",
       "      <th>HasCrCard</th>\n",
       "      <th>IsActiveMember</th>\n",
       "      <th>EstimatedSalary</th>\n",
       "      <th>Exited</th>\n",
       "    </tr>\n",
       "  </thead>\n",
       "  <tbody>\n",
       "    <tr>\n",
       "      <th>6851</th>\n",
       "      <td>6852</td>\n",
       "      <td>15779103</td>\n",
       "      <td>Cantamessa</td>\n",
       "      <td>527</td>\n",
       "      <td>Germany</td>\n",
       "      <td>Female</td>\n",
       "      <td>39</td>\n",
       "      <td>9</td>\n",
       "      <td>96748.89</td>\n",
       "      <td>2</td>\n",
       "      <td>1</td>\n",
       "      <td>0</td>\n",
       "      <td>94711.43</td>\n",
       "      <td>0</td>\n",
       "    </tr>\n",
       "    <tr>\n",
       "      <th>7026</th>\n",
       "      <td>7027</td>\n",
       "      <td>15588123</td>\n",
       "      <td>Horton</td>\n",
       "      <td>677</td>\n",
       "      <td>France</td>\n",
       "      <td>Female</td>\n",
       "      <td>27</td>\n",
       "      <td>2</td>\n",
       "      <td>0.00</td>\n",
       "      <td>2</td>\n",
       "      <td>0</td>\n",
       "      <td>1</td>\n",
       "      <td>114685.92</td>\n",
       "      <td>0</td>\n",
       "    </tr>\n",
       "    <tr>\n",
       "      <th>5705</th>\n",
       "      <td>5706</td>\n",
       "      <td>15698703</td>\n",
       "      <td>Doherty</td>\n",
       "      <td>628</td>\n",
       "      <td>Germany</td>\n",
       "      <td>Male</td>\n",
       "      <td>40</td>\n",
       "      <td>5</td>\n",
       "      <td>181768.32</td>\n",
       "      <td>2</td>\n",
       "      <td>1</td>\n",
       "      <td>1</td>\n",
       "      <td>129107.97</td>\n",
       "      <td>0</td>\n",
       "    </tr>\n",
       "    <tr>\n",
       "      <th>9058</th>\n",
       "      <td>9059</td>\n",
       "      <td>15802560</td>\n",
       "      <td>Moran</td>\n",
       "      <td>470</td>\n",
       "      <td>Spain</td>\n",
       "      <td>Female</td>\n",
       "      <td>48</td>\n",
       "      <td>6</td>\n",
       "      <td>140576.11</td>\n",
       "      <td>1</td>\n",
       "      <td>1</td>\n",
       "      <td>1</td>\n",
       "      <td>116971.05</td>\n",
       "      <td>0</td>\n",
       "    </tr>\n",
       "    <tr>\n",
       "      <th>9415</th>\n",
       "      <td>9416</td>\n",
       "      <td>15750407</td>\n",
       "      <td>Hunt</td>\n",
       "      <td>768</td>\n",
       "      <td>Germany</td>\n",
       "      <td>Female</td>\n",
       "      <td>43</td>\n",
       "      <td>2</td>\n",
       "      <td>129264.05</td>\n",
       "      <td>2</td>\n",
       "      <td>0</td>\n",
       "      <td>0</td>\n",
       "      <td>19150.14</td>\n",
       "      <td>0</td>\n",
       "    </tr>\n",
       "    <tr>\n",
       "      <th>...</th>\n",
       "      <td>...</td>\n",
       "      <td>...</td>\n",
       "      <td>...</td>\n",
       "      <td>...</td>\n",
       "      <td>...</td>\n",
       "      <td>...</td>\n",
       "      <td>...</td>\n",
       "      <td>...</td>\n",
       "      <td>...</td>\n",
       "      <td>...</td>\n",
       "      <td>...</td>\n",
       "      <td>...</td>\n",
       "      <td>...</td>\n",
       "      <td>...</td>\n",
       "    </tr>\n",
       "    <tr>\n",
       "      <th>926</th>\n",
       "      <td>927</td>\n",
       "      <td>15628303</td>\n",
       "      <td>Thurgood</td>\n",
       "      <td>738</td>\n",
       "      <td>Spain</td>\n",
       "      <td>Male</td>\n",
       "      <td>35</td>\n",
       "      <td>3</td>\n",
       "      <td>0.00</td>\n",
       "      <td>1</td>\n",
       "      <td>1</td>\n",
       "      <td>1</td>\n",
       "      <td>15650.73</td>\n",
       "      <td>0</td>\n",
       "    </tr>\n",
       "    <tr>\n",
       "      <th>6727</th>\n",
       "      <td>6728</td>\n",
       "      <td>15610416</td>\n",
       "      <td>Christie</td>\n",
       "      <td>745</td>\n",
       "      <td>France</td>\n",
       "      <td>Female</td>\n",
       "      <td>36</td>\n",
       "      <td>9</td>\n",
       "      <td>0.00</td>\n",
       "      <td>1</td>\n",
       "      <td>1</td>\n",
       "      <td>0</td>\n",
       "      <td>19605.18</td>\n",
       "      <td>1</td>\n",
       "    </tr>\n",
       "    <tr>\n",
       "      <th>4745</th>\n",
       "      <td>4746</td>\n",
       "      <td>15655410</td>\n",
       "      <td>Hinton</td>\n",
       "      <td>768</td>\n",
       "      <td>Germany</td>\n",
       "      <td>Male</td>\n",
       "      <td>49</td>\n",
       "      <td>1</td>\n",
       "      <td>133384.66</td>\n",
       "      <td>1</td>\n",
       "      <td>1</td>\n",
       "      <td>0</td>\n",
       "      <td>102397.22</td>\n",
       "      <td>1</td>\n",
       "    </tr>\n",
       "    <tr>\n",
       "      <th>1307</th>\n",
       "      <td>1308</td>\n",
       "      <td>15638806</td>\n",
       "      <td>Blackburn</td>\n",
       "      <td>645</td>\n",
       "      <td>Spain</td>\n",
       "      <td>Male</td>\n",
       "      <td>49</td>\n",
       "      <td>2</td>\n",
       "      <td>0.00</td>\n",
       "      <td>2</td>\n",
       "      <td>0</td>\n",
       "      <td>0</td>\n",
       "      <td>10023.15</td>\n",
       "      <td>0</td>\n",
       "    </tr>\n",
       "    <tr>\n",
       "      <th>7464</th>\n",
       "      <td>7465</td>\n",
       "      <td>15569682</td>\n",
       "      <td>Leckie</td>\n",
       "      <td>768</td>\n",
       "      <td>Germany</td>\n",
       "      <td>Male</td>\n",
       "      <td>37</td>\n",
       "      <td>9</td>\n",
       "      <td>108308.11</td>\n",
       "      <td>1</td>\n",
       "      <td>1</td>\n",
       "      <td>0</td>\n",
       "      <td>41788.25</td>\n",
       "      <td>1</td>\n",
       "    </tr>\n",
       "  </tbody>\n",
       "</table>\n",
       "<p>8000 rows × 14 columns</p>\n",
       "</div>"
      ],
      "text/plain": [
       "      RowNumber  CustomerId     Surname  CreditScore Geography  Gender  Age  \\\n",
       "6851       6852    15779103  Cantamessa          527   Germany  Female   39   \n",
       "7026       7027    15588123      Horton          677    France  Female   27   \n",
       "5705       5706    15698703     Doherty          628   Germany    Male   40   \n",
       "9058       9059    15802560       Moran          470     Spain  Female   48   \n",
       "9415       9416    15750407        Hunt          768   Germany  Female   43   \n",
       "...         ...         ...         ...          ...       ...     ...  ...   \n",
       "926         927    15628303    Thurgood          738     Spain    Male   35   \n",
       "6727       6728    15610416    Christie          745    France  Female   36   \n",
       "4745       4746    15655410      Hinton          768   Germany    Male   49   \n",
       "1307       1308    15638806   Blackburn          645     Spain    Male   49   \n",
       "7464       7465    15569682      Leckie          768   Germany    Male   37   \n",
       "\n",
       "      Tenure    Balance  NumOfProducts  HasCrCard  IsActiveMember  \\\n",
       "6851       9   96748.89              2          1               0   \n",
       "7026       2       0.00              2          0               1   \n",
       "5705       5  181768.32              2          1               1   \n",
       "9058       6  140576.11              1          1               1   \n",
       "9415       2  129264.05              2          0               0   \n",
       "...      ...        ...            ...        ...             ...   \n",
       "926        3       0.00              1          1               1   \n",
       "6727       9       0.00              1          1               0   \n",
       "4745       1  133384.66              1          1               0   \n",
       "1307       2       0.00              2          0               0   \n",
       "7464       9  108308.11              1          1               0   \n",
       "\n",
       "      EstimatedSalary  Exited  \n",
       "6851         94711.43       0  \n",
       "7026        114685.92       0  \n",
       "5705        129107.97       0  \n",
       "9058        116971.05       0  \n",
       "9415         19150.14       0  \n",
       "...               ...     ...  \n",
       "926          15650.73       0  \n",
       "6727         19605.18       1  \n",
       "4745        102397.22       1  \n",
       "1307         10023.15       0  \n",
       "7464         41788.25       1  \n",
       "\n",
       "[8000 rows x 14 columns]"
      ]
     },
     "execution_count": 20,
     "metadata": {},
     "output_type": "execute_result"
    }
   ],
   "source": [
    "train_full"
   ]
  },
  {
   "cell_type": "code",
   "execution_count": 61,
   "id": "b81e4af3",
   "metadata": {},
   "outputs": [],
   "source": [
    "from catboost import Pool\n",
    "\n",
    "train_full_data = Pool(data=train_full[X],\n",
    "                  label=train_full[y],\n",
    "                  cat_features=cat_features\n",
    "                 )"
   ]
  },
  {
   "cell_type": "code",
   "execution_count": 62,
   "id": "8fa9118e",
   "metadata": {},
   "outputs": [],
   "source": [
    "# берем итерацию, которую получили при обучении только на traine выше: bestIteration = 685\n",
    "\n",
    "params_3 = {'verbose':100,\n",
    "            \n",
    "            'iterations': n_iter,\n",
    "            \n",
    "            'eval_metric': 'AUC',\n",
    "            'loss_function': 'Logloss',\n",
    "            'random_seed': 42,\n",
    "           'learning_rate': 0.01}"
   ]
  },
  {
   "cell_type": "code",
   "execution_count": 63,
   "id": "0bb08475",
   "metadata": {},
   "outputs": [],
   "source": [
    "model_3_1 = CatBoostClassifier(**params_3)"
   ]
  },
  {
   "cell_type": "code",
   "execution_count": 66,
   "id": "47d718ce",
   "metadata": {
    "scrolled": true
   },
   "outputs": [
    {
     "name": "stdout",
     "output_type": "stream",
     "text": [
      "0:\ttotal: 25.8ms\tremaining: 17.7s\n",
      "100:\ttotal: 3.02s\tremaining: 17.5s\n",
      "200:\ttotal: 5.87s\tremaining: 14.2s\n",
      "300:\ttotal: 8.65s\tremaining: 11.1s\n",
      "400:\ttotal: 11.4s\tremaining: 8.1s\n",
      "500:\ttotal: 14s\tremaining: 5.18s\n",
      "600:\ttotal: 16.7s\tremaining: 2.36s\n",
      "685:\ttotal: 18.9s\tremaining: 0us\n"
     ]
    },
    {
     "data": {
      "text/plain": [
       "<catboost.core.CatBoostClassifier at 0x2618a414850>"
      ]
     },
     "execution_count": 66,
     "metadata": {},
     "output_type": "execute_result"
    }
   ],
   "source": [
    "model_3_1.fit(train_full_data)"
   ]
  },
  {
   "cell_type": "code",
   "execution_count": null,
   "id": "017bc0ad",
   "metadata": {},
   "outputs": [],
   "source": []
  },
  {
   "cell_type": "code",
   "execution_count": 67,
   "id": "7fe3912d",
   "metadata": {},
   "outputs": [],
   "source": [
    "# проверка модели на тесте:\n",
    "\n",
    "test['SCORE_NO_Cross_Validation'] = model_3_1.predict_proba(test[X])[:, 1]"
   ]
  },
  {
   "cell_type": "code",
   "execution_count": 68,
   "id": "bda917c4",
   "metadata": {},
   "outputs": [],
   "source": [
    "from sklearn.metrics import roc_auc_score"
   ]
  },
  {
   "cell_type": "code",
   "execution_count": 69,
   "id": "c4895d80",
   "metadata": {},
   "outputs": [
    {
     "data": {
      "text/plain": [
       "0.8735839074822127"
      ]
     },
     "execution_count": 69,
     "metadata": {},
     "output_type": "execute_result"
    }
   ],
   "source": [
    "roc_auc_score(test['Exited'], test['SCORE_NO_Cross_Validation'])"
   ]
  },
  {
   "cell_type": "code",
   "execution_count": null,
   "id": "2ecdc94c",
   "metadata": {},
   "outputs": [],
   "source": []
  },
  {
   "cell_type": "markdown",
   "id": "1d83ab59",
   "metadata": {},
   "source": [
    "# ТЕПЕРЬ ПРОДЕЛАЕМ ТО ЖЕ С КРОСС ВАЛИДАЦИЕЙ И СРАВНИМ roc_auc_score"
   ]
  },
  {
   "cell_type": "code",
   "execution_count": null,
   "id": "6b296591",
   "metadata": {},
   "outputs": [],
   "source": [
    "# https://github.com/catboost/tutorials/blob/master/cross_validation/cv_tutorial.ipynb"
   ]
  },
  {
   "cell_type": "code",
   "execution_count": 28,
   "id": "6944825b",
   "metadata": {},
   "outputs": [],
   "source": [
    "# cv == cross_valiation\n",
    "\n",
    "from catboost import cv\n"
   ]
  },
  {
   "cell_type": "code",
   "execution_count": 70,
   "id": "a5f7923c",
   "metadata": {},
   "outputs": [],
   "source": [
    "\n",
    "# parameters for training inside cv (передаем сюда наши прошлые параметры (получены на предыдущем шаге)\n",
    "# но без количества итераций):\n",
    "\n",
    "params_3 = {'verbose':100,           \n",
    "                       \n",
    "            'eval_metric': 'AUC',\n",
    "            'loss_function': 'Logloss',\n",
    "            'random_seed': 42,\n",
    "           'learning_rate': 0.01}\n"
   ]
  },
  {
   "cell_type": "code",
   "execution_count": 30,
   "id": "09a842fa",
   "metadata": {},
   "outputs": [
    {
     "data": {
      "application/vnd.jupyter.widget-view+json": {
       "model_id": "ecf795b6e0c049c1a280d255a2b5b415",
       "version_major": 2,
       "version_minor": 0
      },
      "text/plain": [
       "MetricVisualizer(layout=Layout(align_self='stretch', height='500px'))"
      ]
     },
     "metadata": {},
     "output_type": "display_data"
    },
    {
     "name": "stdout",
     "output_type": "stream",
     "text": [
      "Training on fold [0/5]\n",
      "\n",
      "bestTest = 0.866360207\n",
      "bestIteration = 881\n",
      "\n",
      "Training on fold [1/5]\n",
      "\n",
      "bestTest = 0.8716621864\n",
      "bestIteration = 998\n",
      "\n",
      "Training on fold [2/5]\n",
      "\n",
      "bestTest = 0.8695412245\n",
      "bestIteration = 540\n",
      "\n",
      "Training on fold [3/5]\n",
      "\n",
      "bestTest = 0.8795945701\n",
      "bestIteration = 942\n",
      "\n",
      "Training on fold [4/5]\n",
      "\n",
      "bestTest = 0.8586794872\n",
      "bestIteration = 750\n",
      "\n"
     ]
    }
   ],
   "source": [
    "cv_data = cv(\n",
    "    params = params_3,\n",
    "    pool = train_full_data,\n",
    "    fold_count=5,\n",
    "    shuffle=True,\n",
    "    partition_random_seed=0,\n",
    "    plot=True,\n",
    "    stratified=False,\n",
    "    verbose=False\n",
    ")"
   ]
  },
  {
   "cell_type": "code",
   "execution_count": 71,
   "id": "205fe298",
   "metadata": {},
   "outputs": [
    {
     "data": {
      "text/html": [
       "<div>\n",
       "<style scoped>\n",
       "    .dataframe tbody tr th:only-of-type {\n",
       "        vertical-align: middle;\n",
       "    }\n",
       "\n",
       "    .dataframe tbody tr th {\n",
       "        vertical-align: top;\n",
       "    }\n",
       "\n",
       "    .dataframe thead th {\n",
       "        text-align: right;\n",
       "    }\n",
       "</style>\n",
       "<table border=\"1\" class=\"dataframe\">\n",
       "  <thead>\n",
       "    <tr style=\"text-align: right;\">\n",
       "      <th></th>\n",
       "      <th>iterations</th>\n",
       "      <th>test-AUC-mean</th>\n",
       "      <th>test-AUC-std</th>\n",
       "      <th>test-Logloss-mean</th>\n",
       "      <th>test-Logloss-std</th>\n",
       "      <th>train-Logloss-mean</th>\n",
       "      <th>train-Logloss-std</th>\n",
       "    </tr>\n",
       "  </thead>\n",
       "  <tbody>\n",
       "    <tr>\n",
       "      <th>0</th>\n",
       "      <td>0</td>\n",
       "      <td>0.818479</td>\n",
       "      <td>0.009480</td>\n",
       "      <td>0.685020</td>\n",
       "      <td>0.000209</td>\n",
       "      <td>0.684939</td>\n",
       "      <td>0.000262</td>\n",
       "    </tr>\n",
       "    <tr>\n",
       "      <th>1</th>\n",
       "      <td>1</td>\n",
       "      <td>0.823848</td>\n",
       "      <td>0.010334</td>\n",
       "      <td>0.677216</td>\n",
       "      <td>0.000374</td>\n",
       "      <td>0.677055</td>\n",
       "      <td>0.000503</td>\n",
       "    </tr>\n",
       "    <tr>\n",
       "      <th>2</th>\n",
       "      <td>2</td>\n",
       "      <td>0.831819</td>\n",
       "      <td>0.009265</td>\n",
       "      <td>0.668989</td>\n",
       "      <td>0.000472</td>\n",
       "      <td>0.668799</td>\n",
       "      <td>0.000751</td>\n",
       "    </tr>\n",
       "    <tr>\n",
       "      <th>3</th>\n",
       "      <td>3</td>\n",
       "      <td>0.834559</td>\n",
       "      <td>0.008771</td>\n",
       "      <td>0.662008</td>\n",
       "      <td>0.001326</td>\n",
       "      <td>0.661753</td>\n",
       "      <td>0.000689</td>\n",
       "    </tr>\n",
       "    <tr>\n",
       "      <th>4</th>\n",
       "      <td>4</td>\n",
       "      <td>0.834483</td>\n",
       "      <td>0.008218</td>\n",
       "      <td>0.654599</td>\n",
       "      <td>0.001429</td>\n",
       "      <td>0.654270</td>\n",
       "      <td>0.000898</td>\n",
       "    </tr>\n",
       "    <tr>\n",
       "      <th>...</th>\n",
       "      <td>...</td>\n",
       "      <td>...</td>\n",
       "      <td>...</td>\n",
       "      <td>...</td>\n",
       "      <td>...</td>\n",
       "      <td>...</td>\n",
       "      <td>...</td>\n",
       "    </tr>\n",
       "    <tr>\n",
       "      <th>995</th>\n",
       "      <td>995</td>\n",
       "      <td>0.868703</td>\n",
       "      <td>0.007809</td>\n",
       "      <td>0.329986</td>\n",
       "      <td>0.016873</td>\n",
       "      <td>0.284097</td>\n",
       "      <td>0.003644</td>\n",
       "    </tr>\n",
       "    <tr>\n",
       "      <th>996</th>\n",
       "      <td>996</td>\n",
       "      <td>0.868715</td>\n",
       "      <td>0.007781</td>\n",
       "      <td>0.329972</td>\n",
       "      <td>0.016875</td>\n",
       "      <td>0.284057</td>\n",
       "      <td>0.003631</td>\n",
       "    </tr>\n",
       "    <tr>\n",
       "      <th>997</th>\n",
       "      <td>997</td>\n",
       "      <td>0.868718</td>\n",
       "      <td>0.007804</td>\n",
       "      <td>0.329972</td>\n",
       "      <td>0.016876</td>\n",
       "      <td>0.284003</td>\n",
       "      <td>0.003636</td>\n",
       "    </tr>\n",
       "    <tr>\n",
       "      <th>998</th>\n",
       "      <td>998</td>\n",
       "      <td>0.868725</td>\n",
       "      <td>0.007777</td>\n",
       "      <td>0.329969</td>\n",
       "      <td>0.016855</td>\n",
       "      <td>0.283943</td>\n",
       "      <td>0.003613</td>\n",
       "    </tr>\n",
       "    <tr>\n",
       "      <th>999</th>\n",
       "      <td>999</td>\n",
       "      <td>0.868729</td>\n",
       "      <td>0.007779</td>\n",
       "      <td>0.329964</td>\n",
       "      <td>0.016869</td>\n",
       "      <td>0.283886</td>\n",
       "      <td>0.003601</td>\n",
       "    </tr>\n",
       "  </tbody>\n",
       "</table>\n",
       "<p>1000 rows × 7 columns</p>\n",
       "</div>"
      ],
      "text/plain": [
       "     iterations  test-AUC-mean  test-AUC-std  test-Logloss-mean  \\\n",
       "0             0       0.818479      0.009480           0.685020   \n",
       "1             1       0.823848      0.010334           0.677216   \n",
       "2             2       0.831819      0.009265           0.668989   \n",
       "3             3       0.834559      0.008771           0.662008   \n",
       "4             4       0.834483      0.008218           0.654599   \n",
       "..          ...            ...           ...                ...   \n",
       "995         995       0.868703      0.007809           0.329986   \n",
       "996         996       0.868715      0.007781           0.329972   \n",
       "997         997       0.868718      0.007804           0.329972   \n",
       "998         998       0.868725      0.007777           0.329969   \n",
       "999         999       0.868729      0.007779           0.329964   \n",
       "\n",
       "     test-Logloss-std  train-Logloss-mean  train-Logloss-std  \n",
       "0            0.000209            0.684939           0.000262  \n",
       "1            0.000374            0.677055           0.000503  \n",
       "2            0.000472            0.668799           0.000751  \n",
       "3            0.001326            0.661753           0.000689  \n",
       "4            0.001429            0.654270           0.000898  \n",
       "..                ...                 ...                ...  \n",
       "995          0.016873            0.284097           0.003644  \n",
       "996          0.016875            0.284057           0.003631  \n",
       "997          0.016876            0.284003           0.003636  \n",
       "998          0.016855            0.283943           0.003613  \n",
       "999          0.016869            0.283886           0.003601  \n",
       "\n",
       "[1000 rows x 7 columns]"
      ]
     },
     "execution_count": 71,
     "metadata": {},
     "output_type": "execute_result"
    }
   ],
   "source": [
    "# в cv_data храниться информация по каждой итерации с достигнутым качеством:\n",
    "\n",
    "cv_data"
   ]
  },
  {
   "cell_type": "code",
   "execution_count": 72,
   "id": "de913f4a",
   "metadata": {},
   "outputs": [
    {
     "data": {
      "text/html": [
       "<div>\n",
       "<style scoped>\n",
       "    .dataframe tbody tr th:only-of-type {\n",
       "        vertical-align: middle;\n",
       "    }\n",
       "\n",
       "    .dataframe tbody tr th {\n",
       "        vertical-align: top;\n",
       "    }\n",
       "\n",
       "    .dataframe thead th {\n",
       "        text-align: right;\n",
       "    }\n",
       "</style>\n",
       "<table border=\"1\" class=\"dataframe\">\n",
       "  <thead>\n",
       "    <tr style=\"text-align: right;\">\n",
       "      <th></th>\n",
       "      <th>iterations</th>\n",
       "      <th>test-AUC-mean</th>\n",
       "      <th>test-AUC-std</th>\n",
       "      <th>test-Logloss-mean</th>\n",
       "      <th>test-Logloss-std</th>\n",
       "      <th>train-Logloss-mean</th>\n",
       "      <th>train-Logloss-std</th>\n",
       "    </tr>\n",
       "  </thead>\n",
       "  <tbody>\n",
       "    <tr>\n",
       "      <th>741</th>\n",
       "      <td>741</td>\n",
       "      <td>0.868822</td>\n",
       "      <td>0.007457</td>\n",
       "      <td>0.330818</td>\n",
       "      <td>0.017005</td>\n",
       "      <td>0.297428</td>\n",
       "      <td>0.004326</td>\n",
       "    </tr>\n",
       "  </tbody>\n",
       "</table>\n",
       "</div>"
      ],
      "text/plain": [
       "     iterations  test-AUC-mean  test-AUC-std  test-Logloss-mean  \\\n",
       "741         741       0.868822      0.007457           0.330818   \n",
       "\n",
       "     test-Logloss-std  train-Logloss-mean  train-Logloss-std  \n",
       "741          0.017005            0.297428           0.004326  "
      ]
     },
     "execution_count": 72,
     "metadata": {},
     "output_type": "execute_result"
    }
   ],
   "source": [
    "# найдем итерацию на котором среднее ROC AUC было максимальным:\n",
    "\n",
    "cv_data[cv_data['test-AUC-mean'] == cv_data['test-AUC-mean'].max()]"
   ]
  },
  {
   "cell_type": "code",
   "execution_count": 73,
   "id": "4d0af71d",
   "metadata": {},
   "outputs": [
    {
     "data": {
      "text/plain": [
       "741"
      ]
     },
     "execution_count": 73,
     "metadata": {},
     "output_type": "execute_result"
    }
   ],
   "source": [
    "# сохраним это в n_iters чтобы у нас было задано точное количество итераций которое надо делать\n",
    "\n",
    "n_iters = cv_data[cv_data['test-AUC-mean'] == cv_data['test-AUC-mean'].max()]['iterations'].values[0]\n",
    "\n",
    "n_iters"
   ]
  },
  {
   "cell_type": "code",
   "execution_count": 74,
   "id": "394b192d",
   "metadata": {},
   "outputs": [],
   "source": [
    "# теперь обучаем модель на выборке train_full с n_iters, которые получили выше:\n",
    "\n",
    "\n",
    "params_3 = {'verbose':100,\n",
    "            \n",
    "            'iterations': n_iters,\n",
    "                       \n",
    "            'eval_metric': 'AUC',\n",
    "            'loss_function': 'Logloss',\n",
    "            'random_seed': 42,\n",
    "           'learning_rate': 0.01}"
   ]
  },
  {
   "cell_type": "code",
   "execution_count": 75,
   "id": "ed1ecd20",
   "metadata": {},
   "outputs": [],
   "source": [
    "model_3_2 = CatBoostClassifier(**params_3)"
   ]
  },
  {
   "cell_type": "code",
   "execution_count": 76,
   "id": "cf22975f",
   "metadata": {},
   "outputs": [
    {
     "name": "stdout",
     "output_type": "stream",
     "text": [
      "0:\ttotal: 26.1ms\tremaining: 19.3s\n",
      "100:\ttotal: 3.02s\tremaining: 19.1s\n",
      "200:\ttotal: 5.79s\tremaining: 15.6s\n",
      "300:\ttotal: 8.46s\tremaining: 12.4s\n",
      "400:\ttotal: 11.2s\tremaining: 9.47s\n",
      "500:\ttotal: 13.8s\tremaining: 6.62s\n",
      "600:\ttotal: 16.6s\tremaining: 3.86s\n",
      "700:\ttotal: 19.3s\tremaining: 1.1s\n",
      "740:\ttotal: 20.3s\tremaining: 0us\n"
     ]
    },
    {
     "data": {
      "text/plain": [
       "<catboost.core.CatBoostClassifier at 0x2618a416080>"
      ]
     },
     "execution_count": 76,
     "metadata": {},
     "output_type": "execute_result"
    }
   ],
   "source": [
    "model_3_2.fit(train_full_data)"
   ]
  },
  {
   "cell_type": "code",
   "execution_count": null,
   "id": "75cf2929",
   "metadata": {},
   "outputs": [],
   "source": []
  },
  {
   "cell_type": "code",
   "execution_count": 77,
   "id": "e0398cf8",
   "metadata": {},
   "outputs": [],
   "source": [
    "# проверка модели на тесте:\n",
    "\n",
    "test['SCORE_YES_Cross_Validation'] = model_3_2.predict_proba(test[X])[:, 1]"
   ]
  },
  {
   "cell_type": "code",
   "execution_count": 78,
   "id": "b27359d1",
   "metadata": {},
   "outputs": [],
   "source": [
    "from sklearn.metrics import roc_auc_score"
   ]
  },
  {
   "cell_type": "code",
   "execution_count": 79,
   "id": "77b02444",
   "metadata": {},
   "outputs": [
    {
     "data": {
      "text/plain": [
       "0.8735839074822127"
      ]
     },
     "execution_count": 79,
     "metadata": {},
     "output_type": "execute_result"
    }
   ],
   "source": [
    "roc_auc_score(test['Exited'], test['SCORE_NO_Cross_Validation'])"
   ]
  },
  {
   "cell_type": "code",
   "execution_count": 80,
   "id": "8493f235",
   "metadata": {},
   "outputs": [
    {
     "data": {
      "text/plain": [
       "0.8737196364315009"
      ]
     },
     "execution_count": 80,
     "metadata": {},
     "output_type": "execute_result"
    }
   ],
   "source": [
    "roc_auc_score(test['Exited'], test['SCORE_YES_Cross_Validation'])"
   ]
  },
  {
   "cell_type": "code",
   "execution_count": null,
   "id": "e62a6cc7",
   "metadata": {},
   "outputs": [],
   "source": []
  },
  {
   "cell_type": "code",
   "execution_count": null,
   "id": "83cc4855",
   "metadata": {},
   "outputs": [],
   "source": []
  },
  {
   "cell_type": "markdown",
   "id": "05df5e56",
   "metadata": {},
   "source": [
    "# 28.05.2023"
   ]
  },
  {
   "cell_type": "code",
   "execution_count": null,
   "id": "7a6cb849",
   "metadata": {},
   "outputs": [],
   "source": []
  },
  {
   "cell_type": "markdown",
   "id": "41855a91",
   "metadata": {},
   "source": [
    "# 2. Подбор гипер параметров"
   ]
  },
  {
   "cell_type": "code",
   "execution_count": 84,
   "id": "0277648c",
   "metadata": {
    "scrolled": false
   },
   "outputs": [
    {
     "data": {
      "text/plain": [
       "{'nan_mode': 'Min',\n",
       " 'eval_metric': 'AUC',\n",
       " 'combinations_ctr': ['Borders:CtrBorderCount=15:CtrBorderType=Uniform:TargetBorderCount=1:TargetBorderType=MinEntropy:Prior=0/1:Prior=0.5/1:Prior=1/1',\n",
       "  'Counter:CtrBorderCount=15:CtrBorderType=Uniform:Prior=0/1'],\n",
       " 'iterations': 741,\n",
       " 'sampling_frequency': 'PerTree',\n",
       " 'fold_permutation_block': 0,\n",
       " 'leaf_estimation_method': 'Newton',\n",
       " 'counter_calc_method': 'SkipTest',\n",
       " 'grow_policy': 'SymmetricTree',\n",
       " 'penalties_coefficient': 1,\n",
       " 'boosting_type': 'Plain',\n",
       " 'model_shrink_mode': 'Constant',\n",
       " 'feature_border_type': 'GreedyLogSum',\n",
       " 'ctr_leaf_count_limit': 18446744073709551615,\n",
       " 'bayesian_matrix_reg': 0.10000000149011612,\n",
       " 'one_hot_max_size': 2,\n",
       " 'eval_fraction': 0,\n",
       " 'force_unit_auto_pair_weights': False,\n",
       " 'l2_leaf_reg': 3,\n",
       " 'random_strength': 1,\n",
       " 'rsm': 1,\n",
       " 'boost_from_average': False,\n",
       " 'max_ctr_complexity': 4,\n",
       " 'model_size_reg': 0.5,\n",
       " 'simple_ctr': ['Borders:CtrBorderCount=15:CtrBorderType=Uniform:TargetBorderCount=1:TargetBorderType=MinEntropy:Prior=0/1:Prior=0.5/1:Prior=1/1',\n",
       "  'Counter:CtrBorderCount=15:CtrBorderType=Uniform:Prior=0/1'],\n",
       " 'pool_metainfo_options': {'tags': {}},\n",
       " 'subsample': 0.800000011920929,\n",
       " 'use_best_model': False,\n",
       " 'class_names': [0, 1],\n",
       " 'random_seed': 42,\n",
       " 'depth': 6,\n",
       " 'ctr_target_border_count': 1,\n",
       " 'posterior_sampling': False,\n",
       " 'has_time': False,\n",
       " 'store_all_simple_ctr': False,\n",
       " 'border_count': 254,\n",
       " 'classes_count': 0,\n",
       " 'auto_class_weights': 'None',\n",
       " 'sparse_features_conflict_fraction': 0,\n",
       " 'leaf_estimation_backtracking': 'AnyImprovement',\n",
       " 'best_model_min_trees': 1,\n",
       " 'model_shrink_rate': 0,\n",
       " 'min_data_in_leaf': 1,\n",
       " 'loss_function': 'Logloss',\n",
       " 'learning_rate': 0.009999999776482582,\n",
       " 'score_function': 'Cosine',\n",
       " 'task_type': 'CPU',\n",
       " 'leaf_estimation_iterations': 10,\n",
       " 'bootstrap_type': 'MVS',\n",
       " 'max_leaves': 64,\n",
       " 'permutation_count': 4}"
      ]
     },
     "execution_count": 84,
     "metadata": {},
     "output_type": "execute_result"
    }
   ],
   "source": [
    "# catboost делает всё с заданными параметрами, но также можно настраивать:\n",
    "\n",
    "\n",
    "# чтобы вывести все параметры: (это и есть гипер параметры)\n",
    "\n",
    "\n",
    "model_3_2.get_all_params()"
   ]
  },
  {
   "cell_type": "code",
   "execution_count": null,
   "id": "14c2dd4b",
   "metadata": {},
   "outputs": [],
   "source": [
    "# как работать с гипер параметрами:"
   ]
  },
  {
   "cell_type": "code",
   "execution_count": 90,
   "id": "adcf2d49",
   "metadata": {},
   "outputs": [],
   "source": [
    "# сначала определяем параметры, которые менять не будем:\n",
    "\n",
    "params = {'verbose':100,           \n",
    "                       \n",
    "            'eval_metric': 'AUC',\n",
    "            'loss_function': 'Logloss',\n",
    "            'random_seed': 42}"
   ]
  },
  {
   "cell_type": "code",
   "execution_count": 94,
   "id": "4a0cb1e8",
   "metadata": {},
   "outputs": [],
   "source": [
    "model = CatBoostClassifier(**params)"
   ]
  },
  {
   "cell_type": "code",
   "execution_count": 95,
   "id": "aa30cdd2",
   "metadata": {},
   "outputs": [],
   "source": [
    "# задаем сетку параметров которые надо перебирать, подбирая наилучшую модель:\n",
    "\n",
    "grid = {'learning_rate': [0.01, 0.1],\n",
    "       'depth': [5, 6]}"
   ]
  },
  {
   "cell_type": "code",
   "execution_count": 96,
   "id": "340ea4fb",
   "metadata": {
    "scrolled": false
   },
   "outputs": [
    {
     "name": "stdout",
     "output_type": "stream",
     "text": [
      "0:\ttest: 0.7811641\tbest: 0.7811641 (0)\ttotal: 20.2ms\tremaining: 20.2s\n",
      "100:\ttest: 0.8435462\tbest: 0.8435769 (99)\ttotal: 2.43s\tremaining: 21.6s\n",
      "200:\ttest: 0.8508923\tbest: 0.8508923 (200)\ttotal: 4.72s\tremaining: 18.8s\n",
      "300:\ttest: 0.8547897\tbest: 0.8547897 (300)\ttotal: 6.99s\tremaining: 16.2s\n",
      "400:\ttest: 0.8569385\tbest: 0.8569385 (400)\ttotal: 9.5s\tremaining: 14.2s\n",
      "500:\ttest: 0.8576410\tbest: 0.8576410 (500)\ttotal: 12.6s\tremaining: 12.6s\n",
      "600:\ttest: 0.8585538\tbest: 0.8585538 (600)\ttotal: 15.8s\tremaining: 10.5s\n",
      "700:\ttest: 0.8590923\tbest: 0.8591487 (694)\ttotal: 18.9s\tremaining: 8.06s\n",
      "800:\ttest: 0.8593590\tbest: 0.8595564 (749)\ttotal: 21.9s\tremaining: 5.43s\n",
      "900:\ttest: 0.8593282\tbest: 0.8595564 (749)\ttotal: 24.4s\tremaining: 2.68s\n",
      "999:\ttest: 0.8593897\tbest: 0.8595974 (986)\ttotal: 26.8s\tremaining: 0us\n",
      "\n",
      "bestTest = 0.8595974359\n",
      "bestIteration = 986\n",
      "\n",
      "Metric AUC is not calculated on train by default. To calculate this metric on train, add hints=skip_train~false to metric parameters.\n",
      "0:\ttest: 0.7811641\tbest: 0.7811641 (0)\ttotal: 22.2ms\tremaining: 22.2s\n",
      "100:\ttest: 0.8601513\tbest: 0.8604077 (89)\ttotal: 2.42s\tremaining: 21.5s\n",
      "200:\ttest: 0.8557769\tbest: 0.8609103 (111)\ttotal: 5.05s\tremaining: 20.1s\n",
      "300:\ttest: 0.8521564\tbest: 0.8609103 (111)\ttotal: 7.71s\tremaining: 17.9s\n",
      "400:\ttest: 0.8456949\tbest: 0.8609103 (111)\ttotal: 10.5s\tremaining: 15.6s\n",
      "500:\ttest: 0.8432923\tbest: 0.8609103 (111)\ttotal: 13.1s\tremaining: 13.1s\n",
      "600:\ttest: 0.8407359\tbest: 0.8609103 (111)\ttotal: 15.8s\tremaining: 10.5s\n",
      "700:\ttest: 0.8388282\tbest: 0.8609103 (111)\ttotal: 18.4s\tremaining: 7.86s\n",
      "800:\ttest: 0.8358282\tbest: 0.8609103 (111)\ttotal: 21.1s\tremaining: 5.25s\n",
      "900:\ttest: 0.8356949\tbest: 0.8609103 (111)\ttotal: 23.7s\tremaining: 2.6s\n",
      "999:\ttest: 0.8335590\tbest: 0.8609103 (111)\ttotal: 27.3s\tremaining: 0us\n",
      "\n",
      "bestTest = 0.8609102564\n",
      "bestIteration = 111\n",
      "\n",
      "Metric AUC is not calculated on train by default. To calculate this metric on train, add hints=skip_train~false to metric parameters.\n",
      "0:\ttest: 0.8068872\tbest: 0.8068872 (0)\ttotal: 36.5ms\tremaining: 36.4s\n",
      "100:\ttest: 0.8455590\tbest: 0.8455590 (100)\ttotal: 3.58s\tremaining: 31.9s\n",
      "200:\ttest: 0.8530923\tbest: 0.8530923 (200)\ttotal: 6.66s\tremaining: 26.5s\n",
      "300:\ttest: 0.8563026\tbest: 0.8563410 (292)\ttotal: 9.66s\tremaining: 22.4s\n",
      "400:\ttest: 0.8578000\tbest: 0.8578385 (398)\ttotal: 12.6s\tremaining: 18.9s\n",
      "500:\ttest: 0.8583872\tbest: 0.8584821 (476)\ttotal: 15.6s\tremaining: 15.5s\n",
      "600:\ttest: 0.8588821\tbest: 0.8589487 (593)\ttotal: 18.4s\tremaining: 12.2s\n",
      "700:\ttest: 0.8587308\tbest: 0.8590282 (605)\ttotal: 21.7s\tremaining: 9.26s\n",
      "800:\ttest: 0.8584744\tbest: 0.8590282 (605)\ttotal: 24.7s\tremaining: 6.13s\n",
      "900:\ttest: 0.8583590\tbest: 0.8590282 (605)\ttotal: 27.6s\tremaining: 3.03s\n",
      "999:\ttest: 0.8581103\tbest: 0.8590282 (605)\ttotal: 30.5s\tremaining: 0us\n",
      "\n",
      "bestTest = 0.8590282051\n",
      "bestIteration = 605\n",
      "\n",
      "Metric AUC is not calculated on train by default. To calculate this metric on train, add hints=skip_train~false to metric parameters.\n",
      "0:\ttest: 0.8068872\tbest: 0.8068872 (0)\ttotal: 25.8ms\tremaining: 25.8s\n",
      "100:\ttest: 0.8554795\tbest: 0.8574051 (69)\ttotal: 3.13s\tremaining: 27.8s\n",
      "200:\ttest: 0.8486359\tbest: 0.8574051 (69)\ttotal: 6.37s\tremaining: 25.3s\n",
      "300:\ttest: 0.8455051\tbest: 0.8574051 (69)\ttotal: 9.33s\tremaining: 21.7s\n",
      "400:\ttest: 0.8399846\tbest: 0.8574051 (69)\ttotal: 12.5s\tremaining: 18.7s\n",
      "500:\ttest: 0.8388077\tbest: 0.8574051 (69)\ttotal: 15.8s\tremaining: 15.8s\n",
      "600:\ttest: 0.8364026\tbest: 0.8574051 (69)\ttotal: 19s\tremaining: 12.6s\n",
      "700:\ttest: 0.8340974\tbest: 0.8574051 (69)\ttotal: 22.1s\tremaining: 9.41s\n",
      "800:\ttest: 0.8320769\tbest: 0.8574051 (69)\ttotal: 25.3s\tremaining: 6.29s\n",
      "900:\ttest: 0.8298923\tbest: 0.8574051 (69)\ttotal: 28.6s\tremaining: 3.14s\n",
      "999:\ttest: 0.8302846\tbest: 0.8574051 (69)\ttotal: 31.5s\tremaining: 0us\n",
      "\n",
      "bestTest = 0.8574051282\n",
      "bestIteration = 69\n",
      "\n",
      "Metric AUC is not calculated on train by default. To calculate this metric on train, add hints=skip_train~false to metric parameters.\n",
      "Training on fold [0/3]\n",
      "0:\ttest: 0.8023131\tbest: 0.8023131 (0)\ttotal: 23.2ms\tremaining: 23.1s\n",
      "100:\ttest: 0.8696792\tbest: 0.8705039 (90)\ttotal: 2.62s\tremaining: 23.3s\n",
      "200:\ttest: 0.8691616\tbest: 0.8705039 (90)\ttotal: 5.1s\tremaining: 20.3s\n",
      "300:\ttest: 0.8649927\tbest: 0.8705039 (90)\ttotal: 7.58s\tremaining: 17.6s\n",
      "400:\ttest: 0.8618130\tbest: 0.8705039 (90)\ttotal: 10.3s\tremaining: 15.4s\n",
      "500:\ttest: 0.8585372\tbest: 0.8705039 (90)\ttotal: 13s\tremaining: 12.9s\n",
      "600:\ttest: 0.8561217\tbest: 0.8705039 (90)\ttotal: 15.4s\tremaining: 10.3s\n",
      "700:\ttest: 0.8537443\tbest: 0.8705039 (90)\ttotal: 18.2s\tremaining: 7.77s\n",
      "800:\ttest: 0.8515755\tbest: 0.8705039 (90)\ttotal: 20.7s\tremaining: 5.15s\n",
      "900:\ttest: 0.8499874\tbest: 0.8705039 (90)\ttotal: 23.4s\tremaining: 2.58s\n",
      "999:\ttest: 0.8487870\tbest: 0.8705039 (90)\ttotal: 25.8s\tremaining: 0us\n",
      "\n",
      "bestTest = 0.8705039396\n",
      "bestIteration = 90\n",
      "\n",
      "Training on fold [1/3]\n",
      "0:\ttest: 0.7921723\tbest: 0.7921723 (0)\ttotal: 21.4ms\tremaining: 21.3s\n",
      "100:\ttest: 0.8705982\tbest: 0.8712713 (94)\ttotal: 2.48s\tremaining: 22.1s\n",
      "200:\ttest: 0.8665098\tbest: 0.8712713 (94)\ttotal: 5.09s\tremaining: 20.2s\n",
      "300:\ttest: 0.8628075\tbest: 0.8712713 (94)\ttotal: 7.83s\tremaining: 18.2s\n",
      "400:\ttest: 0.8613719\tbest: 0.8712713 (94)\ttotal: 10.8s\tremaining: 16.2s\n",
      "500:\ttest: 0.8585821\tbest: 0.8712713 (94)\ttotal: 13.4s\tremaining: 13.4s\n",
      "600:\ttest: 0.8555946\tbest: 0.8712713 (94)\ttotal: 15.9s\tremaining: 10.6s\n",
      "700:\ttest: 0.8536896\tbest: 0.8712713 (94)\ttotal: 18.4s\tremaining: 7.86s\n",
      "800:\ttest: 0.8512494\tbest: 0.8712713 (94)\ttotal: 21s\tremaining: 5.21s\n",
      "900:\ttest: 0.8498849\tbest: 0.8712713 (94)\ttotal: 23.7s\tremaining: 2.6s\n",
      "999:\ttest: 0.8473563\tbest: 0.8712713 (94)\ttotal: 26.3s\tremaining: 0us\n",
      "\n",
      "bestTest = 0.8712713255\n",
      "bestIteration = 94\n",
      "\n",
      "Training on fold [2/3]\n",
      "0:\ttest: 0.7876129\tbest: 0.7876129 (0)\ttotal: 20.6ms\tremaining: 20.6s\n",
      "100:\ttest: 0.8656068\tbest: 0.8656805 (98)\ttotal: 2.35s\tremaining: 21s\n",
      "200:\ttest: 0.8618255\tbest: 0.8657300 (108)\ttotal: 4.96s\tremaining: 19.7s\n",
      "300:\ttest: 0.8583852\tbest: 0.8657300 (108)\ttotal: 7.95s\tremaining: 18.5s\n",
      "400:\ttest: 0.8567639\tbest: 0.8657300 (108)\ttotal: 10.4s\tremaining: 15.6s\n",
      "500:\ttest: 0.8542379\tbest: 0.8657300 (108)\ttotal: 13s\tremaining: 12.9s\n",
      "600:\ttest: 0.8524682\tbest: 0.8657300 (108)\ttotal: 16.1s\tremaining: 10.7s\n",
      "700:\ttest: 0.8516927\tbest: 0.8657300 (108)\ttotal: 18.6s\tremaining: 7.92s\n",
      "800:\ttest: 0.8481899\tbest: 0.8657300 (108)\ttotal: 21.1s\tremaining: 5.23s\n",
      "900:\ttest: 0.8458981\tbest: 0.8657300 (108)\ttotal: 24.4s\tremaining: 2.69s\n",
      "999:\ttest: 0.8452310\tbest: 0.8657300 (108)\ttotal: 27.7s\tremaining: 0us\n",
      "\n",
      "bestTest = 0.8657299818\n",
      "bestIteration = 108\n",
      "\n"
     ]
    }
   ],
   "source": [
    "# запускаем модель которая перебирает все заданные параметры\n",
    "# ОНА РАБОТАЕТ ОЧЕНЬ ДОЛГО - НЕ ЗАПУСКАЙ\n",
    "# result = model.grid_search(grid, train_full_data, verbose = False)"
   ]
  },
  {
   "cell_type": "code",
   "execution_count": null,
   "id": "4dd685a0",
   "metadata": {},
   "outputs": [],
   "source": []
  },
  {
   "cell_type": "code",
   "execution_count": 97,
   "id": "c7ede3da",
   "metadata": {},
   "outputs": [
    {
     "data": {
      "text/plain": [
       "{'depth': 5, 'learning_rate': 0.1}"
      ]
     },
     "execution_count": 97,
     "metadata": {},
     "output_type": "execute_result"
    }
   ],
   "source": [
    "# получаем лучшие параметры, которые были найдены в результате такого перебора:\n",
    "\n",
    "result['params']"
   ]
  },
  {
   "cell_type": "code",
   "execution_count": 100,
   "id": "05a8ff68",
   "metadata": {},
   "outputs": [
    {
     "data": {
      "text/plain": [
       "0.8689660773549619"
      ]
     },
     "execution_count": 100,
     "metadata": {},
     "output_type": "execute_result"
    }
   ],
   "source": [
    "# также можем посмотреть какое там было получено качество:\n",
    "\n",
    "pd.DataFrame(result['cv_results'])['test-AUC-mean'].max()"
   ]
  },
  {
   "cell_type": "code",
   "execution_count": null,
   "id": "598da7e9",
   "metadata": {},
   "outputs": [],
   "source": []
  },
  {
   "cell_type": "markdown",
   "id": "eee3cf26",
   "metadata": {},
   "source": [
    "# 3. Принципы sklearn"
   ]
  },
  {
   "cell_type": "code",
   "execution_count": null,
   "id": "0d7131f5",
   "metadata": {},
   "outputs": [],
   "source": [
    "# есть много туториалов, для CatBoost не так важно, т.к. делается по-другому"
   ]
  },
  {
   "cell_type": "code",
   "execution_count": null,
   "id": "2ac0427c",
   "metadata": {},
   "outputs": [],
   "source": [
    "# https://towardsdatascience.com/how-to-use-sklearn-pipelines-for-ridiculously-neat-code-a61ab66ca90d"
   ]
  },
  {
   "cell_type": "markdown",
   "id": "03c868f6",
   "metadata": {},
   "source": [
    "# 4. Предобработка и фиче инжинириг "
   ]
  },
  {
   "cell_type": "code",
   "execution_count": null,
   "id": "02bb72f1",
   "metadata": {},
   "outputs": [],
   "source": [
    "# создание новых фич на основании существующих\n",
    "\n",
    "# например фича скорость - это фича расстояние поделить на фичу время"
   ]
  },
  {
   "cell_type": "code",
   "execution_count": null,
   "id": "8dda3204",
   "metadata": {},
   "outputs": [],
   "source": []
  },
  {
   "cell_type": "markdown",
   "id": "33f9cdbb",
   "metadata": {},
   "source": [
    "# 5. Калибровка"
   ]
  },
  {
   "cell_type": "code",
   "execution_count": null,
   "id": "05794525",
   "metadata": {},
   "outputs": [],
   "source": [
    "# при классификации мы на выходе получаем SCORE \n",
    "\n",
    "# SCORE может соответствовать вероятности, а может и не соответствовать\n",
    "\n",
    "# для соответствия SCORE вероятности мы должны делать калибровку "
   ]
  },
  {
   "cell_type": "code",
   "execution_count": null,
   "id": "49362085",
   "metadata": {},
   "outputs": [],
   "source": [
    "# https://www.kaggle.com/code/residentmario/notes-on-classification-probability-calibration"
   ]
  },
  {
   "cell_type": "code",
   "execution_count": null,
   "id": "64f42a71",
   "metadata": {},
   "outputs": [],
   "source": [
    "https://catboost.ai/en/docs/concepts/quantization\n",
    "\n",
    "https://www.kaggle.com/learn/feature-engineering"
   ]
  },
  {
   "cell_type": "markdown",
   "id": "96484cc7",
   "metadata": {},
   "source": [
    "# 6. CatBoost текст и эмбеддинги"
   ]
  },
  {
   "cell_type": "code",
   "execution_count": null,
   "id": "17bb0d64",
   "metadata": {},
   "outputs": [],
   "source": [
    "# встроенная обработка текстов в CatBoost - встроенный пересчет текста в фичи\n",
    "\n",
    "# для работы с текстом просто достаточно:\n",
    "\n",
    "text_features = text_features"
   ]
  },
  {
   "cell_type": "code",
   "execution_count": null,
   "id": "41db9a03",
   "metadata": {},
   "outputs": [],
   "source": [
    "https://github.com/catboost/catboost/blob/master/catboost/tutorials/events/2020_06_04_catboost_tutorial/text_features.ipynb\n",
    "\n",
    "https://youtu.be/ZaP5qFSIcIw?t=3802"
   ]
  },
  {
   "cell_type": "code",
   "execution_count": null,
   "id": "2e020cfe",
   "metadata": {},
   "outputs": [],
   "source": []
  },
  {
   "cell_type": "code",
   "execution_count": null,
   "id": "ea728227",
   "metadata": {},
   "outputs": [],
   "source": [
    "# эмбеддинги это фичи которые получаются из картинок\n",
    "\n",
    "# скармливаем картинку - на выходе получаем строчку фичей"
   ]
  },
  {
   "cell_type": "code",
   "execution_count": null,
   "id": "7ee91f9c",
   "metadata": {},
   "outputs": [],
   "source": [
    "# !!! https://github.com/glebmikha/ds-course/blob/main/08_useful_stuff.ipynb !!!"
   ]
  },
  {
   "cell_type": "code",
   "execution_count": null,
   "id": "ad50d84d",
   "metadata": {},
   "outputs": [],
   "source": [
    "Прикладное машинное обучение с помощью Scikit-Learn, Keras и TensorFlow: концепции, инструменты и техники для создания интеллектуальных систем, 2-е издание | Жерон Орельен\n",
    "Задачи на kaggle, вот список для начинающих\n",
    "Откликайся на вакансии и решай тестовые. Можешь смотреть тестовые по дс у меня на канале\n",
    "Мой курс по статистике\n",
    "Задачи по pandas и sql на StrataScratch\n",
    "Мой курс по SQL\n",
    "Задачи на itresume\n",
    "Задачи на Checkio\n",
    "Задачи на Leetcode вот по этому списку\n",
    "Мой плейлист по основам Linux\n",
    "Основы Git\n",
    "Основы докера\n",
    "Основы веб-сервисов"
   ]
  },
  {
   "cell_type": "code",
   "execution_count": null,
   "id": "909c5469",
   "metadata": {},
   "outputs": [],
   "source": [
    "# !!! https://github.com/glebmikha/ds-course/blob/main/08_useful_stuff.ipynb !!!"
   ]
  },
  {
   "cell_type": "code",
   "execution_count": null,
   "id": "73494a94",
   "metadata": {},
   "outputs": [],
   "source": []
  },
  {
   "cell_type": "code",
   "execution_count": null,
   "id": "bd547ded",
   "metadata": {},
   "outputs": [],
   "source": []
  },
  {
   "cell_type": "code",
   "execution_count": null,
   "id": "d4aba4a3",
   "metadata": {},
   "outputs": [],
   "source": []
  },
  {
   "cell_type": "code",
   "execution_count": null,
   "id": "6c918dc4",
   "metadata": {},
   "outputs": [],
   "source": []
  }
 ],
 "metadata": {
  "kernelspec": {
   "display_name": "Python 3 (ipykernel)",
   "language": "python",
   "name": "python3"
  },
  "language_info": {
   "codemirror_mode": {
    "name": "ipython",
    "version": 3
   },
   "file_extension": ".py",
   "mimetype": "text/x-python",
   "name": "python",
   "nbconvert_exporter": "python",
   "pygments_lexer": "ipython3",
   "version": "3.10.0"
  }
 },
 "nbformat": 4,
 "nbformat_minor": 5
}
