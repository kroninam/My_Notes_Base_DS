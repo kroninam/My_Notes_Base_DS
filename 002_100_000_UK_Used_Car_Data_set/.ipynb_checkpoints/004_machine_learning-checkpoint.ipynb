{
 "cells": [
  {
   "cell_type": "code",
   "execution_count": 24,
   "id": "e5d47443",
   "metadata": {},
   "outputs": [],
   "source": [
    "import numpy as np\n",
    "import pandas as pd\n",
    "from sklearn.model_selection import train_test_split"
   ]
  },
  {
   "cell_type": "code",
   "execution_count": null,
   "id": "356ffcd5",
   "metadata": {},
   "outputs": [],
   "source": [
    "# https://www.kaggle.com/datasets/abdelrahmankhalil/100000-uk-used-car-data-set"
   ]
  },
  {
   "cell_type": "code",
   "execution_count": 20,
   "id": "df59fefa",
   "metadata": {},
   "outputs": [],
   "source": [
    "df = pd.read_csv('unzipped_archive/bmw.csv')"
   ]
  },
  {
   "cell_type": "code",
   "execution_count": null,
   "id": "51cdbe45",
   "metadata": {},
   "outputs": [],
   "source": []
  },
  {
   "cell_type": "markdown",
   "id": "b8ef5fb9",
   "metadata": {},
   "source": [
    "# Валидационная выборка"
   ]
  },
  {
   "cell_type": "code",
   "execution_count": 28,
   "id": "2cf970cf",
   "metadata": {},
   "outputs": [],
   "source": [
    "# train = 60%, validate = 20%, test = 20%\n",
    "\n",
    "# сначала определяем train = 60%:\n",
    "\n",
    "train, test = train_test_split(df, train_size = 0.6, random_state = 42)"
   ]
  },
  {
   "cell_type": "code",
   "execution_count": 30,
   "id": "952db216",
   "metadata": {},
   "outputs": [
    {
     "data": {
      "text/plain": [
       "0.5999443465355718"
      ]
     },
     "execution_count": 30,
     "metadata": {},
     "output_type": "execute_result"
    }
   ],
   "source": [
    "len(train) / len(df)"
   ]
  },
  {
   "cell_type": "code",
   "execution_count": 31,
   "id": "4a28dd49",
   "metadata": {},
   "outputs": [
    {
     "data": {
      "text/plain": [
       "0.4000556534644282"
      ]
     },
     "execution_count": 31,
     "metadata": {},
     "output_type": "execute_result"
    }
   ],
   "source": [
    "len(test) / len(df)"
   ]
  },
  {
   "cell_type": "code",
   "execution_count": null,
   "id": "75a53e9a",
   "metadata": {},
   "outputs": [],
   "source": []
  },
  {
   "cell_type": "code",
   "execution_count": 32,
   "id": "152ca2fc",
   "metadata": {},
   "outputs": [],
   "source": [
    "# теперь определяем валидационную выборку и test - как 50% на 50% (от теста)\n",
    " \n",
    "val, test = train_test_split(test, train_size = 0.5, random_state = 42)"
   ]
  },
  {
   "cell_type": "code",
   "execution_count": 33,
   "id": "c753452c",
   "metadata": {},
   "outputs": [
    {
     "data": {
      "text/plain": [
       "0.19998144884519062"
      ]
     },
     "execution_count": 33,
     "metadata": {},
     "output_type": "execute_result"
    }
   ],
   "source": [
    "len(val) / len(df)"
   ]
  },
  {
   "cell_type": "code",
   "execution_count": 34,
   "id": "785f3661",
   "metadata": {},
   "outputs": [
    {
     "data": {
      "text/plain": [
       "0.20007420461923756"
      ]
     },
     "execution_count": 34,
     "metadata": {},
     "output_type": "execute_result"
    }
   ],
   "source": [
    "len(test) / len(df)"
   ]
  },
  {
   "cell_type": "code",
   "execution_count": null,
   "id": "97ac6c3a",
   "metadata": {},
   "outputs": [],
   "source": []
  },
  {
   "cell_type": "markdown",
   "id": "84b6c232",
   "metadata": {},
   "source": [
    "# Список фичей"
   ]
  },
  {
   "cell_type": "code",
   "execution_count": null,
   "id": "1cf3ba80",
   "metadata": {},
   "outputs": [],
   "source": [
    "# Разновидности фичей:\n",
    "    \n",
    "# непрерывные (числовые) фичи = ['year', 'mileage', 'tax', 'mpg', 'engineSize']\n",
    "\n",
    "# и \n",
    "\n",
    "# категориальные фичи = ['model', 'transmission', 'fuelType']"
   ]
  },
  {
   "cell_type": "code",
   "execution_count": 35,
   "id": "c5a16003",
   "metadata": {},
   "outputs": [
    {
     "data": {
      "text/plain": [
       "Index(['model', 'year', 'price', 'transmission', 'mileage', 'fuelType', 'tax',\n",
       "       'mpg', 'engineSize'],\n",
       "      dtype='object')"
      ]
     },
     "execution_count": 35,
     "metadata": {},
     "output_type": "execute_result"
    }
   ],
   "source": [
    "# все наши признаки: (включая целевой признак - его надо убрать из фичей)\n",
    "\n",
    "train.columns"
   ]
  },
  {
   "cell_type": "code",
   "execution_count": 36,
   "id": "7eff23ce",
   "metadata": {},
   "outputs": [],
   "source": [
    "# список фичей сохраняем в переменную Х (x-большое):\n",
    "\n",
    "X = ['model', 'year', 'transmission', 'mileage', 'fuelType', 'tax', 'mpg', 'engineSize']"
   ]
  },
  {
   "cell_type": "code",
   "execution_count": 37,
   "id": "0069b0fb",
   "metadata": {},
   "outputs": [],
   "source": [
    "# целевой признак сохраняем в переменную y (y-маленькое):\n",
    "\n",
    "y = ['price']"
   ]
  },
  {
   "cell_type": "code",
   "execution_count": 38,
   "id": "48f15fa7",
   "metadata": {},
   "outputs": [],
   "source": [
    "# определяем категориальные фичи:\n",
    "\n",
    "cat_features = ['model', 'transmission', 'fuelType']"
   ]
  },
  {
   "cell_type": "code",
   "execution_count": null,
   "id": "c8939dff",
   "metadata": {},
   "outputs": [],
   "source": []
  },
  {
   "cell_type": "code",
   "execution_count": null,
   "id": "d5523c90",
   "metadata": {},
   "outputs": [],
   "source": []
  },
  {
   "cell_type": "code",
   "execution_count": null,
   "id": "9e4783ef",
   "metadata": {},
   "outputs": [],
   "source": []
  },
  {
   "cell_type": "code",
   "execution_count": null,
   "id": "32f8b9f0",
   "metadata": {},
   "outputs": [],
   "source": []
  },
  {
   "cell_type": "code",
   "execution_count": null,
   "id": "6ff1cda9",
   "metadata": {},
   "outputs": [],
   "source": []
  },
  {
   "cell_type": "code",
   "execution_count": null,
   "id": "b63ceb36",
   "metadata": {},
   "outputs": [],
   "source": []
  }
 ],
 "metadata": {
  "kernelspec": {
   "display_name": "Python 3 (ipykernel)",
   "language": "python",
   "name": "python3"
  },
  "language_info": {
   "codemirror_mode": {
    "name": "ipython",
    "version": 3
   },
   "file_extension": ".py",
   "mimetype": "text/x-python",
   "name": "python",
   "nbconvert_exporter": "python",
   "pygments_lexer": "ipython3",
   "version": "3.10.0"
  }
 },
 "nbformat": 4,
 "nbformat_minor": 5
}
